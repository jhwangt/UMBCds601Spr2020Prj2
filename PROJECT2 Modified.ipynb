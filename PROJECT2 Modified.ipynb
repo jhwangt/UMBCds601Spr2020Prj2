{
 "cells": [
  {
   "cell_type": "markdown",
   "metadata": {},
   "source": [
    "# PROJECT2"
   ]
  },
  {
   "cell_type": "markdown",
   "metadata": {},
   "source": [
    "### PROJECT PROPOSAL"
   ]
  },
  {
   "cell_type": "markdown",
   "metadata": {},
   "source": [
    "### DATA SOURCE LOCATION: \n",
    "\n",
    "#### Data is free and can be accessed from the link https://catalog.data.gov/dataset/patient-survey-ich-cahps.\n",
    "\n",
    "#### Data consists of 7579 rows and 47 columns."
   ]
  },
  {
   "cell_type": "markdown",
   "metadata": {},
   "source": [
    "### Data Description:"
   ]
  },
  {
   "cell_type": "markdown",
   "metadata": {},
   "source": [
    "* n-Center Hemodialysis Facilites Patient evaluations from the In-Center Hemodialysis Consumer Assessment of Healthcare Providers and Systems (ICH-CAHPS) Survey. The ICH-CAHPS Survey is a national, standardised survey of in-center hemodialysis patients about their experiences with the facility, facility doctors and staff, and care received."
   ]
  },
  {
   "cell_type": "markdown",
   "metadata": {},
   "source": [
    "### SOME HYPOTHESIS ON THE DATA:\n",
    "\n",
    "* 1. IS THE STAR RATING FOR DIALYSIS CENTER FACILITIES HAS A HIGHLIKELYHOOD OF ABOVE 3 ?\n",
    "* 2. IS THE STAR RATING FOR DIALYSIS CENTER STAFF IS ABOVE 3 ?\n",
    "* 3. IS THE STAR RATING FACILITIES FOR NEPHROLOGISTS FOR COMMUNICATION AND CARE IS ABOVE 3?\n",
    "* 4. IS STAR RATING FOR PROVIDING INFORMATION TO PATIENTS IS ABOVE 3 ?\n",
    "* 5. IS THE STAR RATING FOR QUALITY OF DIALYSIS CENTER FOR CARE AND OPERATIONS IS ABOVE 3 ?\n",
    "* 6. IS THE STAR RATING FOR NEPHROLOGIST IS ABOVE 3 ?"
   ]
  },
  {
   "cell_type": "code",
   "execution_count": 98,
   "metadata": {},
   "outputs": [],
   "source": [
    "# including the required libraries\n",
    "\n",
    "import pandas as pd\n",
    "import numpy as np\n",
    "import seaborn as sns # for visualisation\n",
    "import matplotlib.pyplot as plt # for visualisation\n",
    "from pandas.plotting import lag_plot # for visualisation\n",
    "import numpy as np\n",
    "%matplotlib inline \n",
    "sns.set(color_codes=True)"
   ]
  },
  {
   "cell_type": "code",
   "execution_count": 99,
   "metadata": {},
   "outputs": [],
   "source": [
    "# reading the data frame \n",
    "\n",
    "df = pd.read_csv('Patient_survey__ICH_CAHPS_.csv')"
   ]
  },
  {
   "cell_type": "markdown",
   "metadata": {},
   "source": [
    "### EXPLORATORY DATA ANALYSIS"
   ]
  },
  {
   "cell_type": "markdown",
   "metadata": {},
   "source": [
    "#### 1. REPLACING THE STRING WITH NA"
   ]
  },
  {
   "cell_type": "code",
   "execution_count": 100,
   "metadata": {},
   "outputs": [],
   "source": [
    "df = df.replace('Not Available', np.NaN)"
   ]
  },
  {
   "cell_type": "markdown",
   "metadata": {},
   "source": [
    "#### 2. RENAMING THE NECESSARY COLUMNS"
   ]
  },
  {
   "cell_type": "code",
   "execution_count": 101,
   "metadata": {},
   "outputs": [
    {
     "data": {
      "text/html": [
       "<div>\n",
       "<style scoped>\n",
       "    .dataframe tbody tr th:only-of-type {\n",
       "        vertical-align: middle;\n",
       "    }\n",
       "\n",
       "    .dataframe tbody tr th {\n",
       "        vertical-align: top;\n",
       "    }\n",
       "\n",
       "    .dataframe thead th {\n",
       "        text-align: right;\n",
       "    }\n",
       "</style>\n",
       "<table border=\"1\" class=\"dataframe\">\n",
       "  <thead>\n",
       "    <tr style=\"text-align: right;\">\n",
       "      <th></th>\n",
       "      <th>Provider number</th>\n",
       "      <th>Network</th>\n",
       "      <th>Facility name</th>\n",
       "      <th>Address line 1</th>\n",
       "      <th>Address line 2</th>\n",
       "      <th>City</th>\n",
       "      <th>State</th>\n",
       "      <th>Zip</th>\n",
       "      <th>County</th>\n",
       "      <th>Phone number</th>\n",
       "      <th>...</th>\n",
       "      <th>Linearized score of rating of the dialysis center staff</th>\n",
       "      <th>Star_rating_dialysis_center_staff</th>\n",
       "      <th>Lower box percent of patients-rating of the dialysis facility</th>\n",
       "      <th>Middle box percent of patients-rating of the dialysis facility</th>\n",
       "      <th>Top box percent of patients-rating of the dialysis facility</th>\n",
       "      <th>Linearized score of rating of the dialysis facility</th>\n",
       "      <th>Star_rating_dialysis_facility</th>\n",
       "      <th>Total number of completed interviews from the Fall and Spring Surveys</th>\n",
       "      <th>Overall ICH CAHPS Survey of patients’ experiences star rating</th>\n",
       "      <th>ICH-CAHPS survey response rate</th>\n",
       "    </tr>\n",
       "  </thead>\n",
       "  <tbody>\n",
       "    <tr>\n",
       "      <td>0</td>\n",
       "      <td>12306</td>\n",
       "      <td>8</td>\n",
       "      <td>CHILDRENS HOSPITAL DIALYSIS</td>\n",
       "      <td>1600 7TH AVENUE SOUTH</td>\n",
       "      <td>NaN</td>\n",
       "      <td>BIRMINGHAM</td>\n",
       "      <td>AL</td>\n",
       "      <td>35233</td>\n",
       "      <td>JEFFERSON</td>\n",
       "      <td>(205) 638-9275</td>\n",
       "      <td>...</td>\n",
       "      <td>NaN</td>\n",
       "      <td>NaN</td>\n",
       "      <td>NaN</td>\n",
       "      <td>NaN</td>\n",
       "      <td>NaN</td>\n",
       "      <td>NaN</td>\n",
       "      <td>NaN</td>\n",
       "      <td>NaN</td>\n",
       "      <td>NaN</td>\n",
       "      <td>NaN</td>\n",
       "    </tr>\n",
       "    <tr>\n",
       "      <td>1</td>\n",
       "      <td>12500</td>\n",
       "      <td>8</td>\n",
       "      <td>FMC CAPITOL CITY</td>\n",
       "      <td>255 S JACKSON STREET</td>\n",
       "      <td>NaN</td>\n",
       "      <td>MONTGOMERY</td>\n",
       "      <td>AL</td>\n",
       "      <td>36104</td>\n",
       "      <td>MONTGOMERY</td>\n",
       "      <td>(334) 263-1028</td>\n",
       "      <td>...</td>\n",
       "      <td>76</td>\n",
       "      <td>1</td>\n",
       "      <td>20</td>\n",
       "      <td>28</td>\n",
       "      <td>52</td>\n",
       "      <td>77</td>\n",
       "      <td>1</td>\n",
       "      <td>38</td>\n",
       "      <td>2</td>\n",
       "      <td>23</td>\n",
       "    </tr>\n",
       "    <tr>\n",
       "      <td>2</td>\n",
       "      <td>12501</td>\n",
       "      <td>8</td>\n",
       "      <td>GADSDEN DIALYSIS</td>\n",
       "      <td>409 SOUTH FIRST STREET</td>\n",
       "      <td>NaN</td>\n",
       "      <td>GADSDEN</td>\n",
       "      <td>AL</td>\n",
       "      <td>35901</td>\n",
       "      <td>ETOWAH</td>\n",
       "      <td>(256) 547-2457</td>\n",
       "      <td>...</td>\n",
       "      <td>NaN</td>\n",
       "      <td>NaN</td>\n",
       "      <td>NaN</td>\n",
       "      <td>NaN</td>\n",
       "      <td>NaN</td>\n",
       "      <td>NaN</td>\n",
       "      <td>NaN</td>\n",
       "      <td>NaN</td>\n",
       "      <td>NaN</td>\n",
       "      <td>NaN</td>\n",
       "    </tr>\n",
       "    <tr>\n",
       "      <td>3</td>\n",
       "      <td>12502</td>\n",
       "      <td>8</td>\n",
       "      <td>TUSCALOOSA UNIVERSITY DIALYSIS</td>\n",
       "      <td>220 15TH STREET</td>\n",
       "      <td>NaN</td>\n",
       "      <td>TUSCALOOSA</td>\n",
       "      <td>AL</td>\n",
       "      <td>35401</td>\n",
       "      <td>TUSCALOOSA</td>\n",
       "      <td>(205) 345-6004</td>\n",
       "      <td>...</td>\n",
       "      <td>90</td>\n",
       "      <td>4</td>\n",
       "      <td>6</td>\n",
       "      <td>13</td>\n",
       "      <td>81</td>\n",
       "      <td>92</td>\n",
       "      <td>4</td>\n",
       "      <td>55</td>\n",
       "      <td>4</td>\n",
       "      <td>31</td>\n",
       "    </tr>\n",
       "    <tr>\n",
       "      <td>4</td>\n",
       "      <td>12505</td>\n",
       "      <td>8</td>\n",
       "      <td>PCD MONTGOMERY</td>\n",
       "      <td>1001 FOREST AVENUE</td>\n",
       "      <td>NaN</td>\n",
       "      <td>MONTGOMERY</td>\n",
       "      <td>AL</td>\n",
       "      <td>36106</td>\n",
       "      <td>MONTGOMERY</td>\n",
       "      <td>(334) 269-9416</td>\n",
       "      <td>...</td>\n",
       "      <td>87</td>\n",
       "      <td>4</td>\n",
       "      <td>8</td>\n",
       "      <td>24</td>\n",
       "      <td>68</td>\n",
       "      <td>88</td>\n",
       "      <td>3</td>\n",
       "      <td>32</td>\n",
       "      <td>3</td>\n",
       "      <td>36</td>\n",
       "    </tr>\n",
       "  </tbody>\n",
       "</table>\n",
       "<p>5 rows × 47 columns</p>\n",
       "</div>"
      ],
      "text/plain": [
       "   Provider number  Network                   Facility name  \\\n",
       "0            12306        8     CHILDRENS HOSPITAL DIALYSIS   \n",
       "1            12500        8                FMC CAPITOL CITY   \n",
       "2            12501        8                GADSDEN DIALYSIS   \n",
       "3            12502        8  TUSCALOOSA UNIVERSITY DIALYSIS   \n",
       "4            12505        8                  PCD MONTGOMERY   \n",
       "\n",
       "           Address line 1 Address line 2        City State    Zip      County  \\\n",
       "0   1600 7TH AVENUE SOUTH            NaN  BIRMINGHAM    AL  35233   JEFFERSON   \n",
       "1    255 S JACKSON STREET            NaN  MONTGOMERY    AL  36104  MONTGOMERY   \n",
       "2  409 SOUTH FIRST STREET            NaN     GADSDEN    AL  35901      ETOWAH   \n",
       "3         220 15TH STREET            NaN  TUSCALOOSA    AL  35401  TUSCALOOSA   \n",
       "4      1001 FOREST AVENUE            NaN  MONTGOMERY    AL  36106  MONTGOMERY   \n",
       "\n",
       "     Phone number  ...  \\\n",
       "0  (205) 638-9275  ...   \n",
       "1  (334) 263-1028  ...   \n",
       "2  (256) 547-2457  ...   \n",
       "3  (205) 345-6004  ...   \n",
       "4  (334) 269-9416  ...   \n",
       "\n",
       "  Linearized score of rating of the dialysis center staff  \\\n",
       "0                                                NaN        \n",
       "1                                                 76        \n",
       "2                                                NaN        \n",
       "3                                                 90        \n",
       "4                                                 87        \n",
       "\n",
       "  Star_rating_dialysis_center_staff  \\\n",
       "0                               NaN   \n",
       "1                                 1   \n",
       "2                               NaN   \n",
       "3                                 4   \n",
       "4                                 4   \n",
       "\n",
       "  Lower box percent of patients-rating of the dialysis facility  \\\n",
       "0                                                NaN              \n",
       "1                                                 20              \n",
       "2                                                NaN              \n",
       "3                                                  6              \n",
       "4                                                  8              \n",
       "\n",
       "  Middle box percent of patients-rating of the dialysis facility  \\\n",
       "0                                                NaN               \n",
       "1                                                 28               \n",
       "2                                                NaN               \n",
       "3                                                 13               \n",
       "4                                                 24               \n",
       "\n",
       "   Top box percent of patients-rating of the dialysis facility  \\\n",
       "0                                                NaN             \n",
       "1                                                 52             \n",
       "2                                                NaN             \n",
       "3                                                 81             \n",
       "4                                                 68             \n",
       "\n",
       "  Linearized score of rating of the dialysis facility  \\\n",
       "0                                                NaN    \n",
       "1                                                 77    \n",
       "2                                                NaN    \n",
       "3                                                 92    \n",
       "4                                                 88    \n",
       "\n",
       "  Star_rating_dialysis_facility  \\\n",
       "0                           NaN   \n",
       "1                             1   \n",
       "2                           NaN   \n",
       "3                             4   \n",
       "4                             3   \n",
       "\n",
       "  Total number of completed interviews from the Fall and Spring Surveys  \\\n",
       "0                                                NaN                      \n",
       "1                                                 38                      \n",
       "2                                                NaN                      \n",
       "3                                                 55                      \n",
       "4                                                 32                      \n",
       "\n",
       "  Overall ICH CAHPS Survey of patients’ experiences star rating  \\\n",
       "0                                                NaN              \n",
       "1                                                  2              \n",
       "2                                                NaN              \n",
       "3                                                  4              \n",
       "4                                                  3              \n",
       "\n",
       "  ICH-CAHPS survey response rate  \n",
       "0                            NaN  \n",
       "1                             23  \n",
       "2                            NaN  \n",
       "3                             31  \n",
       "4                             36  \n",
       "\n",
       "[5 rows x 47 columns]"
      ]
     },
     "execution_count": 101,
     "metadata": {},
     "output_type": "execute_result"
    }
   ],
   "source": [
    "data = df.rename(columns={\"Star rating of Nephrologists' communication and caring\": \"Star_rating_Nephrologists_CC\",\n",
    "                        \"Star rating of providing information to patients\" : \"Star_rating_providing_information_patients\",\n",
    "                        \"Star rating of quality of dialysis center care and operations\" : \"Star_rating_quality_dialysis_center_CO\",\n",
    "                        \"Star rating of the nephrologist\" : \"Star_rating_nephrologist\",\n",
    "                        \"Star rating of the dialysis center staff\" : \"Star_rating_dialysis_center_staff\",\n",
    "                        \"Star rating of the dialysis facility\" : \"Star_rating_dialysis_facility\"\n",
    "                       })\n",
    "data.head(5)"
   ]
  },
  {
   "cell_type": "markdown",
   "metadata": {},
   "source": [
    "#### 3. CHANGING THE DATA TYPES FROM OBJECT TO FLOAT"
   ]
  },
  {
   "cell_type": "code",
   "execution_count": 102,
   "metadata": {},
   "outputs": [],
   "source": [
    "data['Star_rating_Nephrologists_CC'] = data.Star_rating_Nephrologists_CC.astype(float)\n",
    "data['Star_rating_providing_information_patients'] = data.Star_rating_providing_information_patients.astype(float)\n",
    "data['Star_rating_quality_dialysis_center_CO'] = data.Star_rating_quality_dialysis_center_CO.astype(float)\n",
    "data['Star_rating_nephrologist'] = data.Star_rating_nephrologist.astype(float)\n",
    "data['Star_rating_dialysis_center_staff'] = data.Star_rating_dialysis_center_staff.astype(float)\n",
    "data['Star_rating_dialysis_facility'] = data.Star_rating_dialysis_facility.astype(float)"
   ]
  },
  {
   "cell_type": "code",
   "execution_count": 103,
   "metadata": {},
   "outputs": [
    {
     "data": {
      "text/plain": [
       "Provider number                                                                    int64\n",
       "Network                                                                            int64\n",
       "Facility name                                                                     object\n",
       "Address line 1                                                                    object\n",
       "Address line 2                                                                    object\n",
       "City                                                                              object\n",
       "State                                                                             object\n",
       "Zip                                                                                int64\n",
       "County                                                                            object\n",
       "Phone number                                                                      object\n",
       "Profit or Non-Profit                                                              object\n",
       "Chain owned                                                                       object\n",
       "Chain organization                                                                object\n",
       "ICH-CAHPS date                                                                    object\n",
       "ICH-CAHPS data availability code                                                   int64\n",
       "Lower box percent of patients nephrologists’ communication and caring             object\n",
       "Middle box percent of patients nephrologists’ communication and caring            object\n",
       "Top box percent of patients nephrologists’ communication and caring               object\n",
       "Linearized score of Nephrologists’ communication and caring                       object\n",
       "Star_rating_Nephrologists_CC                                                     float64\n",
       "Lower box percent of patients-quality of dialysis center care and operations      object\n",
       "Middle box percent of patients-quality of dialysis center care and operations     object\n",
       "Top box percent of patients-quality of dialysis center care and operations        object\n",
       "Linearized score of quality of dialysis center care and operations                object\n",
       "Star_rating_quality_dialysis_center_CO                                           float64\n",
       "Lower box percent of patients-providing information to patients                   object\n",
       "Top box percent of patients providing information to patients                     object\n",
       "Linearized score of providing information to patients                             object\n",
       "Star_rating_providing_information_patients                                       float64\n",
       "Lower box percent of patients-rating of the nephrologist                          object\n",
       "Middle box percent of patients- rating of the nephrologist                        object\n",
       "Top box percent of patients- rating of the nephrologist                           object\n",
       "Linearized score of rating of the nephrologist                                    object\n",
       "Star_rating_nephrologist                                                         float64\n",
       "Lower box percent of patients-rating of the dialysis center staff                 object\n",
       "Middle box percent of patients-rating of the dialysis center staff                object\n",
       "Top box percent of patients-rating of the dialysis center staff                   object\n",
       "Linearized score of rating of the dialysis center staff                           object\n",
       "Star_rating_dialysis_center_staff                                                float64\n",
       "Lower box percent of patients-rating of the dialysis facility                     object\n",
       "Middle box percent of patients-rating of the dialysis facility                    object\n",
       "Top box percent of patients-rating of the dialysis facility                       object\n",
       "Linearized score of rating of the dialysis facility                               object\n",
       "Star_rating_dialysis_facility                                                    float64\n",
       "Total number of completed interviews from the Fall and Spring Surveys             object\n",
       "Overall ICH CAHPS Survey of patients’ experiences star rating                     object\n",
       "ICH-CAHPS survey response rate                                                    object\n",
       "dtype: object"
      ]
     },
     "execution_count": 103,
     "metadata": {},
     "output_type": "execute_result"
    }
   ],
   "source": [
    "data.dtypes"
   ]
  },
  {
   "cell_type": "code",
   "execution_count": 104,
   "metadata": {},
   "outputs": [
    {
     "data": {
      "text/plain": [
       "(7578, 47)"
      ]
     },
     "execution_count": 104,
     "metadata": {},
     "output_type": "execute_result"
    }
   ],
   "source": [
    "# shape of the data after dropping the columns\n",
    "data.shape"
   ]
  },
  {
   "cell_type": "code",
   "execution_count": 105,
   "metadata": {},
   "outputs": [
    {
     "data": {
      "text/plain": [
       "Provider number                                                                  7578\n",
       "Network                                                                          7578\n",
       "Facility name                                                                    7578\n",
       "Address line 1                                                                   7578\n",
       "Address line 2                                                                   1083\n",
       "City                                                                             7578\n",
       "State                                                                            7578\n",
       "Zip                                                                              7578\n",
       "County                                                                           7578\n",
       "Phone number                                                                     7578\n",
       "Profit or Non-Profit                                                             7578\n",
       "Chain owned                                                                      7578\n",
       "Chain organization                                                               7577\n",
       "ICH-CAHPS date                                                                   7578\n",
       "ICH-CAHPS data availability code                                                 7578\n",
       "Lower box percent of patients nephrologists’ communication and caring            2966\n",
       "Middle box percent of patients nephrologists’ communication and caring           2966\n",
       "Top box percent of patients nephrologists’ communication and caring              2966\n",
       "Linearized score of Nephrologists’ communication and caring                      2966\n",
       "Star_rating_Nephrologists_CC                                                     2966\n",
       "Lower box percent of patients-quality of dialysis center care and operations     2966\n",
       "Middle box percent of patients-quality of dialysis center care and operations    2966\n",
       "Top box percent of patients-quality of dialysis center care and operations       2966\n",
       "Linearized score of quality of dialysis center care and operations               2966\n",
       "Star_rating_quality_dialysis_center_CO                                           2966\n",
       "Lower box percent of patients-providing information to patients                  2966\n",
       "Top box percent of patients providing information to patients                    2966\n",
       "Linearized score of providing information to patients                            2966\n",
       "Star_rating_providing_information_patients                                       2966\n",
       "Lower box percent of patients-rating of the nephrologist                         2966\n",
       "Middle box percent of patients- rating of the nephrologist                       2966\n",
       "Top box percent of patients- rating of the nephrologist                          2966\n",
       "Linearized score of rating of the nephrologist                                   2966\n",
       "Star_rating_nephrologist                                                         2966\n",
       "Lower box percent of patients-rating of the dialysis center staff                2966\n",
       "Middle box percent of patients-rating of the dialysis center staff               2966\n",
       "Top box percent of patients-rating of the dialysis center staff                  2966\n",
       "Linearized score of rating of the dialysis center staff                          2966\n",
       "Star_rating_dialysis_center_staff                                                2966\n",
       "Lower box percent of patients-rating of the dialysis facility                    2966\n",
       "Middle box percent of patients-rating of the dialysis facility                   2966\n",
       "Top box percent of patients-rating of the dialysis facility                      2966\n",
       "Linearized score of rating of the dialysis facility                              2966\n",
       "Star_rating_dialysis_facility                                                    2966\n",
       "Total number of completed interviews from the Fall and Spring Surveys            2966\n",
       "Overall ICH CAHPS Survey of patients’ experiences star rating                    2966\n",
       "ICH-CAHPS survey response rate                                                   2966\n",
       "dtype: int64"
      ]
     },
     "execution_count": 105,
     "metadata": {},
     "output_type": "execute_result"
    }
   ],
   "source": [
    "# counting the data before dropping the duplicate rows\n",
    "data.count()"
   ]
  },
  {
   "cell_type": "code",
   "execution_count": 143,
   "metadata": {},
   "outputs": [
    {
     "data": {
      "text/html": [
       "<div>\n",
       "<style scoped>\n",
       "    .dataframe tbody tr th:only-of-type {\n",
       "        vertical-align: middle;\n",
       "    }\n",
       "\n",
       "    .dataframe tbody tr th {\n",
       "        vertical-align: top;\n",
       "    }\n",
       "\n",
       "    .dataframe thead th {\n",
       "        text-align: right;\n",
       "    }\n",
       "</style>\n",
       "<table border=\"1\" class=\"dataframe\">\n",
       "  <thead>\n",
       "    <tr style=\"text-align: right;\">\n",
       "      <th></th>\n",
       "      <th>Provider number</th>\n",
       "      <th>Network</th>\n",
       "      <th>Facility name</th>\n",
       "      <th>Address line 1</th>\n",
       "      <th>Address line 2</th>\n",
       "      <th>City</th>\n",
       "      <th>State</th>\n",
       "      <th>Zip</th>\n",
       "      <th>County</th>\n",
       "      <th>Phone number</th>\n",
       "      <th>...</th>\n",
       "      <th>Linearized score of rating of the dialysis center staff</th>\n",
       "      <th>Star_rating_dialysis_center_staff</th>\n",
       "      <th>Lower box percent of patients-rating of the dialysis facility</th>\n",
       "      <th>Middle box percent of patients-rating of the dialysis facility</th>\n",
       "      <th>Top box percent of patients-rating of the dialysis facility</th>\n",
       "      <th>Linearized score of rating of the dialysis facility</th>\n",
       "      <th>Star_rating_dialysis_facility</th>\n",
       "      <th>Total number of completed interviews from the Fall and Spring Surveys</th>\n",
       "      <th>Overall ICH CAHPS Survey of patients’ experiences star rating</th>\n",
       "      <th>ICH-CAHPS survey response rate</th>\n",
       "    </tr>\n",
       "  </thead>\n",
       "  <tbody>\n",
       "    <tr>\n",
       "      <td>count</td>\n",
       "      <td>7578.000000</td>\n",
       "      <td>7578.000000</td>\n",
       "      <td>7578</td>\n",
       "      <td>7578</td>\n",
       "      <td>1083</td>\n",
       "      <td>7578</td>\n",
       "      <td>7578</td>\n",
       "      <td>7578.000000</td>\n",
       "      <td>7578</td>\n",
       "      <td>7578</td>\n",
       "      <td>...</td>\n",
       "      <td>2966</td>\n",
       "      <td>2966.000000</td>\n",
       "      <td>2966</td>\n",
       "      <td>2966</td>\n",
       "      <td>2966</td>\n",
       "      <td>2966</td>\n",
       "      <td>2966.000000</td>\n",
       "      <td>2966</td>\n",
       "      <td>2966</td>\n",
       "      <td>2966</td>\n",
       "    </tr>\n",
       "    <tr>\n",
       "      <td>unique</td>\n",
       "      <td>NaN</td>\n",
       "      <td>NaN</td>\n",
       "      <td>7307</td>\n",
       "      <td>7527</td>\n",
       "      <td>602</td>\n",
       "      <td>2998</td>\n",
       "      <td>56</td>\n",
       "      <td>NaN</td>\n",
       "      <td>1261</td>\n",
       "      <td>7528</td>\n",
       "      <td>...</td>\n",
       "      <td>34</td>\n",
       "      <td>NaN</td>\n",
       "      <td>46</td>\n",
       "      <td>51</td>\n",
       "      <td>75</td>\n",
       "      <td>34</td>\n",
       "      <td>NaN</td>\n",
       "      <td>100</td>\n",
       "      <td>5</td>\n",
       "      <td>52</td>\n",
       "    </tr>\n",
       "    <tr>\n",
       "      <td>top</td>\n",
       "      <td>NaN</td>\n",
       "      <td>NaN</td>\n",
       "      <td>TOTAL RENAL CARE, INC.</td>\n",
       "      <td>DIALYSIS UNIT</td>\n",
       "      <td>SUITE 100</td>\n",
       "      <td>HOUSTON</td>\n",
       "      <td>TX</td>\n",
       "      <td>NaN</td>\n",
       "      <td>LOS ANGELES</td>\n",
       "      <td>(787) 292-7979</td>\n",
       "      <td>...</td>\n",
       "      <td>87</td>\n",
       "      <td>NaN</td>\n",
       "      <td>10</td>\n",
       "      <td>17</td>\n",
       "      <td>72</td>\n",
       "      <td>88</td>\n",
       "      <td>NaN</td>\n",
       "      <td>31</td>\n",
       "      <td>4</td>\n",
       "      <td>32</td>\n",
       "    </tr>\n",
       "    <tr>\n",
       "      <td>freq</td>\n",
       "      <td>NaN</td>\n",
       "      <td>NaN</td>\n",
       "      <td>33</td>\n",
       "      <td>23</td>\n",
       "      <td>78</td>\n",
       "      <td>107</td>\n",
       "      <td>748</td>\n",
       "      <td>NaN</td>\n",
       "      <td>193</td>\n",
       "      <td>13</td>\n",
       "      <td>...</td>\n",
       "      <td>272</td>\n",
       "      <td>NaN</td>\n",
       "      <td>196</td>\n",
       "      <td>147</td>\n",
       "      <td>110</td>\n",
       "      <td>259</td>\n",
       "      <td>NaN</td>\n",
       "      <td>147</td>\n",
       "      <td>1127</td>\n",
       "      <td>177</td>\n",
       "    </tr>\n",
       "    <tr>\n",
       "      <td>mean</td>\n",
       "      <td>314632.654790</td>\n",
       "      <td>9.663632</td>\n",
       "      <td>NaN</td>\n",
       "      <td>NaN</td>\n",
       "      <td>NaN</td>\n",
       "      <td>NaN</td>\n",
       "      <td>NaN</td>\n",
       "      <td>50320.043151</td>\n",
       "      <td>NaN</td>\n",
       "      <td>NaN</td>\n",
       "      <td>...</td>\n",
       "      <td>NaN</td>\n",
       "      <td>3.179366</td>\n",
       "      <td>NaN</td>\n",
       "      <td>NaN</td>\n",
       "      <td>NaN</td>\n",
       "      <td>NaN</td>\n",
       "      <td>3.095415</td>\n",
       "      <td>NaN</td>\n",
       "      <td>NaN</td>\n",
       "      <td>NaN</td>\n",
       "    </tr>\n",
       "    <tr>\n",
       "      <td>std</td>\n",
       "      <td>192473.933577</td>\n",
       "      <td>4.706113</td>\n",
       "      <td>NaN</td>\n",
       "      <td>NaN</td>\n",
       "      <td>NaN</td>\n",
       "      <td>NaN</td>\n",
       "      <td>NaN</td>\n",
       "      <td>27564.894402</td>\n",
       "      <td>NaN</td>\n",
       "      <td>NaN</td>\n",
       "      <td>...</td>\n",
       "      <td>NaN</td>\n",
       "      <td>1.248078</td>\n",
       "      <td>NaN</td>\n",
       "      <td>NaN</td>\n",
       "      <td>NaN</td>\n",
       "      <td>NaN</td>\n",
       "      <td>1.114370</td>\n",
       "      <td>NaN</td>\n",
       "      <td>NaN</td>\n",
       "      <td>NaN</td>\n",
       "    </tr>\n",
       "    <tr>\n",
       "      <td>min</td>\n",
       "      <td>12306.000000</td>\n",
       "      <td>1.000000</td>\n",
       "      <td>NaN</td>\n",
       "      <td>NaN</td>\n",
       "      <td>NaN</td>\n",
       "      <td>NaN</td>\n",
       "      <td>NaN</td>\n",
       "      <td>603.000000</td>\n",
       "      <td>NaN</td>\n",
       "      <td>NaN</td>\n",
       "      <td>...</td>\n",
       "      <td>NaN</td>\n",
       "      <td>1.000000</td>\n",
       "      <td>NaN</td>\n",
       "      <td>NaN</td>\n",
       "      <td>NaN</td>\n",
       "      <td>NaN</td>\n",
       "      <td>1.000000</td>\n",
       "      <td>NaN</td>\n",
       "      <td>NaN</td>\n",
       "      <td>NaN</td>\n",
       "    </tr>\n",
       "    <tr>\n",
       "      <td>25%</td>\n",
       "      <td>142810.250000</td>\n",
       "      <td>6.000000</td>\n",
       "      <td>NaN</td>\n",
       "      <td>NaN</td>\n",
       "      <td>NaN</td>\n",
       "      <td>NaN</td>\n",
       "      <td>NaN</td>\n",
       "      <td>29539.500000</td>\n",
       "      <td>NaN</td>\n",
       "      <td>NaN</td>\n",
       "      <td>...</td>\n",
       "      <td>NaN</td>\n",
       "      <td>2.000000</td>\n",
       "      <td>NaN</td>\n",
       "      <td>NaN</td>\n",
       "      <td>NaN</td>\n",
       "      <td>NaN</td>\n",
       "      <td>2.000000</td>\n",
       "      <td>NaN</td>\n",
       "      <td>NaN</td>\n",
       "      <td>NaN</td>\n",
       "    </tr>\n",
       "    <tr>\n",
       "      <td>50%</td>\n",
       "      <td>322530.500000</td>\n",
       "      <td>9.000000</td>\n",
       "      <td>NaN</td>\n",
       "      <td>NaN</td>\n",
       "      <td>NaN</td>\n",
       "      <td>NaN</td>\n",
       "      <td>NaN</td>\n",
       "      <td>46133.000000</td>\n",
       "      <td>NaN</td>\n",
       "      <td>NaN</td>\n",
       "      <td>...</td>\n",
       "      <td>NaN</td>\n",
       "      <td>3.000000</td>\n",
       "      <td>NaN</td>\n",
       "      <td>NaN</td>\n",
       "      <td>NaN</td>\n",
       "      <td>NaN</td>\n",
       "      <td>3.000000</td>\n",
       "      <td>NaN</td>\n",
       "      <td>NaN</td>\n",
       "      <td>NaN</td>\n",
       "    </tr>\n",
       "    <tr>\n",
       "      <td>75%</td>\n",
       "      <td>452341.250000</td>\n",
       "      <td>14.000000</td>\n",
       "      <td>NaN</td>\n",
       "      <td>NaN</td>\n",
       "      <td>NaN</td>\n",
       "      <td>NaN</td>\n",
       "      <td>NaN</td>\n",
       "      <td>76051.000000</td>\n",
       "      <td>NaN</td>\n",
       "      <td>NaN</td>\n",
       "      <td>...</td>\n",
       "      <td>NaN</td>\n",
       "      <td>4.000000</td>\n",
       "      <td>NaN</td>\n",
       "      <td>NaN</td>\n",
       "      <td>NaN</td>\n",
       "      <td>NaN</td>\n",
       "      <td>4.000000</td>\n",
       "      <td>NaN</td>\n",
       "      <td>NaN</td>\n",
       "      <td>NaN</td>\n",
       "    </tr>\n",
       "    <tr>\n",
       "      <td>max</td>\n",
       "      <td>852563.000000</td>\n",
       "      <td>18.000000</td>\n",
       "      <td>NaN</td>\n",
       "      <td>NaN</td>\n",
       "      <td>NaN</td>\n",
       "      <td>NaN</td>\n",
       "      <td>NaN</td>\n",
       "      <td>99801.000000</td>\n",
       "      <td>NaN</td>\n",
       "      <td>NaN</td>\n",
       "      <td>...</td>\n",
       "      <td>NaN</td>\n",
       "      <td>5.000000</td>\n",
       "      <td>NaN</td>\n",
       "      <td>NaN</td>\n",
       "      <td>NaN</td>\n",
       "      <td>NaN</td>\n",
       "      <td>5.000000</td>\n",
       "      <td>NaN</td>\n",
       "      <td>NaN</td>\n",
       "      <td>NaN</td>\n",
       "    </tr>\n",
       "  </tbody>\n",
       "</table>\n",
       "<p>11 rows × 47 columns</p>\n",
       "</div>"
      ],
      "text/plain": [
       "        Provider number      Network           Facility name Address line 1  \\\n",
       "count       7578.000000  7578.000000                    7578           7578   \n",
       "unique              NaN          NaN                    7307           7527   \n",
       "top                 NaN          NaN  TOTAL RENAL CARE, INC.  DIALYSIS UNIT   \n",
       "freq                NaN          NaN                      33             23   \n",
       "mean      314632.654790     9.663632                     NaN            NaN   \n",
       "std       192473.933577     4.706113                     NaN            NaN   \n",
       "min        12306.000000     1.000000                     NaN            NaN   \n",
       "25%       142810.250000     6.000000                     NaN            NaN   \n",
       "50%       322530.500000     9.000000                     NaN            NaN   \n",
       "75%       452341.250000    14.000000                     NaN            NaN   \n",
       "max       852563.000000    18.000000                     NaN            NaN   \n",
       "\n",
       "       Address line 2     City State           Zip       County  \\\n",
       "count            1083     7578  7578   7578.000000         7578   \n",
       "unique            602     2998    56           NaN         1261   \n",
       "top         SUITE 100  HOUSTON    TX           NaN  LOS ANGELES   \n",
       "freq               78      107   748           NaN          193   \n",
       "mean              NaN      NaN   NaN  50320.043151          NaN   \n",
       "std               NaN      NaN   NaN  27564.894402          NaN   \n",
       "min               NaN      NaN   NaN    603.000000          NaN   \n",
       "25%               NaN      NaN   NaN  29539.500000          NaN   \n",
       "50%               NaN      NaN   NaN  46133.000000          NaN   \n",
       "75%               NaN      NaN   NaN  76051.000000          NaN   \n",
       "max               NaN      NaN   NaN  99801.000000          NaN   \n",
       "\n",
       "          Phone number  ...  \\\n",
       "count             7578  ...   \n",
       "unique            7528  ...   \n",
       "top     (787) 292-7979  ...   \n",
       "freq                13  ...   \n",
       "mean               NaN  ...   \n",
       "std                NaN  ...   \n",
       "min                NaN  ...   \n",
       "25%                NaN  ...   \n",
       "50%                NaN  ...   \n",
       "75%                NaN  ...   \n",
       "max                NaN  ...   \n",
       "\n",
       "       Linearized score of rating of the dialysis center staff  \\\n",
       "count                                                2966        \n",
       "unique                                                 34        \n",
       "top                                                    87        \n",
       "freq                                                  272        \n",
       "mean                                                  NaN        \n",
       "std                                                   NaN        \n",
       "min                                                   NaN        \n",
       "25%                                                   NaN        \n",
       "50%                                                   NaN        \n",
       "75%                                                   NaN        \n",
       "max                                                   NaN        \n",
       "\n",
       "       Star_rating_dialysis_center_staff  \\\n",
       "count                        2966.000000   \n",
       "unique                               NaN   \n",
       "top                                  NaN   \n",
       "freq                                 NaN   \n",
       "mean                            3.179366   \n",
       "std                             1.248078   \n",
       "min                             1.000000   \n",
       "25%                             2.000000   \n",
       "50%                             3.000000   \n",
       "75%                             4.000000   \n",
       "max                             5.000000   \n",
       "\n",
       "       Lower box percent of patients-rating of the dialysis facility  \\\n",
       "count                                                2966              \n",
       "unique                                                 46              \n",
       "top                                                    10              \n",
       "freq                                                  196              \n",
       "mean                                                  NaN              \n",
       "std                                                   NaN              \n",
       "min                                                   NaN              \n",
       "25%                                                   NaN              \n",
       "50%                                                   NaN              \n",
       "75%                                                   NaN              \n",
       "max                                                   NaN              \n",
       "\n",
       "       Middle box percent of patients-rating of the dialysis facility  \\\n",
       "count                                                2966               \n",
       "unique                                                 51               \n",
       "top                                                    17               \n",
       "freq                                                  147               \n",
       "mean                                                  NaN               \n",
       "std                                                   NaN               \n",
       "min                                                   NaN               \n",
       "25%                                                   NaN               \n",
       "50%                                                   NaN               \n",
       "75%                                                   NaN               \n",
       "max                                                   NaN               \n",
       "\n",
       "        Top box percent of patients-rating of the dialysis facility  \\\n",
       "count                                                2966             \n",
       "unique                                                 75             \n",
       "top                                                    72             \n",
       "freq                                                  110             \n",
       "mean                                                  NaN             \n",
       "std                                                   NaN             \n",
       "min                                                   NaN             \n",
       "25%                                                   NaN             \n",
       "50%                                                   NaN             \n",
       "75%                                                   NaN             \n",
       "max                                                   NaN             \n",
       "\n",
       "       Linearized score of rating of the dialysis facility  \\\n",
       "count                                                2966    \n",
       "unique                                                 34    \n",
       "top                                                    88    \n",
       "freq                                                  259    \n",
       "mean                                                  NaN    \n",
       "std                                                   NaN    \n",
       "min                                                   NaN    \n",
       "25%                                                   NaN    \n",
       "50%                                                   NaN    \n",
       "75%                                                   NaN    \n",
       "max                                                   NaN    \n",
       "\n",
       "       Star_rating_dialysis_facility  \\\n",
       "count                    2966.000000   \n",
       "unique                           NaN   \n",
       "top                              NaN   \n",
       "freq                             NaN   \n",
       "mean                        3.095415   \n",
       "std                         1.114370   \n",
       "min                         1.000000   \n",
       "25%                         2.000000   \n",
       "50%                         3.000000   \n",
       "75%                         4.000000   \n",
       "max                         5.000000   \n",
       "\n",
       "       Total number of completed interviews from the Fall and Spring Surveys  \\\n",
       "count                                                2966                      \n",
       "unique                                                100                      \n",
       "top                                                    31                      \n",
       "freq                                                  147                      \n",
       "mean                                                  NaN                      \n",
       "std                                                   NaN                      \n",
       "min                                                   NaN                      \n",
       "25%                                                   NaN                      \n",
       "50%                                                   NaN                      \n",
       "75%                                                   NaN                      \n",
       "max                                                   NaN                      \n",
       "\n",
       "       Overall ICH CAHPS Survey of patients’ experiences star rating  \\\n",
       "count                                                2966              \n",
       "unique                                                  5              \n",
       "top                                                     4              \n",
       "freq                                                 1127              \n",
       "mean                                                  NaN              \n",
       "std                                                   NaN              \n",
       "min                                                   NaN              \n",
       "25%                                                   NaN              \n",
       "50%                                                   NaN              \n",
       "75%                                                   NaN              \n",
       "max                                                   NaN              \n",
       "\n",
       "        ICH-CAHPS survey response rate  \n",
       "count                             2966  \n",
       "unique                              52  \n",
       "top                                 32  \n",
       "freq                               177  \n",
       "mean                               NaN  \n",
       "std                                NaN  \n",
       "min                                NaN  \n",
       "25%                                NaN  \n",
       "50%                                NaN  \n",
       "75%                                NaN  \n",
       "max                                NaN  \n",
       "\n",
       "[11 rows x 47 columns]"
      ]
     },
     "execution_count": 143,
     "metadata": {},
     "output_type": "execute_result"
    }
   ],
   "source": [
    "#Just for an overview look at all the columns\n",
    "data.describe(include='all')"
   ]
  },
  {
   "cell_type": "markdown",
   "metadata": {},
   "source": [
    "#### 4. Dropping the duplicate rows"
   ]
  },
  {
   "cell_type": "markdown",
   "metadata": {},
   "source": [
    "* This is often a handy thing to do because a huge data set as in this case contains 7578 rows often have some duplicate data which might be disturbing, so here I remove all the duplicate value from the data-set. "
   ]
  },
  {
   "cell_type": "code",
   "execution_count": 106,
   "metadata": {},
   "outputs": [
    {
     "name": "stdout",
     "output_type": "stream",
     "text": [
      "number of duplicate rows:  (0, 47)\n"
     ]
    }
   ],
   "source": [
    "# Rows containing duplicate data\n",
    "duplicated_rows = data[data.duplicated()]\n",
    "print('number of duplicate rows: ', duplicated_rows.shape)"
   ]
  },
  {
   "cell_type": "code",
   "execution_count": 107,
   "metadata": {},
   "outputs": [
    {
     "data": {
      "text/html": [
       "<div>\n",
       "<style scoped>\n",
       "    .dataframe tbody tr th:only-of-type {\n",
       "        vertical-align: middle;\n",
       "    }\n",
       "\n",
       "    .dataframe tbody tr th {\n",
       "        vertical-align: top;\n",
       "    }\n",
       "\n",
       "    .dataframe thead th {\n",
       "        text-align: right;\n",
       "    }\n",
       "</style>\n",
       "<table border=\"1\" class=\"dataframe\">\n",
       "  <thead>\n",
       "    <tr style=\"text-align: right;\">\n",
       "      <th></th>\n",
       "      <th>Provider number</th>\n",
       "      <th>Network</th>\n",
       "      <th>Facility name</th>\n",
       "      <th>Address line 1</th>\n",
       "      <th>Address line 2</th>\n",
       "      <th>City</th>\n",
       "      <th>State</th>\n",
       "      <th>Zip</th>\n",
       "      <th>County</th>\n",
       "      <th>Phone number</th>\n",
       "      <th>...</th>\n",
       "      <th>Linearized score of rating of the dialysis center staff</th>\n",
       "      <th>Star_rating_dialysis_center_staff</th>\n",
       "      <th>Lower box percent of patients-rating of the dialysis facility</th>\n",
       "      <th>Middle box percent of patients-rating of the dialysis facility</th>\n",
       "      <th>Top box percent of patients-rating of the dialysis facility</th>\n",
       "      <th>Linearized score of rating of the dialysis facility</th>\n",
       "      <th>Star_rating_dialysis_facility</th>\n",
       "      <th>Total number of completed interviews from the Fall and Spring Surveys</th>\n",
       "      <th>Overall ICH CAHPS Survey of patients’ experiences star rating</th>\n",
       "      <th>ICH-CAHPS survey response rate</th>\n",
       "    </tr>\n",
       "  </thead>\n",
       "  <tbody>\n",
       "    <tr>\n",
       "      <td>0</td>\n",
       "      <td>12306</td>\n",
       "      <td>8</td>\n",
       "      <td>CHILDRENS HOSPITAL DIALYSIS</td>\n",
       "      <td>1600 7TH AVENUE SOUTH</td>\n",
       "      <td>NaN</td>\n",
       "      <td>BIRMINGHAM</td>\n",
       "      <td>AL</td>\n",
       "      <td>35233</td>\n",
       "      <td>JEFFERSON</td>\n",
       "      <td>(205) 638-9275</td>\n",
       "      <td>...</td>\n",
       "      <td>NaN</td>\n",
       "      <td>NaN</td>\n",
       "      <td>NaN</td>\n",
       "      <td>NaN</td>\n",
       "      <td>NaN</td>\n",
       "      <td>NaN</td>\n",
       "      <td>NaN</td>\n",
       "      <td>NaN</td>\n",
       "      <td>NaN</td>\n",
       "      <td>NaN</td>\n",
       "    </tr>\n",
       "    <tr>\n",
       "      <td>1</td>\n",
       "      <td>12500</td>\n",
       "      <td>8</td>\n",
       "      <td>FMC CAPITOL CITY</td>\n",
       "      <td>255 S JACKSON STREET</td>\n",
       "      <td>NaN</td>\n",
       "      <td>MONTGOMERY</td>\n",
       "      <td>AL</td>\n",
       "      <td>36104</td>\n",
       "      <td>MONTGOMERY</td>\n",
       "      <td>(334) 263-1028</td>\n",
       "      <td>...</td>\n",
       "      <td>76</td>\n",
       "      <td>1.0</td>\n",
       "      <td>20</td>\n",
       "      <td>28</td>\n",
       "      <td>52</td>\n",
       "      <td>77</td>\n",
       "      <td>1.0</td>\n",
       "      <td>38</td>\n",
       "      <td>2</td>\n",
       "      <td>23</td>\n",
       "    </tr>\n",
       "    <tr>\n",
       "      <td>2</td>\n",
       "      <td>12501</td>\n",
       "      <td>8</td>\n",
       "      <td>GADSDEN DIALYSIS</td>\n",
       "      <td>409 SOUTH FIRST STREET</td>\n",
       "      <td>NaN</td>\n",
       "      <td>GADSDEN</td>\n",
       "      <td>AL</td>\n",
       "      <td>35901</td>\n",
       "      <td>ETOWAH</td>\n",
       "      <td>(256) 547-2457</td>\n",
       "      <td>...</td>\n",
       "      <td>NaN</td>\n",
       "      <td>NaN</td>\n",
       "      <td>NaN</td>\n",
       "      <td>NaN</td>\n",
       "      <td>NaN</td>\n",
       "      <td>NaN</td>\n",
       "      <td>NaN</td>\n",
       "      <td>NaN</td>\n",
       "      <td>NaN</td>\n",
       "      <td>NaN</td>\n",
       "    </tr>\n",
       "    <tr>\n",
       "      <td>3</td>\n",
       "      <td>12502</td>\n",
       "      <td>8</td>\n",
       "      <td>TUSCALOOSA UNIVERSITY DIALYSIS</td>\n",
       "      <td>220 15TH STREET</td>\n",
       "      <td>NaN</td>\n",
       "      <td>TUSCALOOSA</td>\n",
       "      <td>AL</td>\n",
       "      <td>35401</td>\n",
       "      <td>TUSCALOOSA</td>\n",
       "      <td>(205) 345-6004</td>\n",
       "      <td>...</td>\n",
       "      <td>90</td>\n",
       "      <td>4.0</td>\n",
       "      <td>6</td>\n",
       "      <td>13</td>\n",
       "      <td>81</td>\n",
       "      <td>92</td>\n",
       "      <td>4.0</td>\n",
       "      <td>55</td>\n",
       "      <td>4</td>\n",
       "      <td>31</td>\n",
       "    </tr>\n",
       "    <tr>\n",
       "      <td>4</td>\n",
       "      <td>12505</td>\n",
       "      <td>8</td>\n",
       "      <td>PCD MONTGOMERY</td>\n",
       "      <td>1001 FOREST AVENUE</td>\n",
       "      <td>NaN</td>\n",
       "      <td>MONTGOMERY</td>\n",
       "      <td>AL</td>\n",
       "      <td>36106</td>\n",
       "      <td>MONTGOMERY</td>\n",
       "      <td>(334) 269-9416</td>\n",
       "      <td>...</td>\n",
       "      <td>87</td>\n",
       "      <td>4.0</td>\n",
       "      <td>8</td>\n",
       "      <td>24</td>\n",
       "      <td>68</td>\n",
       "      <td>88</td>\n",
       "      <td>3.0</td>\n",
       "      <td>32</td>\n",
       "      <td>3</td>\n",
       "      <td>36</td>\n",
       "    </tr>\n",
       "  </tbody>\n",
       "</table>\n",
       "<p>5 rows × 47 columns</p>\n",
       "</div>"
      ],
      "text/plain": [
       "   Provider number  Network                   Facility name  \\\n",
       "0            12306        8     CHILDRENS HOSPITAL DIALYSIS   \n",
       "1            12500        8                FMC CAPITOL CITY   \n",
       "2            12501        8                GADSDEN DIALYSIS   \n",
       "3            12502        8  TUSCALOOSA UNIVERSITY DIALYSIS   \n",
       "4            12505        8                  PCD MONTGOMERY   \n",
       "\n",
       "           Address line 1 Address line 2        City State    Zip      County  \\\n",
       "0   1600 7TH AVENUE SOUTH            NaN  BIRMINGHAM    AL  35233   JEFFERSON   \n",
       "1    255 S JACKSON STREET            NaN  MONTGOMERY    AL  36104  MONTGOMERY   \n",
       "2  409 SOUTH FIRST STREET            NaN     GADSDEN    AL  35901      ETOWAH   \n",
       "3         220 15TH STREET            NaN  TUSCALOOSA    AL  35401  TUSCALOOSA   \n",
       "4      1001 FOREST AVENUE            NaN  MONTGOMERY    AL  36106  MONTGOMERY   \n",
       "\n",
       "     Phone number  ...  \\\n",
       "0  (205) 638-9275  ...   \n",
       "1  (334) 263-1028  ...   \n",
       "2  (256) 547-2457  ...   \n",
       "3  (205) 345-6004  ...   \n",
       "4  (334) 269-9416  ...   \n",
       "\n",
       "  Linearized score of rating of the dialysis center staff  \\\n",
       "0                                                NaN        \n",
       "1                                                 76        \n",
       "2                                                NaN        \n",
       "3                                                 90        \n",
       "4                                                 87        \n",
       "\n",
       "  Star_rating_dialysis_center_staff  \\\n",
       "0                               NaN   \n",
       "1                               1.0   \n",
       "2                               NaN   \n",
       "3                               4.0   \n",
       "4                               4.0   \n",
       "\n",
       "  Lower box percent of patients-rating of the dialysis facility  \\\n",
       "0                                                NaN              \n",
       "1                                                 20              \n",
       "2                                                NaN              \n",
       "3                                                  6              \n",
       "4                                                  8              \n",
       "\n",
       "  Middle box percent of patients-rating of the dialysis facility  \\\n",
       "0                                                NaN               \n",
       "1                                                 28               \n",
       "2                                                NaN               \n",
       "3                                                 13               \n",
       "4                                                 24               \n",
       "\n",
       "   Top box percent of patients-rating of the dialysis facility  \\\n",
       "0                                                NaN             \n",
       "1                                                 52             \n",
       "2                                                NaN             \n",
       "3                                                 81             \n",
       "4                                                 68             \n",
       "\n",
       "  Linearized score of rating of the dialysis facility  \\\n",
       "0                                                NaN    \n",
       "1                                                 77    \n",
       "2                                                NaN    \n",
       "3                                                 92    \n",
       "4                                                 88    \n",
       "\n",
       "  Star_rating_dialysis_facility  \\\n",
       "0                           NaN   \n",
       "1                           1.0   \n",
       "2                           NaN   \n",
       "3                           4.0   \n",
       "4                           3.0   \n",
       "\n",
       "  Total number of completed interviews from the Fall and Spring Surveys  \\\n",
       "0                                                NaN                      \n",
       "1                                                 38                      \n",
       "2                                                NaN                      \n",
       "3                                                 55                      \n",
       "4                                                 32                      \n",
       "\n",
       "  Overall ICH CAHPS Survey of patients’ experiences star rating  \\\n",
       "0                                                NaN              \n",
       "1                                                  2              \n",
       "2                                                NaN              \n",
       "3                                                  4              \n",
       "4                                                  3              \n",
       "\n",
       "   ICH-CAHPS survey response rate  \n",
       "0                             NaN  \n",
       "1                              23  \n",
       "2                             NaN  \n",
       "3                              31  \n",
       "4                              36  \n",
       "\n",
       "[5 rows x 47 columns]"
      ]
     },
     "execution_count": 107,
     "metadata": {},
     "output_type": "execute_result"
    }
   ],
   "source": [
    "# Dropping the duplicates \n",
    "data = data.drop_duplicates()\n",
    "data.head(5)"
   ]
  },
  {
   "cell_type": "markdown",
   "metadata": {},
   "source": [
    "#### 5. Dropping the missing or null values"
   ]
  },
  {
   "cell_type": "markdown",
   "metadata": {},
   "source": [
    "* This is mostly similar to the previous step but in here all the missing values are detected and are dropped later. Now, this is not a good approach to do so, I just dropped that missing values. "
   ]
  },
  {
   "cell_type": "code",
   "execution_count": 108,
   "metadata": {},
   "outputs": [
    {
     "name": "stdout",
     "output_type": "stream",
     "text": [
      "Provider number                                                                     0\n",
      "Network                                                                             0\n",
      "Facility name                                                                       0\n",
      "Address line 1                                                                      0\n",
      "Address line 2                                                                   6495\n",
      "City                                                                                0\n",
      "State                                                                               0\n",
      "Zip                                                                                 0\n",
      "County                                                                              0\n",
      "Phone number                                                                        0\n",
      "Profit or Non-Profit                                                                0\n",
      "Chain owned                                                                         0\n",
      "Chain organization                                                                  1\n",
      "ICH-CAHPS date                                                                      0\n",
      "ICH-CAHPS data availability code                                                    0\n",
      "Lower box percent of patients nephrologists’ communication and caring            4612\n",
      "Middle box percent of patients nephrologists’ communication and caring           4612\n",
      "Top box percent of patients nephrologists’ communication and caring              4612\n",
      "Linearized score of Nephrologists’ communication and caring                      4612\n",
      "Star_rating_Nephrologists_CC                                                     4612\n",
      "Lower box percent of patients-quality of dialysis center care and operations     4612\n",
      "Middle box percent of patients-quality of dialysis center care and operations    4612\n",
      "Top box percent of patients-quality of dialysis center care and operations       4612\n",
      "Linearized score of quality of dialysis center care and operations               4612\n",
      "Star_rating_quality_dialysis_center_CO                                           4612\n",
      "Lower box percent of patients-providing information to patients                  4612\n",
      "Top box percent of patients providing information to patients                    4612\n",
      "Linearized score of providing information to patients                            4612\n",
      "Star_rating_providing_information_patients                                       4612\n",
      "Lower box percent of patients-rating of the nephrologist                         4612\n",
      "Middle box percent of patients- rating of the nephrologist                       4612\n",
      "Top box percent of patients- rating of the nephrologist                          4612\n",
      "Linearized score of rating of the nephrologist                                   4612\n",
      "Star_rating_nephrologist                                                         4612\n",
      "Lower box percent of patients-rating of the dialysis center staff                4612\n",
      "Middle box percent of patients-rating of the dialysis center staff               4612\n",
      "Top box percent of patients-rating of the dialysis center staff                  4612\n",
      "Linearized score of rating of the dialysis center staff                          4612\n",
      "Star_rating_dialysis_center_staff                                                4612\n",
      "Lower box percent of patients-rating of the dialysis facility                    4612\n",
      "Middle box percent of patients-rating of the dialysis facility                   4612\n",
      "Top box percent of patients-rating of the dialysis facility                      4612\n",
      "Linearized score of rating of the dialysis facility                              4612\n",
      "Star_rating_dialysis_facility                                                    4612\n",
      "Total number of completed interviews from the Fall and Spring Surveys            4612\n",
      "Overall ICH CAHPS Survey of patients’ experiences star rating                    4612\n",
      "ICH-CAHPS survey response rate                                                   4612\n",
      "dtype: int64\n"
     ]
    }
   ],
   "source": [
    "# Finding the null values.\n",
    "print(data.isnull().sum())"
   ]
  },
  {
   "cell_type": "markdown",
   "metadata": {},
   "source": [
    "## IMPUTATION"
   ]
  },
  {
   "cell_type": "markdown",
   "metadata": {},
   "source": [
    "#### 1. Histogram of Star Rating of Nephrologists for Communication and Caring"
   ]
  },
  {
   "cell_type": "code",
   "execution_count": null,
   "metadata": {},
   "outputs": [],
   "source": [
    "plt.hist(data['Star_rating_Nephrologists_CC'])\n",
    "plt.xlabel('Rating', fontsize = 15)\n",
    "plt.ylabel('Count', fontsize = 15)\n",
    "plt.title('Histogram of Star Rating of Nephrologists for Communication and Caring',fontsize = 15 )"
   ]
  },
  {
   "cell_type": "markdown",
   "metadata": {},
   "source": [
    "#### 2. Histogram of Star Rating for providing information to Patients"
   ]
  },
  {
   "cell_type": "code",
   "execution_count": 110,
   "metadata": {},
   "outputs": [
    {
     "data": {
      "text/plain": [
       "Text(0.5, 1.0, 'Histogram of Star Rating for providing information to Patients')"
      ]
     },
     "execution_count": 110,
     "metadata": {},
     "output_type": "execute_result"
    },
    {
     "data": {
      "image/png": "[encoded data removed]",
      "text/plain": [
       "<Figure size 432x288 with 1 Axes>"
      ]
     },
     "metadata": {},
     "output_type": "display_data"
    }
   ],
   "source": [
    "plt.hist(data['Star_rating_providing_information_patients'])\n",
    "plt.xlabel('Rating', fontsize = 15)\n",
    "plt.ylabel('Count', fontsize = 15)\n",
    "plt.title('Histogram of Star Rating for providing information to Patients',fontsize = 15 )"
   ]
  },
  {
   "cell_type": "markdown",
   "metadata": {},
   "source": [
    "#### 3. Histogram of Star Rating for quality of dialysis center for care and operations"
   ]
  },
  {
   "cell_type": "code",
   "execution_count": 111,
   "metadata": {},
   "outputs": [
    {
     "data": {
      "text/plain": [
       "Text(0.5, 1.0, 'Histogram of Star Rating for quality of dialysis center for care and operations')"
      ]
     },
     "execution_count": 111,
     "metadata": {},
     "output_type": "execute_result"
    },
    {
     "data": {
      "image/png": "[encoded data removed]",
      "text/plain": [
       "<Figure size 432x288 with 1 Axes>"
      ]
     },
     "metadata": {},
     "output_type": "display_data"
    }
   ],
   "source": [
    "plt.hist(data['Star_rating_quality_dialysis_center_CO'])\n",
    "plt.xlabel('Rating', fontsize = 15)\n",
    "plt.ylabel('Count', fontsize = 15)\n",
    "plt.title('Histogram of Star Rating for quality of dialysis center for care and operations',fontsize = 15 )"
   ]
  },
  {
   "cell_type": "markdown",
   "metadata": {},
   "source": [
    "#### 4. Histogram of Star Rating for nephrologist"
   ]
  },
  {
   "cell_type": "code",
   "execution_count": 112,
   "metadata": {},
   "outputs": [
    {
     "data": {
      "text/plain": [
       "Text(0.5, 1.0, 'Histogram of Star Rating for nephrologist')"
      ]
     },
     "execution_count": 112,
     "metadata": {},
     "output_type": "execute_result"
    },
    {
     "data": {
      "image/png": "[encoded data removed]",
      "text/plain": [
       "<Figure size 432x288 with 1 Axes>"
      ]
     },
     "metadata": {},
     "output_type": "display_data"
    }
   ],
   "source": [
    "plt.hist(data['Star_rating_nephrologist'])\n",
    "plt.xlabel('Rating', fontsize = 15)\n",
    "plt.ylabel('Count', fontsize = 15)\n",
    "plt.title('Histogram of Star Rating for nephrologist',fontsize = 15 )"
   ]
  },
  {
   "cell_type": "markdown",
   "metadata": {},
   "source": [
    "#### 5. Histogram of Star Rating for dialysis center staff"
   ]
  },
  {
   "cell_type": "code",
   "execution_count": 113,
   "metadata": {},
   "outputs": [
    {
     "data": {
      "text/plain": [
       "Text(0.5, 1.0, 'Histogram of Star Rating for dialysis center staff')"
      ]
     },
     "execution_count": 113,
     "metadata": {},
     "output_type": "execute_result"
    },
    {
     "data": {
      "image/png": "[encoded data removed]",
      "text/plain": [
       "<Figure size 432x288 with 1 Axes>"
      ]
     },
     "metadata": {},
     "output_type": "display_data"
    }
   ],
   "source": [
    "plt.hist(data['Star_rating_dialysis_center_staff'])\n",
    "plt.xlabel('Rating', fontsize = 15)\n",
    "plt.ylabel('Count', fontsize = 15)\n",
    "plt.title('Histogram of Star Rating for dialysis center staff',fontsize = 15 )"
   ]
  },
  {
   "cell_type": "markdown",
   "metadata": {},
   "source": [
    "#### 6. Histogram of Star Rating for dialysis center facilities"
   ]
  },
  {
   "cell_type": "code",
   "execution_count": 114,
   "metadata": {},
   "outputs": [
    {
     "data": {
      "text/plain": [
       "Text(0.5, 1.0, 'Histogram of Star Rating for dialysis center facilities')"
      ]
     },
     "execution_count": 114,
     "metadata": {},
     "output_type": "execute_result"
    },
    {
     "data": {
      "image/png": "[encoded data removed]",
      "text/plain": [
       "<Figure size 432x288 with 1 Axes>"
      ]
     },
     "metadata": {},
     "output_type": "display_data"
    }
   ],
   "source": [
    "plt.hist(data['Star_rating_dialysis_facility'])\n",
    "plt.xlabel('Rating', fontsize = 15)\n",
    "plt.ylabel('Count', fontsize = 15)\n",
    "plt.title('Histogram of Star Rating for dialysis center facilities',fontsize = 15 )"
   ]
  },
  {
   "cell_type": "markdown",
   "metadata": {},
   "source": [
    "## HYPOTHESIS"
   ]
  },
  {
   "cell_type": "markdown",
   "metadata": {},
   "source": [
    "### 1. IS THE STAR RATING FOR DIALYSIS CENTER FACILITIES HAS A HIGHLIKELYHOOD OF ABOVE 3 ?"
   ]
  },
  {
   "cell_type": "code",
   "execution_count": 115,
   "metadata": {},
   "outputs": [],
   "source": [
    "facilities_rating_Above_3 = []\n",
    "facilities_rating_Above_3 = data[\"Star_rating_dialysis_facility\"] >= 3.0 "
   ]
  },
  {
   "cell_type": "code",
   "execution_count": 116,
   "metadata": {},
   "outputs": [],
   "source": [
    "Star_rating_facilities = data[\"Star_rating_dialysis_facility\"].to_list()"
   ]
  },
  {
   "cell_type": "code",
   "execution_count": 117,
   "metadata": {},
   "outputs": [
    {
     "data": {
      "image/png": "[encoded data removed]",
      "text/plain": [
       "<Figure size 432x288 with 1 Axes>"
      ]
     },
     "metadata": {},
     "output_type": "display_data"
    }
   ],
   "source": [
    "hypothesis_data_facilities = pd.DataFrame(list(zip(Star_rating_facilities, facilities_rating_Above_3)), \n",
    "               columns =['Star_rating_facilities', 'facilities_rating_Above_3'])\n",
    "\n",
    "import numpy as np\n",
    "T_Count=0\n",
    "F_Count=0\n",
    "l1=[]\n",
    "for i in facilities_rating_Above_3:\n",
    "    if i==True:\n",
    "        T_Count+=1\n",
    "    else:\n",
    "        F_Count+=1\n",
    "l1.append(T_Count)\n",
    "l1.append(F_Count)\n",
    "y_pos = np.arange(len(l1))\n",
    "objects=(\"True\",\"False\")\n",
    "plt.bar(y_pos, l1, align='center', alpha=0.5)\n",
    "plt.xticks(y_pos, objects)\n",
    "plt.show()\n",
    "\n",
    "#Since there are more number of false conditions the hypothesis is wrong"
   ]
  },
  {
   "cell_type": "code",
   "execution_count": 118,
   "metadata": {},
   "outputs": [
    {
     "data": {
      "text/html": [
       "<div>\n",
       "<style scoped>\n",
       "    .dataframe tbody tr th:only-of-type {\n",
       "        vertical-align: middle;\n",
       "    }\n",
       "\n",
       "    .dataframe tbody tr th {\n",
       "        vertical-align: top;\n",
       "    }\n",
       "\n",
       "    .dataframe thead th {\n",
       "        text-align: right;\n",
       "    }\n",
       "</style>\n",
       "<table border=\"1\" class=\"dataframe\">\n",
       "  <thead>\n",
       "    <tr style=\"text-align: right;\">\n",
       "      <th></th>\n",
       "      <th>Star_rating_facilities</th>\n",
       "      <th>facilities_rating_Above_3</th>\n",
       "    </tr>\n",
       "  </thead>\n",
       "  <tbody>\n",
       "    <tr>\n",
       "      <td>0</td>\n",
       "      <td>NaN</td>\n",
       "      <td>False</td>\n",
       "    </tr>\n",
       "    <tr>\n",
       "      <td>1</td>\n",
       "      <td>1.0</td>\n",
       "      <td>False</td>\n",
       "    </tr>\n",
       "    <tr>\n",
       "      <td>2</td>\n",
       "      <td>NaN</td>\n",
       "      <td>False</td>\n",
       "    </tr>\n",
       "    <tr>\n",
       "      <td>3</td>\n",
       "      <td>4.0</td>\n",
       "      <td>True</td>\n",
       "    </tr>\n",
       "    <tr>\n",
       "      <td>4</td>\n",
       "      <td>3.0</td>\n",
       "      <td>True</td>\n",
       "    </tr>\n",
       "  </tbody>\n",
       "</table>\n",
       "</div>"
      ],
      "text/plain": [
       "   Star_rating_facilities  facilities_rating_Above_3\n",
       "0                     NaN                      False\n",
       "1                     1.0                      False\n",
       "2                     NaN                      False\n",
       "3                     4.0                       True\n",
       "4                     3.0                       True"
      ]
     },
     "execution_count": 118,
     "metadata": {},
     "output_type": "execute_result"
    }
   ],
   "source": [
    "hypothesis_data_facilities.head(5)"
   ]
  },
  {
   "cell_type": "markdown",
   "metadata": {},
   "source": [
    "### 2. IS THE STAR RATING FOR DIALYSIS CENTER STAFF IS ABOVE 3 ?"
   ]
  },
  {
   "cell_type": "code",
   "execution_count": 119,
   "metadata": {},
   "outputs": [],
   "source": [
    "Staff_rating_Above_3 = []\n",
    "Staff_rating_Above_3 = data[\"Star_rating_dialysis_center_staff\"] >= 3.0 "
   ]
  },
  {
   "cell_type": "code",
   "execution_count": 120,
   "metadata": {},
   "outputs": [],
   "source": [
    "Star_rating_staff = data[\"Star_rating_dialysis_center_staff\"].to_list()"
   ]
  },
  {
   "cell_type": "code",
   "execution_count": 121,
   "metadata": {},
   "outputs": [
    {
     "data": {
      "image/png": "[encoded data removed]",
      "text/plain": [
       "<Figure size 432x288 with 1 Axes>"
      ]
     },
     "metadata": {},
     "output_type": "display_data"
    }
   ],
   "source": [
    "hypothesis_data_staff = pd.DataFrame(list(zip(Star_rating_staff, Staff_rating_Above_3)), \n",
    "               columns =['Star_rating_staff', 'Staff_rating_Above_3'])\n",
    "\n",
    "import numpy as np\n",
    "T_Count=0\n",
    "F_Count=0\n",
    "l1=[]\n",
    "for i in Staff_rating_Above_3:\n",
    "    if i==True:\n",
    "        T_Count+=1\n",
    "    else:\n",
    "        F_Count+=1\n",
    "l1.append(T_Count)\n",
    "l1.append(F_Count)\n",
    "y_pos = np.arange(len(l1))\n",
    "objects=(\"True\",\"False\")\n",
    "plt.bar(y_pos, l1, align='center', alpha=0.5)\n",
    "plt.xticks(y_pos, objects)\n",
    "plt.show()\n",
    "\n",
    "#Since there are more number of false conditions the hypothesis is wrong"
   ]
  },
  {
   "cell_type": "markdown",
   "metadata": {},
   "source": [
    "### 3. IS THE STAR RATING FACILITIES FOR NEPHROLOGISTS FOR COMMUNICATION AND CARE IS ABOVE 3?"
   ]
  },
  {
   "cell_type": "code",
   "execution_count": 122,
   "metadata": {},
   "outputs": [],
   "source": [
    "CC_rating_Above_3 = []\n",
    "CC_rating_Above_3 = data[\"Star_rating_Nephrologists_CC\"] >= 3.0 "
   ]
  },
  {
   "cell_type": "code",
   "execution_count": 123,
   "metadata": {},
   "outputs": [],
   "source": [
    "Star_rating_CC = data[\"Star_rating_Nephrologists_CC\"].to_list()"
   ]
  },
  {
   "cell_type": "code",
   "execution_count": 124,
   "metadata": {},
   "outputs": [
    {
     "data": {
      "image/png": "[encoded data removed]",
      "text/plain": [
       "<Figure size 432x288 with 1 Axes>"
      ]
     },
     "metadata": {},
     "output_type": "display_data"
    }
   ],
   "source": [
    "hypothesis_data_staff = pd.DataFrame(list(zip(Star_rating_CC, CC_rating_Above_3)), \n",
    "               columns =['Star_rating_CC', 'CC_rating_Above_3'])\n",
    "\n",
    "\n",
    "import numpy as np\n",
    "T_Count=0\n",
    "F_Count=0\n",
    "l1=[]\n",
    "for i in CC_rating_Above_3:\n",
    "    if i==True:\n",
    "        T_Count+=1\n",
    "    else:\n",
    "        F_Count+=1\n",
    "l1.append(T_Count)\n",
    "l1.append(F_Count)\n",
    "y_pos = np.arange(len(l1))\n",
    "objects=(\"True\",\"False\")\n",
    "plt.bar(y_pos, l1, align='center', alpha=0.5)\n",
    "plt.xticks(y_pos, objects)\n",
    "plt.show()\n",
    "\n",
    "#Since there are more number of false conditions the hypothesis is wrong"
   ]
  },
  {
   "cell_type": "markdown",
   "metadata": {},
   "source": [
    "### 4.  IS STAR RATING FOR PROVIDING INFORMATION TO PATIENTS IS ABOVE 3 ?"
   ]
  },
  {
   "cell_type": "code",
   "execution_count": 125,
   "metadata": {},
   "outputs": [],
   "source": [
    "IP_rating_Above_3 = []\n",
    "IP_rating_Above_3 = data[\"Star_rating_providing_information_patients\"] >= 3.0"
   ]
  },
  {
   "cell_type": "code",
   "execution_count": 126,
   "metadata": {},
   "outputs": [],
   "source": [
    "Star_rating_IP = data[\"Star_rating_providing_information_patients\"].to_list()"
   ]
  },
  {
   "cell_type": "code",
   "execution_count": 127,
   "metadata": {},
   "outputs": [
    {
     "data": {
      "image/png": "[encoded data removed]",
      "text/plain": [
       "<Figure size 432x288 with 1 Axes>"
      ]
     },
     "metadata": {},
     "output_type": "display_data"
    }
   ],
   "source": [
    "hypothesis_data_IP = pd.DataFrame(list(zip(Star_rating_IP, IP_rating_Above_3)), \n",
    "               columns =['Star_rating_IP', 'IP_rating_Above_3'])\n",
    "\n",
    "\n",
    "import numpy as np\n",
    "T_Count=0\n",
    "F_Count=0\n",
    "l1=[]\n",
    "for i in IP_rating_Above_3:\n",
    "    if i==True:\n",
    "        T_Count+=1\n",
    "    else:\n",
    "        F_Count+=1\n",
    "l1.append(T_Count)\n",
    "l1.append(F_Count)\n",
    "y_pos = np.arange(len(l1))\n",
    "objects=(\"True\",\"False\")\n",
    "plt.bar(y_pos, l1, align='center', alpha=0.5)\n",
    "plt.xticks(y_pos, objects)\n",
    "plt.show()\n",
    "\n",
    "#Since there are more number of false conditions the hypothesis is wrong"
   ]
  },
  {
   "cell_type": "code",
   "execution_count": 128,
   "metadata": {},
   "outputs": [
    {
     "data": {
      "text/html": [
       "<div>\n",
       "<style scoped>\n",
       "    .dataframe tbody tr th:only-of-type {\n",
       "        vertical-align: middle;\n",
       "    }\n",
       "\n",
       "    .dataframe tbody tr th {\n",
       "        vertical-align: top;\n",
       "    }\n",
       "\n",
       "    .dataframe thead th {\n",
       "        text-align: right;\n",
       "    }\n",
       "</style>\n",
       "<table border=\"1\" class=\"dataframe\">\n",
       "  <thead>\n",
       "    <tr style=\"text-align: right;\">\n",
       "      <th></th>\n",
       "      <th>Star_rating_IP</th>\n",
       "      <th>IP_rating_Above_3</th>\n",
       "    </tr>\n",
       "  </thead>\n",
       "  <tbody>\n",
       "    <tr>\n",
       "      <td>0</td>\n",
       "      <td>NaN</td>\n",
       "      <td>False</td>\n",
       "    </tr>\n",
       "    <tr>\n",
       "      <td>1</td>\n",
       "      <td>1.0</td>\n",
       "      <td>False</td>\n",
       "    </tr>\n",
       "    <tr>\n",
       "      <td>2</td>\n",
       "      <td>NaN</td>\n",
       "      <td>False</td>\n",
       "    </tr>\n",
       "    <tr>\n",
       "      <td>3</td>\n",
       "      <td>4.0</td>\n",
       "      <td>True</td>\n",
       "    </tr>\n",
       "    <tr>\n",
       "      <td>4</td>\n",
       "      <td>4.0</td>\n",
       "      <td>True</td>\n",
       "    </tr>\n",
       "  </tbody>\n",
       "</table>\n",
       "</div>"
      ],
      "text/plain": [
       "   Star_rating_IP  IP_rating_Above_3\n",
       "0             NaN              False\n",
       "1             1.0              False\n",
       "2             NaN              False\n",
       "3             4.0               True\n",
       "4             4.0               True"
      ]
     },
     "execution_count": 128,
     "metadata": {},
     "output_type": "execute_result"
    }
   ],
   "source": [
    "hypothesis_data_IP.head(5)"
   ]
  },
  {
   "cell_type": "markdown",
   "metadata": {},
   "source": [
    "### 5. IS THE STAR RATING FOR QUALITY OF DIALYSIS CENTER FOR CARE AND OPERATIONS IS ABOVE 3 ?"
   ]
  },
  {
   "cell_type": "code",
   "execution_count": 129,
   "metadata": {},
   "outputs": [],
   "source": [
    "CO_rating_Above_3 = []\n",
    "CO_rating_Above_3 = data[\"Star_rating_quality_dialysis_center_CO\"] >= 3.0"
   ]
  },
  {
   "cell_type": "code",
   "execution_count": 130,
   "metadata": {},
   "outputs": [],
   "source": [
    "Star_rating_CO = data[\"Star_rating_providing_information_patients\"].to_list()"
   ]
  },
  {
   "cell_type": "code",
   "execution_count": 131,
   "metadata": {},
   "outputs": [
    {
     "data": {
      "image/png": "[encoded data removed]",
      "text/plain": [
       "<Figure size 432x288 with 1 Axes>"
      ]
     },
     "metadata": {},
     "output_type": "display_data"
    }
   ],
   "source": [
    "hypothesis_data_CO = pd.DataFrame(list(zip(Star_rating_CO, CO_rating_Above_3)), \n",
    "               columns =['Star_rating_CO', 'CO_rating_Above_3'])\n",
    "\n",
    "\n",
    "import numpy as np\n",
    "T_Count=0\n",
    "F_Count=0\n",
    "l1=[]\n",
    "for i in CO_rating_Above_3:\n",
    "    if i==True:\n",
    "        T_Count+=1\n",
    "    else:\n",
    "        F_Count+=1\n",
    "l1.append(T_Count)\n",
    "l1.append(F_Count)\n",
    "y_pos = np.arange(len(l1))\n",
    "objects=(\"True\",\"False\")\n",
    "plt.bar(y_pos, l1, align='center', alpha=0.5)\n",
    "plt.xticks(y_pos, objects)\n",
    "plt.show()\n",
    "\n",
    "#Since there are more number of false conditions the hypothesis is wrong"
   ]
  },
  {
   "cell_type": "code",
   "execution_count": 132,
   "metadata": {},
   "outputs": [
    {
     "data": {
      "text/html": [
       "<div>\n",
       "<style scoped>\n",
       "    .dataframe tbody tr th:only-of-type {\n",
       "        vertical-align: middle;\n",
       "    }\n",
       "\n",
       "    .dataframe tbody tr th {\n",
       "        vertical-align: top;\n",
       "    }\n",
       "\n",
       "    .dataframe thead th {\n",
       "        text-align: right;\n",
       "    }\n",
       "</style>\n",
       "<table border=\"1\" class=\"dataframe\">\n",
       "  <thead>\n",
       "    <tr style=\"text-align: right;\">\n",
       "      <th></th>\n",
       "      <th>Star_rating_CO</th>\n",
       "      <th>CO_rating_Above_3</th>\n",
       "    </tr>\n",
       "  </thead>\n",
       "  <tbody>\n",
       "    <tr>\n",
       "      <td>0</td>\n",
       "      <td>NaN</td>\n",
       "      <td>False</td>\n",
       "    </tr>\n",
       "    <tr>\n",
       "      <td>1</td>\n",
       "      <td>1.0</td>\n",
       "      <td>False</td>\n",
       "    </tr>\n",
       "    <tr>\n",
       "      <td>2</td>\n",
       "      <td>NaN</td>\n",
       "      <td>False</td>\n",
       "    </tr>\n",
       "    <tr>\n",
       "      <td>3</td>\n",
       "      <td>4.0</td>\n",
       "      <td>True</td>\n",
       "    </tr>\n",
       "    <tr>\n",
       "      <td>4</td>\n",
       "      <td>4.0</td>\n",
       "      <td>True</td>\n",
       "    </tr>\n",
       "  </tbody>\n",
       "</table>\n",
       "</div>"
      ],
      "text/plain": [
       "   Star_rating_CO  CO_rating_Above_3\n",
       "0             NaN              False\n",
       "1             1.0              False\n",
       "2             NaN              False\n",
       "3             4.0               True\n",
       "4             4.0               True"
      ]
     },
     "execution_count": 132,
     "metadata": {},
     "output_type": "execute_result"
    }
   ],
   "source": [
    "hypothesis_data_CO.head(5)"
   ]
  },
  {
   "cell_type": "markdown",
   "metadata": {},
   "source": [
    "### 6. IS THE STAR RATING FOR NEPHROLOGIST IS ABOVE 3 ?"
   ]
  },
  {
   "cell_type": "code",
   "execution_count": 133,
   "metadata": {},
   "outputs": [],
   "source": [
    "N_rating_Above_3 = []\n",
    "N_rating_Above_3 = data[\"Star_rating_nephrologist\"] >= 3.0"
   ]
  },
  {
   "cell_type": "code",
   "execution_count": 134,
   "metadata": {},
   "outputs": [],
   "source": [
    "Star_rating_N = data[\"Star_rating_nephrologist\"].to_list()"
   ]
  },
  {
   "cell_type": "code",
   "execution_count": 135,
   "metadata": {},
   "outputs": [
    {
     "data": {
      "image/png": "[encoded data removed]",
      "text/plain": [
       "<Figure size 432x288 with 1 Axes>"
      ]
     },
     "metadata": {},
     "output_type": "display_data"
    }
   ],
   "source": [
    "hypothesis_data_N = pd.DataFrame(list(zip(Star_rating_N, N_rating_Above_3)), \n",
    "               columns =['Star_rating_N', 'N_rating_Above_3'])\n",
    "\n",
    "\n",
    "\n",
    "import numpy as np\n",
    "T_Count=0\n",
    "F_Count=0\n",
    "l1=[]\n",
    "for i in N_rating_Above_3:\n",
    "    if i==True:\n",
    "        T_Count+=1\n",
    "    else:\n",
    "        F_Count+=1\n",
    "l1.append(T_Count)\n",
    "l1.append(F_Count)\n",
    "y_pos = np.arange(len(l1))\n",
    "objects=(\"True\",\"False\")\n",
    "plt.bar(y_pos, l1, align='center', alpha=0.5)\n",
    "plt.xticks(y_pos, objects)\n",
    "plt.show()\n",
    "\n",
    "#Since there are more number of false conditions the hypothesis is wrong"
   ]
  },
  {
   "cell_type": "code",
   "execution_count": null,
   "metadata": {},
   "outputs": [],
   "source": []
  },
  {
   "cell_type": "code",
   "execution_count": null,
   "metadata": {},
   "outputs": [],
   "source": []
  }
 ],
 "metadata": {
  "kernelspec": {
   "display_name": "Python 3",
   "language": "python",
   "name": "python3"
  },
  "language_info": {
   "codemirror_mode": {
    "name": "ipython",
    "version": 3
   },
   "file_extension": ".py",
   "mimetype": "text/x-python",
   "name": "python",
   "nbconvert_exporter": "python",
   "pygments_lexer": "ipython3",
   "version": "3.7.4"
  }
 },
 "nbformat": 4,
 "nbformat_minor": 2
}
