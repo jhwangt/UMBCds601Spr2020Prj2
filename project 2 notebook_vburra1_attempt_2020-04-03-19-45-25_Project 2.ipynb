{
 "cells": [
  {
   "cell_type": "markdown",
   "metadata": {},
   "source": [
    "# Project Proposal:\n",
    "\n",
    "Name of the Data set:BPD Part 1 Victim Based Crime Data\n",
    "\n",
    "Data Source Location:https://data.baltimorecity.gov/Public-Safety/BPD-Part-1-Victim-Based-Crime-Data/wsfq-mvij\n",
    "\n",
    "Discovery Of Data:I found this data set in the website called data.gov and found this information very interesting and relative to my work.\n",
    "\n",
    "Cost Incurred to Download the Dataset: The dataset is obtained from open source and free to download.\n",
    "\n",
    "Legality: It is totally legal to download the dataset from the website and use it.\n",
    "\n",
    "Documented EDA:There is no previous Documented Exploratory Data Analysis on this dataset.\n",
    "\n",
    "Data types in the data set: String,Numeric,Categorical\n",
    "\n",
    "Size of the data: The size of the data set is 37.8 MB. Number of Rows in the dataset are 297K.Number of columns in the dataset are 16.\n",
    "\n",
    "Relevancy to 601:We can perform Data analysis on this dataset and also it is suitable to EDA and quite relevant to the objectives of 601.\n",
    "\n",
    "Stories in the data set:Through this dataset the following hypothesis can be formulated\n",
    "\n",
    "1.More crimes occur at night time than day time.\n",
    "\n",
    "2.Number of crimes per year increases year by year."
   ]
  },
  {
   "cell_type": "code",
   "execution_count": 2,
   "metadata": {},
   "outputs": [],
   "source": [
    "import os\n",
    "os.chdir(\"C:/Users/bhara/Desktop/601\")"
   ]
  },
  {
   "cell_type": "code",
   "execution_count": 3,
   "metadata": {},
   "outputs": [
    {
     "data": {
      "text/plain": [
       "'C:\\\\Users\\\\bhara\\\\Desktop\\\\601'"
      ]
     },
     "execution_count": 3,
     "metadata": {},
     "output_type": "execute_result"
    }
   ],
   "source": [
    "os.getcwd()\n"
   ]
  },
  {
   "cell_type": "code",
   "execution_count": 41,
   "metadata": {},
   "outputs": [],
   "source": [
    "import pandas as pd\n",
    "import numpy as np\n",
    "import time\n",
    "import matplotlib.pyplot as plt\n",
    "import seaborn as sns\n",
    "#importing the required libraries\n",
    "\n",
    "\n"
   ]
  },
  {
   "cell_type": "code",
   "execution_count": 6,
   "metadata": {},
   "outputs": [
    {
     "name": "stderr",
     "output_type": "stream",
     "text": [
      "C:\\Users\\bhara\\AppData\\Local\\Continuum\\anaconda3\\lib\\site-packages\\IPython\\core\\interactiveshell.py:3058: DtypeWarning: Columns (7) have mixed types. Specify dtype option on import or set low_memory=False.\n",
      "  interactivity=interactivity, compiler=compiler, result=result)\n"
     ]
    }
   ],
   "source": [
    "#df = pd.read_csv('/content/BPD_Part_1_Victim_Based_Crime_Data.csv', parse_dates=[0])\n",
    "df=pd.read_csv(\"BPD_Part_1_Victim_Based_Crime_Data.csv\",parse_dates=[0])#"
   ]
  },
  {
   "cell_type": "code",
   "execution_count": 7,
   "metadata": {},
   "outputs": [
    {
     "data": {
      "text/html": [
       "<div>\n",
       "<style scoped>\n",
       "    .dataframe tbody tr th:only-of-type {\n",
       "        vertical-align: middle;\n",
       "    }\n",
       "\n",
       "    .dataframe tbody tr th {\n",
       "        vertical-align: top;\n",
       "    }\n",
       "\n",
       "    .dataframe thead th {\n",
       "        text-align: right;\n",
       "    }\n",
       "</style>\n",
       "<table border=\"1\" class=\"dataframe\">\n",
       "  <thead>\n",
       "    <tr style=\"text-align: right;\">\n",
       "      <th></th>\n",
       "      <th>CrimeDate</th>\n",
       "      <th>CrimeTime</th>\n",
       "      <th>CrimeCode</th>\n",
       "      <th>Location</th>\n",
       "      <th>Description</th>\n",
       "      <th>Inside/Outside</th>\n",
       "      <th>Weapon</th>\n",
       "      <th>Post</th>\n",
       "      <th>District</th>\n",
       "      <th>Neighborhood</th>\n",
       "      <th>Longitude</th>\n",
       "      <th>Latitude</th>\n",
       "      <th>Location 1</th>\n",
       "      <th>Premise</th>\n",
       "      <th>vri_name1</th>\n",
       "      <th>Total Incidents</th>\n",
       "    </tr>\n",
       "  </thead>\n",
       "  <tbody>\n",
       "    <tr>\n",
       "      <td>0</td>\n",
       "      <td>2020-03-14</td>\n",
       "      <td>12:00:00</td>\n",
       "      <td>3CF</td>\n",
       "      <td>800 N HOWARD ST</td>\n",
       "      <td>ROBBERY - COMMERCIAL</td>\n",
       "      <td>I</td>\n",
       "      <td>FIREARM</td>\n",
       "      <td>124</td>\n",
       "      <td>CENTRAL</td>\n",
       "      <td>MOUNT VERNON</td>\n",
       "      <td>-76.620000</td>\n",
       "      <td>39.299323</td>\n",
       "      <td>NaN</td>\n",
       "      <td>LAUNDRY/CLEANRS/SHOE</td>\n",
       "      <td>NaN</td>\n",
       "      <td>1</td>\n",
       "    </tr>\n",
       "    <tr>\n",
       "      <td>1</td>\n",
       "      <td>2020-03-14</td>\n",
       "      <td>15:37:00</td>\n",
       "      <td>6C</td>\n",
       "      <td>2500 N CHARLES ST</td>\n",
       "      <td>LARCENY</td>\n",
       "      <td>I</td>\n",
       "      <td>NaN</td>\n",
       "      <td>512</td>\n",
       "      <td>NORTHERN</td>\n",
       "      <td>CHARLES VILLAGE</td>\n",
       "      <td>-76.617081</td>\n",
       "      <td>39.318200</td>\n",
       "      <td>NaN</td>\n",
       "      <td>DRUG STORE / MED  BL</td>\n",
       "      <td>NaN</td>\n",
       "      <td>1</td>\n",
       "    </tr>\n",
       "    <tr>\n",
       "      <td>2</td>\n",
       "      <td>2020-03-14</td>\n",
       "      <td>13:00:00</td>\n",
       "      <td>6J</td>\n",
       "      <td>500 MAUDE AVE</td>\n",
       "      <td>LARCENY</td>\n",
       "      <td>NaN</td>\n",
       "      <td>NaN</td>\n",
       "      <td>913</td>\n",
       "      <td>SOUTHERN</td>\n",
       "      <td>BROOKLYN</td>\n",
       "      <td>-76.602687</td>\n",
       "      <td>39.238962</td>\n",
       "      <td>NaN</td>\n",
       "      <td>NaN</td>\n",
       "      <td>Brooklyn</td>\n",
       "      <td>1</td>\n",
       "    </tr>\n",
       "    <tr>\n",
       "      <td>3</td>\n",
       "      <td>2020-03-14</td>\n",
       "      <td>22:39:00</td>\n",
       "      <td>9S</td>\n",
       "      <td>2500 WASHINGTON BLVD</td>\n",
       "      <td>SHOOTING</td>\n",
       "      <td>Inside</td>\n",
       "      <td>FIREARM</td>\n",
       "      <td>831</td>\n",
       "      <td>SOUTHWEST</td>\n",
       "      <td>MORRELL PARK</td>\n",
       "      <td>-76.652239</td>\n",
       "      <td>39.266966</td>\n",
       "      <td>NaN</td>\n",
       "      <td>STREET</td>\n",
       "      <td>NaN</td>\n",
       "      <td>1</td>\n",
       "    </tr>\n",
       "    <tr>\n",
       "      <td>4</td>\n",
       "      <td>2020-03-14</td>\n",
       "      <td>23:16:00</td>\n",
       "      <td>4B</td>\n",
       "      <td>CROSS ST &amp; S CHARLES ST</td>\n",
       "      <td>AGG. ASSAULT</td>\n",
       "      <td>O</td>\n",
       "      <td>KNIFE</td>\n",
       "      <td>942</td>\n",
       "      <td>SOUTHERN</td>\n",
       "      <td>NaN</td>\n",
       "      <td>-76.614368</td>\n",
       "      <td>39.276819</td>\n",
       "      <td>NaN</td>\n",
       "      <td>STREET</td>\n",
       "      <td>NaN</td>\n",
       "      <td>1</td>\n",
       "    </tr>\n",
       "    <tr>\n",
       "      <td>5</td>\n",
       "      <td>2020-03-14</td>\n",
       "      <td>12:08:00</td>\n",
       "      <td>4E</td>\n",
       "      <td>6100 MOYER AVE</td>\n",
       "      <td>COMMON ASSAULT</td>\n",
       "      <td>I</td>\n",
       "      <td>NaN</td>\n",
       "      <td>424</td>\n",
       "      <td>NORTHEAST</td>\n",
       "      <td>WESTFIELD</td>\n",
       "      <td>-76.545583</td>\n",
       "      <td>39.355012</td>\n",
       "      <td>NaN</td>\n",
       "      <td>ROW/TOWNHOUSE-OCC</td>\n",
       "      <td>NaN</td>\n",
       "      <td>1</td>\n",
       "    </tr>\n",
       "    <tr>\n",
       "      <td>6</td>\n",
       "      <td>2020-03-14</td>\n",
       "      <td>22:20:00</td>\n",
       "      <td>7A</td>\n",
       "      <td>3500 ESTHER PL</td>\n",
       "      <td>AUTO THEFT</td>\n",
       "      <td>O</td>\n",
       "      <td>NaN</td>\n",
       "      <td>223</td>\n",
       "      <td>SOUTHEAST</td>\n",
       "      <td>BALTIMORE HIGHLANDS</td>\n",
       "      <td>-76.568366</td>\n",
       "      <td>39.294374</td>\n",
       "      <td>NaN</td>\n",
       "      <td>STREET</td>\n",
       "      <td>NaN</td>\n",
       "      <td>1</td>\n",
       "    </tr>\n",
       "    <tr>\n",
       "      <td>7</td>\n",
       "      <td>2020-03-14</td>\n",
       "      <td>22:00:00</td>\n",
       "      <td>4E</td>\n",
       "      <td>1300 S CLINTON ST</td>\n",
       "      <td>COMMON ASSAULT</td>\n",
       "      <td>I</td>\n",
       "      <td>NaN</td>\n",
       "      <td>214</td>\n",
       "      <td>SOUTHEAST</td>\n",
       "      <td>CANTON</td>\n",
       "      <td>-76.569375</td>\n",
       "      <td>39.278256</td>\n",
       "      <td>NaN</td>\n",
       "      <td>BAR</td>\n",
       "      <td>NaN</td>\n",
       "      <td>1</td>\n",
       "    </tr>\n",
       "    <tr>\n",
       "      <td>8</td>\n",
       "      <td>2020-03-14</td>\n",
       "      <td>01:57:00</td>\n",
       "      <td>4B</td>\n",
       "      <td>1400 E 33RD ST</td>\n",
       "      <td>AGG. ASSAULT</td>\n",
       "      <td>O</td>\n",
       "      <td>KNIFE</td>\n",
       "      <td>412</td>\n",
       "      <td>NORTHEAST</td>\n",
       "      <td>EDNOR GARDENS-LAKESI</td>\n",
       "      <td>-76.596584</td>\n",
       "      <td>39.328557</td>\n",
       "      <td>NaN</td>\n",
       "      <td>STREET</td>\n",
       "      <td>NaN</td>\n",
       "      <td>1</td>\n",
       "    </tr>\n",
       "    <tr>\n",
       "      <td>9</td>\n",
       "      <td>2020-03-14</td>\n",
       "      <td>10:30:00</td>\n",
       "      <td>4C</td>\n",
       "      <td>1800 ORLEANS ST</td>\n",
       "      <td>AGG. ASSAULT</td>\n",
       "      <td>I</td>\n",
       "      <td>OTHER</td>\n",
       "      <td>321</td>\n",
       "      <td>EASTERN</td>\n",
       "      <td>DUNBAR</td>\n",
       "      <td>-76.591316</td>\n",
       "      <td>39.295329</td>\n",
       "      <td>NaN</td>\n",
       "      <td>ROW/TOWNHOUSE-OCC</td>\n",
       "      <td>NaN</td>\n",
       "      <td>1</td>\n",
       "    </tr>\n",
       "  </tbody>\n",
       "</table>\n",
       "</div>"
      ],
      "text/plain": [
       "   CrimeDate CrimeTime CrimeCode                 Location  \\\n",
       "0 2020-03-14  12:00:00       3CF          800 N HOWARD ST   \n",
       "1 2020-03-14  15:37:00        6C        2500 N CHARLES ST   \n",
       "2 2020-03-14  13:00:00        6J            500 MAUDE AVE   \n",
       "3 2020-03-14  22:39:00        9S     2500 WASHINGTON BLVD   \n",
       "4 2020-03-14  23:16:00        4B  CROSS ST & S CHARLES ST   \n",
       "5 2020-03-14  12:08:00        4E           6100 MOYER AVE   \n",
       "6 2020-03-14  22:20:00        7A           3500 ESTHER PL   \n",
       "7 2020-03-14  22:00:00        4E        1300 S CLINTON ST   \n",
       "8 2020-03-14  01:57:00        4B           1400 E 33RD ST   \n",
       "9 2020-03-14  10:30:00        4C          1800 ORLEANS ST   \n",
       "\n",
       "            Description Inside/Outside   Weapon Post   District  \\\n",
       "0  ROBBERY - COMMERCIAL              I  FIREARM  124    CENTRAL   \n",
       "1               LARCENY              I      NaN  512   NORTHERN   \n",
       "2               LARCENY            NaN      NaN  913   SOUTHERN   \n",
       "3              SHOOTING         Inside  FIREARM  831  SOUTHWEST   \n",
       "4          AGG. ASSAULT              O    KNIFE  942   SOUTHERN   \n",
       "5        COMMON ASSAULT              I      NaN  424  NORTHEAST   \n",
       "6            AUTO THEFT              O      NaN  223  SOUTHEAST   \n",
       "7        COMMON ASSAULT              I      NaN  214  SOUTHEAST   \n",
       "8          AGG. ASSAULT              O    KNIFE  412  NORTHEAST   \n",
       "9          AGG. ASSAULT              I    OTHER  321    EASTERN   \n",
       "\n",
       "           Neighborhood  Longitude   Latitude  Location 1  \\\n",
       "0          MOUNT VERNON -76.620000  39.299323         NaN   \n",
       "1       CHARLES VILLAGE -76.617081  39.318200         NaN   \n",
       "2              BROOKLYN -76.602687  39.238962         NaN   \n",
       "3          MORRELL PARK -76.652239  39.266966         NaN   \n",
       "4                   NaN -76.614368  39.276819         NaN   \n",
       "5             WESTFIELD -76.545583  39.355012         NaN   \n",
       "6   BALTIMORE HIGHLANDS -76.568366  39.294374         NaN   \n",
       "7                CANTON -76.569375  39.278256         NaN   \n",
       "8  EDNOR GARDENS-LAKESI -76.596584  39.328557         NaN   \n",
       "9                DUNBAR -76.591316  39.295329         NaN   \n",
       "\n",
       "                Premise vri_name1  Total Incidents  \n",
       "0  LAUNDRY/CLEANRS/SHOE       NaN                1  \n",
       "1  DRUG STORE / MED  BL       NaN                1  \n",
       "2                   NaN  Brooklyn                1  \n",
       "3                STREET       NaN                1  \n",
       "4                STREET       NaN                1  \n",
       "5     ROW/TOWNHOUSE-OCC       NaN                1  \n",
       "6                STREET       NaN                1  \n",
       "7                   BAR       NaN                1  \n",
       "8                STREET       NaN                1  \n",
       "9     ROW/TOWNHOUSE-OCC       NaN                1  "
      ]
     },
     "execution_count": 7,
     "metadata": {},
     "output_type": "execute_result"
    }
   ],
   "source": [
    "df.head(10)#Displaying the header values"
   ]
  },
  {
   "cell_type": "code",
   "execution_count": 8,
   "metadata": {},
   "outputs": [
    {
     "name": "stdout",
     "output_type": "stream",
     "text": [
      "<class 'pandas.core.frame.DataFrame'>\n",
      "RangeIndex: 296727 entries, 0 to 296726\n",
      "Data columns (total 16 columns):\n",
      "CrimeDate          296727 non-null datetime64[ns]\n",
      "CrimeTime          296703 non-null object\n",
      "CrimeCode          296727 non-null object\n",
      "Location           295363 non-null object\n",
      "Description        296727 non-null object\n",
      "Inside/Outside     262062 non-null object\n",
      "Weapon             62469 non-null object\n",
      "Post               294331 non-null object\n",
      "District           296727 non-null object\n",
      "Neighborhood       286016 non-null object\n",
      "Longitude          295068 non-null float64\n",
      "Latitude           295068 non-null float64\n",
      "Location 1         0 non-null float64\n",
      "Premise            261810 non-null object\n",
      "vri_name1          35086 non-null object\n",
      "Total Incidents    296727 non-null int64\n",
      "dtypes: datetime64[ns](1), float64(3), int64(1), object(11)\n",
      "memory usage: 36.2+ MB\n"
     ]
    }
   ],
   "source": [
    "df.info()#Displaying the information of the contents in the data frame\n",
    "\n"
   ]
  },
  {
   "cell_type": "code",
   "execution_count": 9,
   "metadata": {},
   "outputs": [
    {
     "data": {
      "text/plain": [
       "CrimeDate          296727\n",
       "CrimeTime          296703\n",
       "CrimeCode          296727\n",
       "Location           295363\n",
       "Description        296727\n",
       "Inside/Outside     262062\n",
       "Weapon              62469\n",
       "Post               294331\n",
       "District           296727\n",
       "Neighborhood       286016\n",
       "Longitude          295068\n",
       "Latitude           295068\n",
       "Location 1              0\n",
       "Premise            261810\n",
       "vri_name1           35086\n",
       "Total Incidents    296727\n",
       "dtype: int64"
      ]
     },
     "execution_count": 9,
     "metadata": {},
     "output_type": "execute_result"
    }
   ],
   "source": [
    "df.count()#It is used to count the number of values in the columns"
   ]
  },
  {
   "cell_type": "code",
   "execution_count": 10,
   "metadata": {},
   "outputs": [],
   "source": [
    "df=df.drop_duplicates()#used to drop the duplicate values"
   ]
  },
  {
   "cell_type": "code",
   "execution_count": 11,
   "metadata": {},
   "outputs": [
    {
     "data": {
      "text/plain": [
       "(285095, 16)"
      ]
     },
     "execution_count": 11,
     "metadata": {},
     "output_type": "execute_result"
    }
   ],
   "source": [
    "df.shape"
   ]
  },
  {
   "cell_type": "code",
   "execution_count": 12,
   "metadata": {},
   "outputs": [
    {
     "name": "stdout",
     "output_type": "stream",
     "text": [
      "CrimeDate           2335\n",
      "CrimeTime           1470\n",
      "CrimeCode             81\n",
      "Location           27170\n",
      "Description           14\n",
      "Inside/Outside         4\n",
      "Weapon                 5\n",
      "Post                 259\n",
      "District              10\n",
      "Neighborhood         278\n",
      "Longitude          98542\n",
      "Latitude           97074\n",
      "Location 1             0\n",
      "Premise              125\n",
      "vri_name1              8\n",
      "Total Incidents        1\n",
      "dtype: int64\n"
     ]
    }
   ],
   "source": [
    "print(df.nunique())#Display the unique values in the dataframe"
   ]
  },
  {
   "cell_type": "code",
   "execution_count": 13,
   "metadata": {},
   "outputs": [
    {
     "data": {
      "text/html": [
       "<div>\n",
       "<style scoped>\n",
       "    .dataframe tbody tr th:only-of-type {\n",
       "        vertical-align: middle;\n",
       "    }\n",
       "\n",
       "    .dataframe tbody tr th {\n",
       "        vertical-align: top;\n",
       "    }\n",
       "\n",
       "    .dataframe thead th {\n",
       "        text-align: right;\n",
       "    }\n",
       "</style>\n",
       "<table border=\"1\" class=\"dataframe\">\n",
       "  <thead>\n",
       "    <tr style=\"text-align: right;\">\n",
       "      <th></th>\n",
       "      <th>Longitude</th>\n",
       "      <th>Latitude</th>\n",
       "      <th>Location 1</th>\n",
       "      <th>Total Incidents</th>\n",
       "    </tr>\n",
       "  </thead>\n",
       "  <tbody>\n",
       "    <tr>\n",
       "      <td>count</td>\n",
       "      <td>283507.000000</td>\n",
       "      <td>283507.000000</td>\n",
       "      <td>0.0</td>\n",
       "      <td>285095.0</td>\n",
       "    </tr>\n",
       "    <tr>\n",
       "      <td>mean</td>\n",
       "      <td>-76.617420</td>\n",
       "      <td>39.306861</td>\n",
       "      <td>NaN</td>\n",
       "      <td>1.0</td>\n",
       "    </tr>\n",
       "    <tr>\n",
       "      <td>std</td>\n",
       "      <td>0.043788</td>\n",
       "      <td>0.029653</td>\n",
       "      <td>NaN</td>\n",
       "      <td>0.0</td>\n",
       "    </tr>\n",
       "    <tr>\n",
       "      <td>min</td>\n",
       "      <td>-81.529189</td>\n",
       "      <td>37.577262</td>\n",
       "      <td>NaN</td>\n",
       "      <td>1.0</td>\n",
       "    </tr>\n",
       "    <tr>\n",
       "      <td>25%</td>\n",
       "      <td>-76.649027</td>\n",
       "      <td>39.288247</td>\n",
       "      <td>NaN</td>\n",
       "      <td>1.0</td>\n",
       "    </tr>\n",
       "    <tr>\n",
       "      <td>50%</td>\n",
       "      <td>-76.613935</td>\n",
       "      <td>39.302894</td>\n",
       "      <td>NaN</td>\n",
       "      <td>1.0</td>\n",
       "    </tr>\n",
       "    <tr>\n",
       "      <td>75%</td>\n",
       "      <td>-76.586960</td>\n",
       "      <td>39.327082</td>\n",
       "      <td>NaN</td>\n",
       "      <td>1.0</td>\n",
       "    </tr>\n",
       "    <tr>\n",
       "      <td>max</td>\n",
       "      <td>-76.383228</td>\n",
       "      <td>39.661332</td>\n",
       "      <td>NaN</td>\n",
       "      <td>1.0</td>\n",
       "    </tr>\n",
       "  </tbody>\n",
       "</table>\n",
       "</div>"
      ],
      "text/plain": [
       "           Longitude       Latitude  Location 1  Total Incidents\n",
       "count  283507.000000  283507.000000         0.0         285095.0\n",
       "mean      -76.617420      39.306861         NaN              1.0\n",
       "std         0.043788       0.029653         NaN              0.0\n",
       "min       -81.529189      37.577262         NaN              1.0\n",
       "25%       -76.649027      39.288247         NaN              1.0\n",
       "50%       -76.613935      39.302894         NaN              1.0\n",
       "75%       -76.586960      39.327082         NaN              1.0\n",
       "max       -76.383228      39.661332         NaN              1.0"
      ]
     },
     "execution_count": 13,
     "metadata": {},
     "output_type": "execute_result"
    }
   ],
   "source": [
    "df.describe()"
   ]
  },
  {
   "cell_type": "code",
   "execution_count": 14,
   "metadata": {},
   "outputs": [
    {
     "name": "stdout",
     "output_type": "stream",
     "text": [
      "CrimeDate               0\n",
      "CrimeTime              24\n",
      "CrimeCode               0\n",
      "Location             1298\n",
      "Description             0\n",
      "Inside/Outside      33093\n",
      "Weapon             228226\n",
      "Post                 2274\n",
      "District                0\n",
      "Neighborhood        10233\n",
      "Longitude            1588\n",
      "Latitude             1588\n",
      "Location 1         285095\n",
      "Premise             33333\n",
      "vri_name1          251450\n",
      "Total Incidents         0\n",
      "dtype: int64\n"
     ]
    }
   ],
   "source": [
    "print(df.isnull().sum())#Checking Null Values"
   ]
  },
  {
   "cell_type": "code",
   "execution_count": 15,
   "metadata": {},
   "outputs": [
    {
     "data": {
      "text/html": [
       "<div>\n",
       "<style scoped>\n",
       "    .dataframe tbody tr th:only-of-type {\n",
       "        vertical-align: middle;\n",
       "    }\n",
       "\n",
       "    .dataframe tbody tr th {\n",
       "        vertical-align: top;\n",
       "    }\n",
       "\n",
       "    .dataframe thead th {\n",
       "        text-align: right;\n",
       "    }\n",
       "</style>\n",
       "<table border=\"1\" class=\"dataframe\">\n",
       "  <thead>\n",
       "    <tr style=\"text-align: right;\">\n",
       "      <th></th>\n",
       "      <th>CrimeDate</th>\n",
       "      <th>CrimeCode</th>\n",
       "      <th>Description</th>\n",
       "      <th>District</th>\n",
       "      <th>Total Incidents</th>\n",
       "    </tr>\n",
       "  </thead>\n",
       "  <tbody>\n",
       "    <tr>\n",
       "      <td>0</td>\n",
       "      <td>2020-03-14</td>\n",
       "      <td>3CF</td>\n",
       "      <td>ROBBERY - COMMERCIAL</td>\n",
       "      <td>CENTRAL</td>\n",
       "      <td>1</td>\n",
       "    </tr>\n",
       "    <tr>\n",
       "      <td>1</td>\n",
       "      <td>2020-03-14</td>\n",
       "      <td>6C</td>\n",
       "      <td>LARCENY</td>\n",
       "      <td>NORTHERN</td>\n",
       "      <td>1</td>\n",
       "    </tr>\n",
       "    <tr>\n",
       "      <td>2</td>\n",
       "      <td>2020-03-14</td>\n",
       "      <td>6J</td>\n",
       "      <td>LARCENY</td>\n",
       "      <td>SOUTHERN</td>\n",
       "      <td>1</td>\n",
       "    </tr>\n",
       "    <tr>\n",
       "      <td>3</td>\n",
       "      <td>2020-03-14</td>\n",
       "      <td>9S</td>\n",
       "      <td>SHOOTING</td>\n",
       "      <td>SOUTHWEST</td>\n",
       "      <td>1</td>\n",
       "    </tr>\n",
       "    <tr>\n",
       "      <td>4</td>\n",
       "      <td>2020-03-14</td>\n",
       "      <td>4B</td>\n",
       "      <td>AGG. ASSAULT</td>\n",
       "      <td>SOUTHERN</td>\n",
       "      <td>1</td>\n",
       "    </tr>\n",
       "    <tr>\n",
       "      <td>...</td>\n",
       "      <td>...</td>\n",
       "      <td>...</td>\n",
       "      <td>...</td>\n",
       "      <td>...</td>\n",
       "      <td>...</td>\n",
       "    </tr>\n",
       "    <tr>\n",
       "      <td>296722</td>\n",
       "      <td>1978-01-01</td>\n",
       "      <td>2A</td>\n",
       "      <td>RAPE</td>\n",
       "      <td>NORTHEAST</td>\n",
       "      <td>1</td>\n",
       "    </tr>\n",
       "    <tr>\n",
       "      <td>296723</td>\n",
       "      <td>1977-05-01</td>\n",
       "      <td>2A</td>\n",
       "      <td>RAPE</td>\n",
       "      <td>NORTHERN</td>\n",
       "      <td>1</td>\n",
       "    </tr>\n",
       "    <tr>\n",
       "      <td>296724</td>\n",
       "      <td>1975-06-01</td>\n",
       "      <td>2A</td>\n",
       "      <td>RAPE</td>\n",
       "      <td>SOUTHWEST</td>\n",
       "      <td>1</td>\n",
       "    </tr>\n",
       "    <tr>\n",
       "      <td>296725</td>\n",
       "      <td>1969-07-20</td>\n",
       "      <td>2A</td>\n",
       "      <td>RAPE</td>\n",
       "      <td>NORTHERN</td>\n",
       "      <td>1</td>\n",
       "    </tr>\n",
       "    <tr>\n",
       "      <td>296726</td>\n",
       "      <td>1963-10-30</td>\n",
       "      <td>2A</td>\n",
       "      <td>RAPE</td>\n",
       "      <td>NORTHWEST</td>\n",
       "      <td>1</td>\n",
       "    </tr>\n",
       "  </tbody>\n",
       "</table>\n",
       "<p>285095 rows × 5 columns</p>\n",
       "</div>"
      ],
      "text/plain": [
       "        CrimeDate CrimeCode           Description   District  Total Incidents\n",
       "0      2020-03-14       3CF  ROBBERY - COMMERCIAL    CENTRAL                1\n",
       "1      2020-03-14        6C               LARCENY   NORTHERN                1\n",
       "2      2020-03-14        6J               LARCENY   SOUTHERN                1\n",
       "3      2020-03-14        9S              SHOOTING  SOUTHWEST                1\n",
       "4      2020-03-14        4B          AGG. ASSAULT   SOUTHERN                1\n",
       "...           ...       ...                   ...        ...              ...\n",
       "296722 1978-01-01        2A                  RAPE  NORTHEAST                1\n",
       "296723 1977-05-01        2A                  RAPE   NORTHERN                1\n",
       "296724 1975-06-01        2A                  RAPE  SOUTHWEST                1\n",
       "296725 1969-07-20        2A                  RAPE   NORTHERN                1\n",
       "296726 1963-10-30        2A                  RAPE  NORTHWEST                1\n",
       "\n",
       "[285095 rows x 5 columns]"
      ]
     },
     "execution_count": 15,
     "metadata": {},
     "output_type": "execute_result"
    }
   ],
   "source": [
    "df.dropna(axis=1)#Erasing columns with empty values"
   ]
  },
  {
   "cell_type": "markdown",
   "metadata": {},
   "source": [
    "# The below bar chart depicts the types of crimes and we can also confirm that \"Larceny\" is best practiced crime."
   ]
  },
  {
   "cell_type": "code",
   "execution_count": 16,
   "metadata": {},
   "outputs": [
    {
     "data": {
      "image/png": "[encoded data removed]",
      "text/plain": [
       "<Figure size 1008x576 with 1 Axes>"
      ]
     },
     "metadata": {
      "needs_background": "light"
     },
     "output_type": "display_data"
    }
   ],
   "source": [
    "Description='Description'\n",
    "plt.figure(figsize=(14,8))\n",
    "df['Description'].value_counts().plot.bar(title='Crime types')\n",
    "plt.show()"
   ]
  },
  {
   "cell_type": "code",
   "execution_count": 17,
   "metadata": {},
   "outputs": [
    {
     "data": {
      "text/plain": [
       "NORTHEAST    42833\n",
       "SOUTHEAST    40443\n",
       "CENTRAL      32942\n",
       "NORTHERN     31836\n",
       "SOUTHERN     31807\n",
       "SOUTHWEST    29285\n",
       "NORTHWEST    28173\n",
       "EASTERN      24748\n",
       "WESTERN      22695\n",
       "UNKNOWN        333\n",
       "Name: District, dtype: int64"
      ]
     },
     "execution_count": 17,
     "metadata": {},
     "output_type": "execute_result"
    }
   ],
   "source": [
    "df.District.value_counts()"
   ]
  },
  {
   "cell_type": "markdown",
   "metadata": {},
   "source": [
    "# The below bar chart represents the total number of crimes per district"
   ]
  },
  {
   "cell_type": "code",
   "execution_count": 18,
   "metadata": {},
   "outputs": [
    {
     "data": {
      "image/png": "[encoded data removed]",
      "text/plain": [
       "<Figure size 1008x576 with 1 Axes>"
      ]
     },
     "metadata": {
      "needs_background": "light"
     },
     "output_type": "display_data"
    }
   ],
   "source": [
    "District='District'\n",
    "plt.figure(figsize=(14,8))\n",
    "df['District'].value_counts().plot.bar(title='Total crimes per District')\n",
    "plt.show()"
   ]
  },
  {
   "cell_type": "markdown",
   "metadata": {},
   "source": [
    "From the bar chart we can confirm that Northeast has the highest crime rate."
   ]
  },
  {
   "cell_type": "markdown",
   "metadata": {},
   "source": [
    "# The pie chart depicts that Around 15% of the total crimes happens in NorthEast"
   ]
  },
  {
   "cell_type": "code",
   "execution_count": 19,
   "metadata": {},
   "outputs": [
    {
     "data": {
      "image/png": "[encoded data removed]",
      "text/plain": [
       "<Figure size 1152x720 with 1 Axes>"
      ]
     },
     "metadata": {},
     "output_type": "display_data"
    }
   ],
   "source": [
    "District='District'\n",
    "plt.figure(figsize=(16,10))\n",
    "df['District'].value_counts().plot.pie(title='Crimes per District',autopct='%1.0f%%')\n",
    "plt.show()"
   ]
  },
  {
   "cell_type": "code",
   "execution_count": 20,
   "metadata": {},
   "outputs": [
    {
     "data": {
      "text/html": [
       "<div>\n",
       "<style scoped>\n",
       "    .dataframe tbody tr th:only-of-type {\n",
       "        vertical-align: middle;\n",
       "    }\n",
       "\n",
       "    .dataframe tbody tr th {\n",
       "        vertical-align: top;\n",
       "    }\n",
       "\n",
       "    .dataframe thead th {\n",
       "        text-align: right;\n",
       "    }\n",
       "</style>\n",
       "<table border=\"1\" class=\"dataframe\">\n",
       "  <thead>\n",
       "    <tr style=\"text-align: right;\">\n",
       "      <th></th>\n",
       "      <th>CrimeDate</th>\n",
       "      <th>CrimeTime</th>\n",
       "      <th>CrimeCode</th>\n",
       "      <th>Location</th>\n",
       "      <th>Description</th>\n",
       "      <th>Inside/Outside</th>\n",
       "      <th>Weapon</th>\n",
       "      <th>Post</th>\n",
       "      <th>District</th>\n",
       "      <th>Neighborhood</th>\n",
       "      <th>Longitude</th>\n",
       "      <th>Latitude</th>\n",
       "      <th>Location 1</th>\n",
       "      <th>Premise</th>\n",
       "      <th>vri_name1</th>\n",
       "      <th>Total Incidents</th>\n",
       "    </tr>\n",
       "  </thead>\n",
       "  <tbody>\n",
       "    <tr>\n",
       "      <td>0</td>\n",
       "      <td>2020-03-14</td>\n",
       "      <td>12:00:00</td>\n",
       "      <td>3CF</td>\n",
       "      <td>800 N HOWARD ST</td>\n",
       "      <td>ROBBERY - COMMERCIAL</td>\n",
       "      <td>I</td>\n",
       "      <td>FIREARM</td>\n",
       "      <td>124</td>\n",
       "      <td>CENTRAL</td>\n",
       "      <td>MOUNT VERNON</td>\n",
       "      <td>-76.620000</td>\n",
       "      <td>39.299323</td>\n",
       "      <td>NaN</td>\n",
       "      <td>LAUNDRY/CLEANRS/SHOE</td>\n",
       "      <td>NaN</td>\n",
       "      <td>1</td>\n",
       "    </tr>\n",
       "    <tr>\n",
       "      <td>1</td>\n",
       "      <td>2020-03-14</td>\n",
       "      <td>15:37:00</td>\n",
       "      <td>6C</td>\n",
       "      <td>2500 N CHARLES ST</td>\n",
       "      <td>LARCENY</td>\n",
       "      <td>I</td>\n",
       "      <td>NaN</td>\n",
       "      <td>512</td>\n",
       "      <td>NORTHERN</td>\n",
       "      <td>CHARLES VILLAGE</td>\n",
       "      <td>-76.617081</td>\n",
       "      <td>39.318200</td>\n",
       "      <td>NaN</td>\n",
       "      <td>DRUG STORE / MED  BL</td>\n",
       "      <td>NaN</td>\n",
       "      <td>1</td>\n",
       "    </tr>\n",
       "    <tr>\n",
       "      <td>2</td>\n",
       "      <td>2020-03-14</td>\n",
       "      <td>13:00:00</td>\n",
       "      <td>6J</td>\n",
       "      <td>500 MAUDE AVE</td>\n",
       "      <td>LARCENY</td>\n",
       "      <td>NaN</td>\n",
       "      <td>NaN</td>\n",
       "      <td>913</td>\n",
       "      <td>SOUTHERN</td>\n",
       "      <td>BROOKLYN</td>\n",
       "      <td>-76.602687</td>\n",
       "      <td>39.238962</td>\n",
       "      <td>NaN</td>\n",
       "      <td>NaN</td>\n",
       "      <td>Brooklyn</td>\n",
       "      <td>1</td>\n",
       "    </tr>\n",
       "    <tr>\n",
       "      <td>3</td>\n",
       "      <td>2020-03-14</td>\n",
       "      <td>22:39:00</td>\n",
       "      <td>9S</td>\n",
       "      <td>2500 WASHINGTON BLVD</td>\n",
       "      <td>SHOOTING</td>\n",
       "      <td>Inside</td>\n",
       "      <td>FIREARM</td>\n",
       "      <td>831</td>\n",
       "      <td>SOUTHWEST</td>\n",
       "      <td>MORRELL PARK</td>\n",
       "      <td>-76.652239</td>\n",
       "      <td>39.266966</td>\n",
       "      <td>NaN</td>\n",
       "      <td>STREET</td>\n",
       "      <td>NaN</td>\n",
       "      <td>1</td>\n",
       "    </tr>\n",
       "    <tr>\n",
       "      <td>4</td>\n",
       "      <td>2020-03-14</td>\n",
       "      <td>23:16:00</td>\n",
       "      <td>4B</td>\n",
       "      <td>CROSS ST &amp; S CHARLES ST</td>\n",
       "      <td>AGG. ASSAULT</td>\n",
       "      <td>O</td>\n",
       "      <td>KNIFE</td>\n",
       "      <td>942</td>\n",
       "      <td>SOUTHERN</td>\n",
       "      <td>NaN</td>\n",
       "      <td>-76.614368</td>\n",
       "      <td>39.276819</td>\n",
       "      <td>NaN</td>\n",
       "      <td>STREET</td>\n",
       "      <td>NaN</td>\n",
       "      <td>1</td>\n",
       "    </tr>\n",
       "  </tbody>\n",
       "</table>\n",
       "</div>"
      ],
      "text/plain": [
       "   CrimeDate CrimeTime CrimeCode                 Location  \\\n",
       "0 2020-03-14  12:00:00       3CF          800 N HOWARD ST   \n",
       "1 2020-03-14  15:37:00        6C        2500 N CHARLES ST   \n",
       "2 2020-03-14  13:00:00        6J            500 MAUDE AVE   \n",
       "3 2020-03-14  22:39:00        9S     2500 WASHINGTON BLVD   \n",
       "4 2020-03-14  23:16:00        4B  CROSS ST & S CHARLES ST   \n",
       "\n",
       "            Description Inside/Outside   Weapon Post   District  \\\n",
       "0  ROBBERY - COMMERCIAL              I  FIREARM  124    CENTRAL   \n",
       "1               LARCENY              I      NaN  512   NORTHERN   \n",
       "2               LARCENY            NaN      NaN  913   SOUTHERN   \n",
       "3              SHOOTING         Inside  FIREARM  831  SOUTHWEST   \n",
       "4          AGG. ASSAULT              O    KNIFE  942   SOUTHERN   \n",
       "\n",
       "      Neighborhood  Longitude   Latitude  Location 1               Premise  \\\n",
       "0     MOUNT VERNON -76.620000  39.299323         NaN  LAUNDRY/CLEANRS/SHOE   \n",
       "1  CHARLES VILLAGE -76.617081  39.318200         NaN  DRUG STORE / MED  BL   \n",
       "2         BROOKLYN -76.602687  39.238962         NaN                   NaN   \n",
       "3     MORRELL PARK -76.652239  39.266966         NaN                STREET   \n",
       "4              NaN -76.614368  39.276819         NaN                STREET   \n",
       "\n",
       "  vri_name1  Total Incidents  \n",
       "0       NaN                1  \n",
       "1       NaN                1  \n",
       "2  Brooklyn                1  \n",
       "3       NaN                1  \n",
       "4       NaN                1  "
      ]
     },
     "execution_count": 20,
     "metadata": {},
     "output_type": "execute_result"
    }
   ],
   "source": [
    "df.head()"
   ]
  },
  {
   "cell_type": "code",
   "execution_count": 69,
   "metadata": {},
   "outputs": [
    {
     "data": {
      "text/html": [
       "<div>\n",
       "<style scoped>\n",
       "    .dataframe tbody tr th:only-of-type {\n",
       "        vertical-align: middle;\n",
       "    }\n",
       "\n",
       "    .dataframe tbody tr th {\n",
       "        vertical-align: top;\n",
       "    }\n",
       "\n",
       "    .dataframe thead th {\n",
       "        text-align: right;\n",
       "    }\n",
       "</style>\n",
       "<table border=\"1\" class=\"dataframe\">\n",
       "  <thead>\n",
       "    <tr style=\"text-align: right;\">\n",
       "      <th></th>\n",
       "      <th>index</th>\n",
       "      <th>month_crime</th>\n",
       "    </tr>\n",
       "  </thead>\n",
       "  <tbody>\n",
       "    <tr>\n",
       "      <td>0</td>\n",
       "      <td>8</td>\n",
       "      <td>25487</td>\n",
       "    </tr>\n",
       "    <tr>\n",
       "      <td>1</td>\n",
       "      <td>10</td>\n",
       "      <td>25424</td>\n",
       "    </tr>\n",
       "    <tr>\n",
       "      <td>2</td>\n",
       "      <td>7</td>\n",
       "      <td>25411</td>\n",
       "    </tr>\n",
       "    <tr>\n",
       "      <td>3</td>\n",
       "      <td>1</td>\n",
       "      <td>24940</td>\n",
       "    </tr>\n",
       "    <tr>\n",
       "      <td>4</td>\n",
       "      <td>6</td>\n",
       "      <td>24622</td>\n",
       "    </tr>\n",
       "    <tr>\n",
       "      <td>5</td>\n",
       "      <td>5</td>\n",
       "      <td>24622</td>\n",
       "    </tr>\n",
       "    <tr>\n",
       "      <td>6</td>\n",
       "      <td>9</td>\n",
       "      <td>24620</td>\n",
       "    </tr>\n",
       "    <tr>\n",
       "      <td>7</td>\n",
       "      <td>11</td>\n",
       "      <td>23054</td>\n",
       "    </tr>\n",
       "    <tr>\n",
       "      <td>8</td>\n",
       "      <td>12</td>\n",
       "      <td>22695</td>\n",
       "    </tr>\n",
       "    <tr>\n",
       "      <td>9</td>\n",
       "      <td>4</td>\n",
       "      <td>22126</td>\n",
       "    </tr>\n",
       "    <tr>\n",
       "      <td>10</td>\n",
       "      <td>3</td>\n",
       "      <td>21539</td>\n",
       "    </tr>\n",
       "    <tr>\n",
       "      <td>11</td>\n",
       "      <td>2</td>\n",
       "      <td>20555</td>\n",
       "    </tr>\n",
       "  </tbody>\n",
       "</table>\n",
       "</div>"
      ],
      "text/plain": [
       "    index  month_crime\n",
       "0       8        25487\n",
       "1      10        25424\n",
       "2       7        25411\n",
       "3       1        24940\n",
       "4       6        24622\n",
       "5       5        24622\n",
       "6       9        24620\n",
       "7      11        23054\n",
       "8      12        22695\n",
       "9       4        22126\n",
       "10      3        21539\n",
       "11      2        20555"
      ]
     },
     "execution_count": 69,
     "metadata": {},
     "output_type": "execute_result"
    }
   ],
   "source": [
    "df['month_crime'] =  pd.DatetimeIndex(df['CrimeDate']).month #Extracting the month from the year.\n",
    "df3=df['month_crime'].value_counts()\n",
    "df3.reset_index()#df3 is a newdata frame where the extracted month values are st\n",
    "df3=df3.reset_index()\n",
    "df3\n",
    "\n"
   ]
  },
  {
   "cell_type": "markdown",
   "metadata": {},
   "source": [
    "# The below barchart shows the crimes occured in each month"
   ]
  },
  {
   "cell_type": "code",
   "execution_count": 63,
   "metadata": {},
   "outputs": [
    {
     "data": {
      "image/png": "[encoded data removed]",
      "text/plain": [
       "<Figure size 432x288 with 1 Axes>"
      ]
     },
     "metadata": {
      "needs_background": "light"
     },
     "output_type": "display_data"
    }
   ],
   "source": [
    "sns.barplot(y='month_crime',x='index',data=df3)\n",
    "plt.show()"
   ]
  },
  {
   "cell_type": "markdown",
   "metadata": {},
   "source": [
    "From the barchart we can see that most of the crimes were happend in the 8th month."
   ]
  },
  {
   "cell_type": "code",
   "execution_count": 23,
   "metadata": {},
   "outputs": [
    {
     "data": {
      "image/png": "[encoded data removed]",
      "text/plain": [
       "<Figure size 1008x576 with 1 Axes>"
      ]
     },
     "metadata": {
      "needs_background": "light"
     },
     "output_type": "display_data"
    }
   ],
   "source": [
    "Neighborhood='Neighborhood'\n",
    "plt.figure(figsize=(14,8))\n",
    "df['Neighborhood'].value_counts().plot.hist(title='Crimes per neighborhood')\n",
    "plt.show()"
   ]
  },
  {
   "cell_type": "markdown",
   "metadata": {},
   "source": [
    "# Hypothesis 1"
   ]
  },
  {
   "cell_type": "code",
   "execution_count": null,
   "metadata": {},
   "outputs": [],
   "source": [
    "df['year_crime'] = pd.DatetimeIndex(df['CrimeDate']).year"
   ]
  },
  {
   "cell_type": "code",
   "execution_count": null,
   "metadata": {},
   "outputs": [],
   "source": [
    "df['year_crime'].value_counts()"
   ]
  },
  {
   "cell_type": "markdown",
   "metadata": {},
   "source": [
    " **Observation:** \n",
    "\n",
    "*   There is very less data until the year 2014. So they are not included in our analysis.\n",
    "*   There are significant number of records from 2014 to 2020.\n",
    "* But in 2020, we have data only till March 14. So we exclude 2020 from our analysis.\n",
    "*  From 2014 to 2019 the number of crimes are not increasing year by year.\n",
    "*  Therefore, my first hypothesis is proved incorrect.\n"
   ]
  },
  {
   "cell_type": "code",
   "execution_count": null,
   "metadata": {},
   "outputs": [],
   "source": [
    "df['crime_hour'] = pd.to_numeric(df.CrimeTime.str[0:2])"
   ]
  },
  {
   "cell_type": "markdown",
   "metadata": {},
   "source": [
    " # Below I'm dividing the day into two parts based on the hour crime took place:\n",
    "# 06:00 < hour < 18:00: Day\n",
    "# Rest all : Night"
   ]
  },
  {
   "cell_type": "code",
   "execution_count": null,
   "metadata": {},
   "outputs": [],
   "source": [
    "df['part_of_day'] = ''\n",
    "df['part_of_day'][(df['crime_hour']>=6) & (df['crime_hour']<18)] = 'Day'\n",
    "df['part_of_day'][df['crime_hour']>=18] = 'Night'\n",
    "df['part_of_day'][df['crime_hour']<6] = 'Night'"
   ]
  },
  {
   "cell_type": "code",
   "execution_count": null,
   "metadata": {},
   "outputs": [],
   "source": [
    "df[['crime_hour','part_of_day']].head()"
   ]
  },
  {
   "cell_type": "code",
   "execution_count": null,
   "metadata": {},
   "outputs": [],
   "source": [
    "df.part_of_day.value_counts()"
   ]
  },
  {
   "cell_type": "markdown",
   "metadata": {},
   "source": [
    "**Observation:** \n",
    "* From the data we observe that there \n",
    "are slightly more number of crimes in night that in day. \n",
    "* Therefore, Hypothesis 2 is correct but level of confidence is very low."
   ]
  },
  {
   "cell_type": "code",
   "execution_count": null,
   "metadata": {},
   "outputs": [],
   "source": []
  },
  {
   "cell_type": "code",
   "execution_count": null,
   "metadata": {},
   "outputs": [],
   "source": []
  }
 ],
 "metadata": {
  "kernelspec": {
   "display_name": "Python 3",
   "language": "python",
   "name": "python3"
  },
  "language_info": {
   "codemirror_mode": {
    "name": "ipython",
    "version": 3
   },
   "file_extension": ".py",
   "mimetype": "text/x-python",
   "name": "python",
   "nbconvert_exporter": "python",
   "pygments_lexer": "ipython3",
   "version": "3.7.4"
  }
 },
 "nbformat": 4,
 "nbformat_minor": 2
}
