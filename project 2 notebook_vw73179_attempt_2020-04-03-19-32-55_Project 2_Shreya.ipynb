{
 "cells": [
  {
   "cell_type": "markdown",
   "metadata": {},
   "source": [
    "# Project 2 \n",
    "\n",
    "### Proving hypothesis using Jupyter and Python3\n",
    "\n",
    "Data set Name- international-visitors-london-raw\n",
    "\n",
    "It has 11 columns and 58977 rows\n",
    "\n",
    "I got this dataset from the London Datastore website. I came across this site at the time when I was searching for the data sets which you have mentioned in the project data set links.\n",
    "\n",
    "Link - https://data.london.gov.uk/dataset/number-international-visitors-london\n",
    "\n",
    "The name of the data set on the link is international-visitors-london-raw.\n",
    "\n",
    "Size of the data set - 4.99MB\n",
    "\n",
    "The data is free to download at no cost. And the data is legal to access\n"
   ]
  },
  {
   "cell_type": "markdown",
   "metadata": {},
   "source": [
    "### Importing necessary libraries\n",
    "Using pandas for reading the dataset.\n",
    "Numpy is used to process multidimensional arrays.\n",
    "And rest all the libraries are used for data visualization."
   ]
  },
  {
   "cell_type": "code",
   "execution_count": 100,
   "metadata": {},
   "outputs": [
    {
     "data": {
      "text/plain": [
       "'0.25.1'"
      ]
     },
     "execution_count": 100,
     "metadata": {},
     "output_type": "execute_result"
    }
   ],
   "source": [
    "import pandas\n",
    "import numpy as np\n",
    "pandas.__version__"
   ]
  },
  {
   "cell_type": "code",
   "execution_count": 101,
   "metadata": {},
   "outputs": [
    {
     "data": {
      "text/plain": [
       "'3.1.1'"
      ]
     },
     "execution_count": 101,
     "metadata": {},
     "output_type": "execute_result"
    }
   ],
   "source": [
    "import matplotlib\n",
    "import matplotlib.pyplot as plt\n",
    "import seaborn as sns\n",
    "matplotlib.__version__"
   ]
  },
  {
   "cell_type": "markdown",
   "metadata": {},
   "source": [
    "### Reading the CSV using pandas, dframe is created for the csv and displaying the first 15 rows present in the dataset."
   ]
  },
  {
   "cell_type": "code",
   "execution_count": 102,
   "metadata": {},
   "outputs": [
    {
     "data": {
      "text/html": [
       "<div>\n",
       "<style scoped>\n",
       "    .dataframe tbody tr th:only-of-type {\n",
       "        vertical-align: middle;\n",
       "    }\n",
       "\n",
       "    .dataframe tbody tr th {\n",
       "        vertical-align: top;\n",
       "    }\n",
       "\n",
       "    .dataframe thead th {\n",
       "        text-align: right;\n",
       "    }\n",
       "</style>\n",
       "<table border=\"1\" class=\"dataframe\">\n",
       "  <thead>\n",
       "    <tr style=\"text-align: right;\">\n",
       "      <th></th>\n",
       "      <th>year</th>\n",
       "      <th>quarter</th>\n",
       "      <th>market</th>\n",
       "      <th>dur_stay</th>\n",
       "      <th>mode</th>\n",
       "      <th>purpose</th>\n",
       "      <th>area</th>\n",
       "      <th>visits</th>\n",
       "      <th>spend</th>\n",
       "      <th>nights</th>\n",
       "      <th>sample</th>\n",
       "    </tr>\n",
       "  </thead>\n",
       "  <tbody>\n",
       "    <tr>\n",
       "      <td>0</td>\n",
       "      <td>2002</td>\n",
       "      <td>Q1</td>\n",
       "      <td>Belgium</td>\n",
       "      <td>1-3  nights</td>\n",
       "      <td>Air</td>\n",
       "      <td>Holiday</td>\n",
       "      <td>LONDON</td>\n",
       "      <td>3.572186</td>\n",
       "      <td>0.969138</td>\n",
       "      <td>6.954456</td>\n",
       "      <td>5</td>\n",
       "    </tr>\n",
       "    <tr>\n",
       "      <td>1</td>\n",
       "      <td>2002</td>\n",
       "      <td>Q1</td>\n",
       "      <td>Belgium</td>\n",
       "      <td>1-3  nights</td>\n",
       "      <td>Air</td>\n",
       "      <td>Business</td>\n",
       "      <td>LONDON</td>\n",
       "      <td>9.284226</td>\n",
       "      <td>2.399577</td>\n",
       "      <td>12.604959</td>\n",
       "      <td>19</td>\n",
       "    </tr>\n",
       "    <tr>\n",
       "      <td>2</td>\n",
       "      <td>2002</td>\n",
       "      <td>Q1</td>\n",
       "      <td>Belgium</td>\n",
       "      <td>1-3  nights</td>\n",
       "      <td>Air</td>\n",
       "      <td>VFR</td>\n",
       "      <td>LONDON</td>\n",
       "      <td>0.877182</td>\n",
       "      <td>0.089833</td>\n",
       "      <td>2.153128</td>\n",
       "      <td>3</td>\n",
       "    </tr>\n",
       "    <tr>\n",
       "      <td>3</td>\n",
       "      <td>2002</td>\n",
       "      <td>Q1</td>\n",
       "      <td>Belgium</td>\n",
       "      <td>1-3  nights</td>\n",
       "      <td>Air</td>\n",
       "      <td>Miscellaneous</td>\n",
       "      <td>LONDON</td>\n",
       "      <td>0.163874</td>\n",
       "      <td>0.010160</td>\n",
       "      <td>0.163874</td>\n",
       "      <td>1</td>\n",
       "    </tr>\n",
       "    <tr>\n",
       "      <td>4</td>\n",
       "      <td>2002</td>\n",
       "      <td>Q1</td>\n",
       "      <td>Belgium</td>\n",
       "      <td>1-3  nights</td>\n",
       "      <td>Sea</td>\n",
       "      <td>Business</td>\n",
       "      <td>LONDON</td>\n",
       "      <td>1.648670</td>\n",
       "      <td>0.016789</td>\n",
       "      <td>1.650300</td>\n",
       "      <td>1</td>\n",
       "    </tr>\n",
       "    <tr>\n",
       "      <td>5</td>\n",
       "      <td>2002</td>\n",
       "      <td>Q1</td>\n",
       "      <td>Belgium</td>\n",
       "      <td>1-3  nights</td>\n",
       "      <td>Sea</td>\n",
       "      <td>Miscellaneous</td>\n",
       "      <td>LONDON</td>\n",
       "      <td>0.590807</td>\n",
       "      <td>0.003953</td>\n",
       "      <td>1.772420</td>\n",
       "      <td>1</td>\n",
       "    </tr>\n",
       "    <tr>\n",
       "      <td>6</td>\n",
       "      <td>2002</td>\n",
       "      <td>Q1</td>\n",
       "      <td>Belgium</td>\n",
       "      <td>1-3  nights</td>\n",
       "      <td>Tunnel</td>\n",
       "      <td>Holiday</td>\n",
       "      <td>LONDON</td>\n",
       "      <td>10.940251</td>\n",
       "      <td>2.765473</td>\n",
       "      <td>23.242688</td>\n",
       "      <td>30</td>\n",
       "    </tr>\n",
       "    <tr>\n",
       "      <td>7</td>\n",
       "      <td>2002</td>\n",
       "      <td>Q1</td>\n",
       "      <td>Belgium</td>\n",
       "      <td>1-3  nights</td>\n",
       "      <td>Tunnel</td>\n",
       "      <td>Business</td>\n",
       "      <td>LONDON</td>\n",
       "      <td>6.052632</td>\n",
       "      <td>1.446697</td>\n",
       "      <td>10.428555</td>\n",
       "      <td>16</td>\n",
       "    </tr>\n",
       "    <tr>\n",
       "      <td>8</td>\n",
       "      <td>2002</td>\n",
       "      <td>Q1</td>\n",
       "      <td>Belgium</td>\n",
       "      <td>1-3  nights</td>\n",
       "      <td>Tunnel</td>\n",
       "      <td>VFR</td>\n",
       "      <td>LONDON</td>\n",
       "      <td>5.559403</td>\n",
       "      <td>0.468140</td>\n",
       "      <td>9.441416</td>\n",
       "      <td>13</td>\n",
       "    </tr>\n",
       "    <tr>\n",
       "      <td>9</td>\n",
       "      <td>2002</td>\n",
       "      <td>Q1</td>\n",
       "      <td>Belgium</td>\n",
       "      <td>1-3  nights</td>\n",
       "      <td>Tunnel</td>\n",
       "      <td>Miscellaneous</td>\n",
       "      <td>LONDON</td>\n",
       "      <td>0.704948</td>\n",
       "      <td>0.465721</td>\n",
       "      <td>1.409894</td>\n",
       "      <td>2</td>\n",
       "    </tr>\n",
       "    <tr>\n",
       "      <td>10</td>\n",
       "      <td>2002</td>\n",
       "      <td>Q1</td>\n",
       "      <td>Belgium</td>\n",
       "      <td>4-7  nights</td>\n",
       "      <td>Air</td>\n",
       "      <td>Business</td>\n",
       "      <td>LONDON</td>\n",
       "      <td>0.479947</td>\n",
       "      <td>0.102486</td>\n",
       "      <td>3.357790</td>\n",
       "      <td>1</td>\n",
       "    </tr>\n",
       "    <tr>\n",
       "      <td>11</td>\n",
       "      <td>2002</td>\n",
       "      <td>Q1</td>\n",
       "      <td>Belgium</td>\n",
       "      <td>4-7  nights</td>\n",
       "      <td>Air</td>\n",
       "      <td>VFR</td>\n",
       "      <td>LONDON</td>\n",
       "      <td>0.158462</td>\n",
       "      <td>0.017748</td>\n",
       "      <td>1.109230</td>\n",
       "      <td>1</td>\n",
       "    </tr>\n",
       "    <tr>\n",
       "      <td>12</td>\n",
       "      <td>2002</td>\n",
       "      <td>Q1</td>\n",
       "      <td>Belgium</td>\n",
       "      <td>4-7  nights</td>\n",
       "      <td>Tunnel</td>\n",
       "      <td>Holiday</td>\n",
       "      <td>LONDON</td>\n",
       "      <td>2.277937</td>\n",
       "      <td>1.031108</td>\n",
       "      <td>9.547630</td>\n",
       "      <td>6</td>\n",
       "    </tr>\n",
       "    <tr>\n",
       "      <td>13</td>\n",
       "      <td>2002</td>\n",
       "      <td>Q1</td>\n",
       "      <td>Belgium</td>\n",
       "      <td>4-7  nights</td>\n",
       "      <td>Tunnel</td>\n",
       "      <td>Business</td>\n",
       "      <td>LONDON</td>\n",
       "      <td>1.161690</td>\n",
       "      <td>0.176559</td>\n",
       "      <td>3.850700</td>\n",
       "      <td>3</td>\n",
       "    </tr>\n",
       "    <tr>\n",
       "      <td>14</td>\n",
       "      <td>2002</td>\n",
       "      <td>Q1</td>\n",
       "      <td>Belgium</td>\n",
       "      <td>4-7  nights</td>\n",
       "      <td>Tunnel</td>\n",
       "      <td>VFR</td>\n",
       "      <td>LONDON</td>\n",
       "      <td>1.063328</td>\n",
       "      <td>0.328267</td>\n",
       "      <td>4.653940</td>\n",
       "      <td>3</td>\n",
       "    </tr>\n",
       "  </tbody>\n",
       "</table>\n",
       "</div>"
      ],
      "text/plain": [
       "    year quarter   market     dur_stay    mode        purpose     area  \\\n",
       "0   2002      Q1  Belgium  1-3  nights     Air        Holiday   LONDON   \n",
       "1   2002      Q1  Belgium  1-3  nights     Air       Business   LONDON   \n",
       "2   2002      Q1  Belgium  1-3  nights     Air            VFR   LONDON   \n",
       "3   2002      Q1  Belgium  1-3  nights     Air  Miscellaneous   LONDON   \n",
       "4   2002      Q1  Belgium  1-3  nights     Sea       Business   LONDON   \n",
       "5   2002      Q1  Belgium  1-3  nights     Sea  Miscellaneous   LONDON   \n",
       "6   2002      Q1  Belgium  1-3  nights  Tunnel        Holiday   LONDON   \n",
       "7   2002      Q1  Belgium  1-3  nights  Tunnel       Business   LONDON   \n",
       "8   2002      Q1  Belgium  1-3  nights  Tunnel            VFR   LONDON   \n",
       "9   2002      Q1  Belgium  1-3  nights  Tunnel  Miscellaneous   LONDON   \n",
       "10  2002      Q1  Belgium  4-7  nights     Air       Business   LONDON   \n",
       "11  2002      Q1  Belgium  4-7  nights     Air            VFR   LONDON   \n",
       "12  2002      Q1  Belgium  4-7  nights  Tunnel        Holiday   LONDON   \n",
       "13  2002      Q1  Belgium  4-7  nights  Tunnel       Business   LONDON   \n",
       "14  2002      Q1  Belgium  4-7  nights  Tunnel            VFR   LONDON   \n",
       "\n",
       "       visits     spend     nights  sample  \n",
       "0    3.572186  0.969138   6.954456       5  \n",
       "1    9.284226  2.399577  12.604959      19  \n",
       "2    0.877182  0.089833   2.153128       3  \n",
       "3    0.163874  0.010160   0.163874       1  \n",
       "4    1.648670  0.016789   1.650300       1  \n",
       "5    0.590807  0.003953   1.772420       1  \n",
       "6   10.940251  2.765473  23.242688      30  \n",
       "7    6.052632  1.446697  10.428555      16  \n",
       "8    5.559403  0.468140   9.441416      13  \n",
       "9    0.704948  0.465721   1.409894       2  \n",
       "10   0.479947  0.102486   3.357790       1  \n",
       "11   0.158462  0.017748   1.109230       1  \n",
       "12   2.277937  1.031108   9.547630       6  \n",
       "13   1.161690  0.176559   3.850700       3  \n",
       "14   1.063328  0.328267   4.653940       3  "
      ]
     },
     "execution_count": 102,
     "metadata": {},
     "output_type": "execute_result"
    }
   ],
   "source": [
    "dframe = pandas.read_csv(\"international-visitors-london-raw.csv\")\n",
    "dframe.head(15)"
   ]
  },
  {
   "cell_type": "markdown",
   "metadata": {},
   "source": [
    "### Displaying the last 10 rows of the dataset."
   ]
  },
  {
   "cell_type": "code",
   "execution_count": 103,
   "metadata": {},
   "outputs": [
    {
     "data": {
      "text/html": [
       "<div>\n",
       "<style scoped>\n",
       "    .dataframe tbody tr th:only-of-type {\n",
       "        vertical-align: middle;\n",
       "    }\n",
       "\n",
       "    .dataframe tbody tr th {\n",
       "        vertical-align: top;\n",
       "    }\n",
       "\n",
       "    .dataframe thead th {\n",
       "        text-align: right;\n",
       "    }\n",
       "</style>\n",
       "<table border=\"1\" class=\"dataframe\">\n",
       "  <thead>\n",
       "    <tr style=\"text-align: right;\">\n",
       "      <th></th>\n",
       "      <th>year</th>\n",
       "      <th>quarter</th>\n",
       "      <th>market</th>\n",
       "      <th>dur_stay</th>\n",
       "      <th>mode</th>\n",
       "      <th>purpose</th>\n",
       "      <th>area</th>\n",
       "      <th>visits</th>\n",
       "      <th>spend</th>\n",
       "      <th>nights</th>\n",
       "      <th>sample</th>\n",
       "    </tr>\n",
       "  </thead>\n",
       "  <tbody>\n",
       "    <tr>\n",
       "      <td>58966</td>\n",
       "      <td>2019</td>\n",
       "      <td>Q2</td>\n",
       "      <td>Other Africa</td>\n",
       "      <td>1-3  nights</td>\n",
       "      <td>Air</td>\n",
       "      <td>VFR</td>\n",
       "      <td>LONDON</td>\n",
       "      <td>1.363183</td>\n",
       "      <td>1.436325</td>\n",
       "      <td>13.832674</td>\n",
       "      <td>1</td>\n",
       "    </tr>\n",
       "    <tr>\n",
       "      <td>58967</td>\n",
       "      <td>2019</td>\n",
       "      <td>Q2</td>\n",
       "      <td>Other Africa</td>\n",
       "      <td>1-3  nights</td>\n",
       "      <td>Air</td>\n",
       "      <td>Miscellaneous</td>\n",
       "      <td>LONDON</td>\n",
       "      <td>0.389465</td>\n",
       "      <td>0.005842</td>\n",
       "      <td>0.389465</td>\n",
       "      <td>1</td>\n",
       "    </tr>\n",
       "    <tr>\n",
       "      <td>58968</td>\n",
       "      <td>2019</td>\n",
       "      <td>Q2</td>\n",
       "      <td>Other Africa</td>\n",
       "      <td>4-7  nights</td>\n",
       "      <td>Air</td>\n",
       "      <td>Holiday</td>\n",
       "      <td>LONDON</td>\n",
       "      <td>1.472746</td>\n",
       "      <td>0.844716</td>\n",
       "      <td>5.838681</td>\n",
       "      <td>2</td>\n",
       "    </tr>\n",
       "    <tr>\n",
       "      <td>58969</td>\n",
       "      <td>2019</td>\n",
       "      <td>Q2</td>\n",
       "      <td>Other Africa</td>\n",
       "      <td>4-7  nights</td>\n",
       "      <td>Air</td>\n",
       "      <td>Business</td>\n",
       "      <td>LONDON</td>\n",
       "      <td>1.328856</td>\n",
       "      <td>0.352659</td>\n",
       "      <td>7.208323</td>\n",
       "      <td>2</td>\n",
       "    </tr>\n",
       "    <tr>\n",
       "      <td>58970</td>\n",
       "      <td>2019</td>\n",
       "      <td>Q2</td>\n",
       "      <td>Other Africa</td>\n",
       "      <td>4-7  nights</td>\n",
       "      <td>Air</td>\n",
       "      <td>VFR</td>\n",
       "      <td>LONDON</td>\n",
       "      <td>1.294282</td>\n",
       "      <td>1.523618</td>\n",
       "      <td>6.471410</td>\n",
       "      <td>2</td>\n",
       "    </tr>\n",
       "    <tr>\n",
       "      <td>58971</td>\n",
       "      <td>2019</td>\n",
       "      <td>Q2</td>\n",
       "      <td>Other Africa</td>\n",
       "      <td>8-14 nights</td>\n",
       "      <td>Air</td>\n",
       "      <td>Holiday</td>\n",
       "      <td>LONDON</td>\n",
       "      <td>0.324552</td>\n",
       "      <td>0.167144</td>\n",
       "      <td>2.596416</td>\n",
       "      <td>1</td>\n",
       "    </tr>\n",
       "    <tr>\n",
       "      <td>58972</td>\n",
       "      <td>2019</td>\n",
       "      <td>Q2</td>\n",
       "      <td>Other Africa</td>\n",
       "      <td>8-14 nights</td>\n",
       "      <td>Air</td>\n",
       "      <td>Business</td>\n",
       "      <td>LONDON</td>\n",
       "      <td>0.599187</td>\n",
       "      <td>0.608175</td>\n",
       "      <td>5.991870</td>\n",
       "      <td>1</td>\n",
       "    </tr>\n",
       "    <tr>\n",
       "      <td>58973</td>\n",
       "      <td>2019</td>\n",
       "      <td>Q2</td>\n",
       "      <td>Other Africa</td>\n",
       "      <td>8-14 nights</td>\n",
       "      <td>Air</td>\n",
       "      <td>VFR</td>\n",
       "      <td>LONDON</td>\n",
       "      <td>1.676268</td>\n",
       "      <td>6.939305</td>\n",
       "      <td>15.335942</td>\n",
       "      <td>4</td>\n",
       "    </tr>\n",
       "    <tr>\n",
       "      <td>58974</td>\n",
       "      <td>2019</td>\n",
       "      <td>Q2</td>\n",
       "      <td>Other Africa</td>\n",
       "      <td>8-14 nights</td>\n",
       "      <td>Air</td>\n",
       "      <td>Study</td>\n",
       "      <td>LONDON</td>\n",
       "      <td>1.357228</td>\n",
       "      <td>20.785946</td>\n",
       "      <td>14.929508</td>\n",
       "      <td>1</td>\n",
       "    </tr>\n",
       "    <tr>\n",
       "      <td>58975</td>\n",
       "      <td>2019</td>\n",
       "      <td>Q2</td>\n",
       "      <td>Other Africa</td>\n",
       "      <td>15+  nights</td>\n",
       "      <td>Air</td>\n",
       "      <td>Miscellaneous</td>\n",
       "      <td>LONDON</td>\n",
       "      <td>0.554770</td>\n",
       "      <td>1.471449</td>\n",
       "      <td>50.795570</td>\n",
       "      <td>1</td>\n",
       "    </tr>\n",
       "  </tbody>\n",
       "</table>\n",
       "</div>"
      ],
      "text/plain": [
       "       year quarter        market     dur_stay mode        purpose     area  \\\n",
       "58966  2019      Q2  Other Africa  1-3  nights  Air            VFR   LONDON   \n",
       "58967  2019      Q2  Other Africa  1-3  nights  Air  Miscellaneous   LONDON   \n",
       "58968  2019      Q2  Other Africa  4-7  nights  Air        Holiday   LONDON   \n",
       "58969  2019      Q2  Other Africa  4-7  nights  Air       Business   LONDON   \n",
       "58970  2019      Q2  Other Africa  4-7  nights  Air            VFR   LONDON   \n",
       "58971  2019      Q2  Other Africa  8-14 nights  Air        Holiday   LONDON   \n",
       "58972  2019      Q2  Other Africa  8-14 nights  Air       Business   LONDON   \n",
       "58973  2019      Q2  Other Africa  8-14 nights  Air            VFR   LONDON   \n",
       "58974  2019      Q2  Other Africa  8-14 nights  Air          Study   LONDON   \n",
       "58975  2019      Q2  Other Africa  15+  nights  Air  Miscellaneous   LONDON   \n",
       "\n",
       "         visits      spend     nights  sample  \n",
       "58966  1.363183   1.436325  13.832674       1  \n",
       "58967  0.389465   0.005842   0.389465       1  \n",
       "58968  1.472746   0.844716   5.838681       2  \n",
       "58969  1.328856   0.352659   7.208323       2  \n",
       "58970  1.294282   1.523618   6.471410       2  \n",
       "58971  0.324552   0.167144   2.596416       1  \n",
       "58972  0.599187   0.608175   5.991870       1  \n",
       "58973  1.676268   6.939305  15.335942       4  \n",
       "58974  1.357228  20.785946  14.929508       1  \n",
       "58975  0.554770   1.471449  50.795570       1  "
      ]
     },
     "execution_count": 103,
     "metadata": {},
     "output_type": "execute_result"
    }
   ],
   "source": [
    "dframe.tail(10)"
   ]
  },
  {
   "cell_type": "markdown",
   "metadata": {},
   "source": [
    "### Displaying the column names present in the CSV"
   ]
  },
  {
   "cell_type": "code",
   "execution_count": 104,
   "metadata": {},
   "outputs": [
    {
     "data": {
      "text/plain": [
       "Index(['year', 'quarter', 'market', 'dur_stay', 'mode', 'purpose', 'area',\n",
       "       'visits', 'spend', 'nights', 'sample'],\n",
       "      dtype='object')"
      ]
     },
     "execution_count": 104,
     "metadata": {},
     "output_type": "execute_result"
    }
   ],
   "source": [
    "dframe.columns"
   ]
  },
  {
   "cell_type": "markdown",
   "metadata": {},
   "source": [
    "### Displaying the datatypes of the columns in the CSV"
   ]
  },
  {
   "cell_type": "code",
   "execution_count": 105,
   "metadata": {},
   "outputs": [
    {
     "data": {
      "text/plain": [
       "year          int64\n",
       "quarter      object\n",
       "market       object\n",
       "dur_stay     object\n",
       "mode         object\n",
       "purpose      object\n",
       "area         object\n",
       "visits      float64\n",
       "spend       float64\n",
       "nights      float64\n",
       "sample        int64\n",
       "dtype: object"
      ]
     },
     "execution_count": 105,
     "metadata": {},
     "output_type": "execute_result"
    }
   ],
   "source": [
    "dframe.dtypes"
   ]
  },
  {
   "cell_type": "markdown",
   "metadata": {},
   "source": [
    "### Checking the shape of CSV i.e number of rows and columns present in dframe."
   ]
  },
  {
   "cell_type": "code",
   "execution_count": 106,
   "metadata": {},
   "outputs": [
    {
     "data": {
      "text/plain": [
       "(58976, 11)"
      ]
     },
     "execution_count": 106,
     "metadata": {},
     "output_type": "execute_result"
    }
   ],
   "source": [
    "dframe.shape"
   ]
  },
  {
   "cell_type": "markdown",
   "metadata": {},
   "source": [
    "### Checking the null values in the dframe"
   ]
  },
  {
   "cell_type": "code",
   "execution_count": 107,
   "metadata": {},
   "outputs": [
    {
     "data": {
      "text/plain": [
       "year        0\n",
       "quarter     0\n",
       "market      0\n",
       "dur_stay    0\n",
       "mode        0\n",
       "purpose     0\n",
       "area        0\n",
       "visits      0\n",
       "spend       0\n",
       "nights      0\n",
       "sample      0\n",
       "dtype: int64"
      ]
     },
     "execution_count": 107,
     "metadata": {},
     "output_type": "execute_result"
    }
   ],
   "source": [
    "dframe.isna().sum()"
   ]
  },
  {
   "cell_type": "markdown",
   "metadata": {},
   "source": [
    "## Checking unique values present in the columns"
   ]
  },
  {
   "cell_type": "code",
   "execution_count": 108,
   "metadata": {},
   "outputs": [
    {
     "name": "stdout",
     "output_type": "stream",
     "text": [
      "[2002 2003 2004 2005 2006 2007 2008 2009 2010 2011 2012 2013 2014 2015\n",
      " 2016 2017 2018 2019]\n"
     ]
    }
   ],
   "source": [
    "print(dframe[\"year\"].unique())"
   ]
  },
  {
   "cell_type": "code",
   "execution_count": 109,
   "metadata": {},
   "outputs": [
    {
     "name": "stdout",
     "output_type": "stream",
     "text": [
      "['Q1' 'Q2' 'Q3' 'Q4']\n"
     ]
    }
   ],
   "source": [
    "print(dframe[\"quarter\"].unique())"
   ]
  },
  {
   "cell_type": "code",
   "execution_count": 110,
   "metadata": {},
   "outputs": [
    {
     "name": "stdout",
     "output_type": "stream",
     "text": [
      "['Belgium' 'Luxembourg' 'France' 'Germany' 'Italy' 'Netherlands' 'Denmark'\n",
      " 'Greece' 'Spain' 'Portugal' 'Austria' 'Sweden' 'Finland' 'Irish Republic'\n",
      " 'Turkey' 'Switzerland' 'Norway' 'Iceland' 'Czech Republic' 'Poland'\n",
      " 'Hungary' 'Russia' 'Other Western Europe' 'Other Eastern Europe' 'USA'\n",
      " 'Canada' 'Mexico' 'Brazil' 'Argentina' 'Other Central & South America'\n",
      " 'Hong Kong' 'Malaysia' 'Thailand' 'Singapore' 'Taiwan' 'China'\n",
      " 'Other Asia' 'Japan' 'South Korea' 'Australia' 'New Zealand'\n",
      " 'United Arab Emirates' 'Saudi Arabia' 'Kuwait' 'Other Middle East'\n",
      " 'Egypt' 'Israel' 'India' 'Pakistan' 'South Africa'\n",
      " 'Other Southern Africa' 'Nigeria' 'Kenya' 'Other Africa' 'Bulgaria'\n",
      " 'Romania' 'Serbia' 'Chile' 'Indonesia' 'Bahrain' 'Oman' 'Qatar'\n",
      " 'Other Areas / Unknown']\n"
     ]
    }
   ],
   "source": [
    "print(dframe[\"market\"].unique())"
   ]
  },
  {
   "cell_type": "code",
   "execution_count": 111,
   "metadata": {},
   "outputs": [
    {
     "name": "stdout",
     "output_type": "stream",
     "text": [
      "['1-3  nights' '4-7  nights' '8-14 nights' '15+  nights']\n"
     ]
    }
   ],
   "source": [
    "print(dframe[\"dur_stay\"].unique())"
   ]
  },
  {
   "cell_type": "code",
   "execution_count": 112,
   "metadata": {},
   "outputs": [
    {
     "name": "stdout",
     "output_type": "stream",
     "text": [
      "['Air' 'Sea' 'Tunnel']\n"
     ]
    }
   ],
   "source": [
    "print(dframe[\"mode\"].unique())"
   ]
  },
  {
   "cell_type": "code",
   "execution_count": 113,
   "metadata": {},
   "outputs": [
    {
     "name": "stdout",
     "output_type": "stream",
     "text": [
      "['Holiday' 'Business' 'VFR' 'Miscellaneous' 'Study']\n"
     ]
    }
   ],
   "source": [
    "print(dframe[\"purpose\"].unique())"
   ]
  },
  {
   "cell_type": "code",
   "execution_count": 114,
   "metadata": {},
   "outputs": [
    {
     "name": "stdout",
     "output_type": "stream",
     "text": [
      "[' LONDON']\n"
     ]
    }
   ],
   "source": [
    "print(dframe[\"area\"].unique())"
   ]
  },
  {
   "cell_type": "markdown",
   "metadata": {},
   "source": [
    "# Hypothesis"
   ]
  },
  {
   "cell_type": "markdown",
   "metadata": {},
   "source": [
    "### Hypothesis 1\n",
    "####  Which market visited London more?"
   ]
  },
  {
   "cell_type": "code",
   "execution_count": 115,
   "metadata": {},
   "outputs": [
    {
     "name": "stdout",
     "output_type": "stream",
     "text": [
      " market\n",
      "Argentina                628\n",
      "Australia               1871\n",
      "Austria                  828\n",
      "Bahrain                  187\n",
      "Belgium                 1432\n",
      "                        ... \n",
      "Taiwan                   518\n",
      "Thailand                 646\n",
      "Turkey                   815\n",
      "USA                     2409\n",
      "United Arab Emirates    1064\n",
      "Name: total, Length: 63, dtype: int64\n"
     ]
    }
   ],
   "source": [
    "dframe['total'] = 0\n",
    "df1=dframe.groupby('market')['total'].count()\n",
    "print(\"\",df1)"
   ]
  },
  {
   "cell_type": "code",
   "execution_count": 116,
   "metadata": {},
   "outputs": [
    {
     "data": {
      "image/png": "[encoded data removed]",
      "text/plain": [
       "<Figure size 1080x288 with 1 Axes>"
      ]
     },
     "metadata": {
      "needs_background": "light"
     },
     "output_type": "display_data"
    }
   ],
   "source": [
    "df1.plot(kind='bar', figsize=(15,4))\n",
    "plt.xlabel('Market')\n",
    "plt.ylabel('Count')\n",
    "plt.show()"
   ]
  },
  {
   "cell_type": "markdown",
   "metadata": {},
   "source": [
    "#### Observation -  Based on the analysis,\n",
    "#### The market of France has visited London more as compared to other markets."
   ]
  },
  {
   "cell_type": "markdown",
   "metadata": {},
   "source": [
    "### Hypothesis 2\n",
    "\n",
    "###### Visitors tend to stay longer if travel by air?"
   ]
  },
  {
   "cell_type": "code",
   "execution_count": 117,
   "metadata": {},
   "outputs": [
    {
     "name": "stdout",
     "output_type": "stream",
     "text": [
      " mode\n",
      "Air       44766\n",
      "Sea        5817\n",
      "Tunnel     8393\n",
      "Name: total, dtype: int64\n"
     ]
    }
   ],
   "source": [
    "dframe['total'] = 0\n",
    "df2=dframe.groupby('mode')['total'].count()\n",
    "print(\"\",df2)\n",
    "dframe = dframe.drop(columns=\"total\")"
   ]
  },
  {
   "cell_type": "code",
   "execution_count": 118,
   "metadata": {},
   "outputs": [
    {
     "name": "stdout",
     "output_type": "stream",
     "text": [
      "          visits     spend     nights\n",
      "mode                                 \n",
      "Air     4.865952  3.219623  31.327341\n",
      "Sea     3.529996  0.959162  18.551163\n",
      "Tunnel  4.478816  1.742460  20.191838\n"
     ]
    }
   ],
   "source": [
    "temp = dframe[['mode','visits','spend','nights']]\n",
    "aggr = temp.groupby(['mode']).agg(np.mean)\n",
    "print(aggr)"
   ]
  },
  {
   "cell_type": "code",
   "execution_count": 119,
   "metadata": {},
   "outputs": [
    {
     "data": {
      "image/png": "[encoded data removed]",
      "text/plain": [
       "<Figure size 1080x288 with 1 Axes>"
      ]
     },
     "metadata": {
      "needs_background": "light"
     },
     "output_type": "display_data"
    }
   ],
   "source": [
    "aggr.plot(kind='bar', figsize=(15,4))\n",
    "plt.xlabel('Mode')\n",
    "plt.ylabel('Days')\n",
    "plt.show()"
   ]
  },
  {
   "cell_type": "markdown",
   "metadata": {},
   "source": [
    "#### Observation - Based on the analysis \n",
    "#### Yes, visitors tend to stay more if traveled by Air"
   ]
  },
  {
   "cell_type": "markdown",
   "metadata": {},
   "source": [
    "### Hypothesis 2\n",
    "\n",
    "##### Which visitors from market tend to stay longer?"
   ]
  },
  {
   "cell_type": "code",
   "execution_count": 120,
   "metadata": {},
   "outputs": [
    {
     "name": "stdout",
     "output_type": "stream",
     "text": [
      " market\n",
      "Argentina                628\n",
      "Australia               1871\n",
      "Austria                  828\n",
      "Bahrain                  187\n",
      "Belgium                 1432\n",
      "                        ... \n",
      "Taiwan                   518\n",
      "Thailand                 646\n",
      "Turkey                   815\n",
      "USA                     2409\n",
      "United Arab Emirates    1064\n",
      "Name: total, Length: 63, dtype: int64\n"
     ]
    }
   ],
   "source": [
    "dframe['total'] = 0\n",
    "df3=dframe.groupby('market')['total'].count()\n",
    "print(\"\",df3)\n",
    "dframe = dframe.drop(columns=\"total\")"
   ]
  },
  {
   "cell_type": "code",
   "execution_count": 121,
   "metadata": {},
   "outputs": [
    {
     "name": "stdout",
     "output_type": "stream",
     "text": [
      "                         visits      spend     nights\n",
      "market                                               \n",
      "Argentina              1.774835   1.137744  13.203542\n",
      "Australia              5.421521   3.780389  40.779817\n",
      "Austria                3.142596   1.431670  14.404348\n",
      "Bahrain                0.861121   1.976108   7.810733\n",
      "Belgium                5.058878   1.652286  15.366032\n",
      "...                         ...        ...        ...\n",
      "Taiwan                 1.028991   1.020104   8.954214\n",
      "Thailand               0.989615   0.954863   9.437092\n",
      "Turkey                 1.772498   1.588549  14.872508\n",
      "USA                   15.940511  11.652139  90.815961\n",
      "United Arab Emirates   2.081987   3.568981  17.982322\n",
      "\n",
      "[63 rows x 3 columns]\n"
     ]
    }
   ],
   "source": [
    "temp1 = dframe[['market','visits','spend','nights']]\n",
    "aggr1 = temp1.groupby(['market']).agg(np.mean)\n",
    "print(aggr1)"
   ]
  },
  {
   "cell_type": "code",
   "execution_count": 122,
   "metadata": {},
   "outputs": [
    {
     "name": "stdout",
     "output_type": "stream",
     "text": [
      "Maximum number of visit :\n",
      "             visits      spend     nights\n",
      "market                                 \n",
      "USA     15.940511  11.652139  90.815961\n",
      "----------------------------------------\n",
      "\n",
      "Maximum number of spend :\n",
      "             visits      spend     nights\n",
      "market                                 \n",
      "USA     15.940511  11.652139  90.815961\n",
      "----------------------------------------\n",
      "\n",
      "Maximum number of nights : \n",
      "            visits      spend     nights\n",
      "market                                 \n",
      "USA     15.940511  11.652139  90.815961\n"
     ]
    }
   ],
   "source": [
    "a = aggr1[aggr1.visits==aggr1.visits.max()]\n",
    "print(\"Maximum number of visit :\\n \",a)\n",
    "print(\"-\"*40)\n",
    "b = aggr1[aggr1.spend==aggr1.spend.max()]\n",
    "print(\"\\nMaximum number of spend :\\n \",b)\n",
    "print(\"-\"*40)\n",
    "c = aggr1[aggr1.nights==aggr1.nights.max()]\n",
    "print(\"\\nMaximum number of nights : \\n\",c)"
   ]
  },
  {
   "cell_type": "code",
   "execution_count": 123,
   "metadata": {},
   "outputs": [
    {
     "data": {
      "image/png": "[encoded data removed]",
      "text/plain": [
       "<Figure size 1080x288 with 1 Axes>"
      ]
     },
     "metadata": {
      "needs_background": "light"
     },
     "output_type": "display_data"
    }
   ],
   "source": [
    "aggr1.plot(kind='bar', figsize=(15,4))\n",
    "plt.xlabel('Market')\n",
    "plt.ylabel('Days')\n",
    "plt.show()"
   ]
  },
  {
   "cell_type": "markdown",
   "metadata": {},
   "source": [
    "#### Obeservation - Based on the analysis,\n",
    "#### Visitor from USA market tend to stay longer than others."
   ]
  },
  {
   "cell_type": "markdown",
   "metadata": {},
   "source": [
    "### Hypothesis 3\n",
    "\n",
    "##### Why do visitors mostly travel to London ? "
   ]
  },
  {
   "cell_type": "code",
   "execution_count": 124,
   "metadata": {},
   "outputs": [
    {
     "name": "stdout",
     "output_type": "stream",
     "text": [
      " purpose\n",
      "Business         13554\n",
      "Holiday          18847\n",
      "Miscellaneous     8156\n",
      "Study             2517\n",
      "VFR              15902\n",
      "Name: total, dtype: int64\n"
     ]
    }
   ],
   "source": [
    "dframe['total'] = 0\n",
    "df4=dframe.groupby('purpose')['total'].count()\n",
    "print(\"\",df4)\n",
    "dframe = dframe.drop(columns=\"total\")"
   ]
  },
  {
   "cell_type": "code",
   "execution_count": 125,
   "metadata": {},
   "outputs": [
    {
     "data": {
      "image/png": "[encoded data removed]",
      "text/plain": [
       "<Figure size 576x576 with 1 Axes>"
      ]
     },
     "metadata": {},
     "output_type": "display_data"
    }
   ],
   "source": [
    "labels = dframe['purpose'].value_counts().index\n",
    "values = dframe['purpose'].value_counts().values\n",
    "explode = (0,0,0.8,0.8)\n",
    "fig1, ax1 = plt.subplots(figsize=(8, 8))\n",
    "ax1.pie(values, labels=labels, autopct='%1.1f%%',\n",
    "        #shadow=True,\n",
    "        startangle=90)\n",
    "ax1.axis('equal')  # Equal aspect ratio ensures that pie is drawn as a circle.\n",
    "\n",
    "plt.show()"
   ]
  },
  {
   "cell_type": "markdown",
   "metadata": {},
   "source": [
    "#### Obeservation - Based on the analysis,\n",
    "#### Visitors mostly travel to London for Holiday."
   ]
  },
  {
   "cell_type": "markdown",
   "metadata": {},
   "source": [
    "### Hypothesis 4\n",
    "\n",
    "##### In which quater visitors tend to stay longer?"
   ]
  },
  {
   "cell_type": "code",
   "execution_count": 126,
   "metadata": {},
   "outputs": [
    {
     "name": "stdout",
     "output_type": "stream",
     "text": [
      " quarter\n",
      "Q1    14030\n",
      "Q2    15260\n",
      "Q3    15909\n",
      "Q4    13777\n",
      "Name: total, dtype: int64\n"
     ]
    }
   ],
   "source": [
    "dframe['total'] = 0\n",
    "df5=dframe.groupby('quarter')['total'].count()\n",
    "print(\"\",df5)\n",
    "dframe = dframe.drop(columns=\"total\")"
   ]
  },
  {
   "cell_type": "code",
   "execution_count": 127,
   "metadata": {},
   "outputs": [
    {
     "name": "stdout",
     "output_type": "stream",
     "text": [
      "            spend     nights\n",
      "quarter                     \n",
      "Q1       2.400923  24.364715\n",
      "Q2       2.811677  27.687178\n",
      "Q3       2.963950  33.297466\n",
      "Q4       2.946137  27.996609\n"
     ]
    }
   ],
   "source": [
    "temp2 = dframe[['quarter','spend','nights']]\n",
    "aggr2 = temp2.groupby(['quarter']).agg(np.mean)\n",
    "print(aggr2)"
   ]
  },
  {
   "cell_type": "code",
   "execution_count": 128,
   "metadata": {},
   "outputs": [
    {
     "data": {
      "image/png": "[encoded data removed]",
      "text/plain": [
       "<Figure size 576x576 with 1 Axes>"
      ]
     },
     "metadata": {},
     "output_type": "display_data"
    }
   ],
   "source": [
    "labels = temp2['quarter'].value_counts().index\n",
    "values = temp2['quarter'].value_counts().values\n",
    "explode = (0,0,0.8,0.8)\n",
    "fig1, ax1 = plt.subplots(figsize=(8, 8))\n",
    "ax1.pie(values, labels=labels, autopct='%1.1f%%',\n",
    "        #shadow=True,\n",
    "        startangle=90)\n",
    "ax1.axis('equal')  # Equal aspect ratio ensures that pie is drawn as a circle.\n",
    "\n",
    "plt.show()"
   ]
  },
  {
   "cell_type": "markdown",
   "metadata": {},
   "source": [
    "#### Observation - Based on the analysis,\n",
    "#### Visitors tend to stay longer in 3rd quarter(i.e Q3)."
   ]
  },
  {
   "cell_type": "markdown",
   "metadata": {},
   "source": [
    "### Hypothesis 5\n",
    "\n",
    "##### In which year maximum visitors visited London?"
   ]
  },
  {
   "cell_type": "code",
   "execution_count": 129,
   "metadata": {},
   "outputs": [
    {
     "name": "stdout",
     "output_type": "stream",
     "text": [
      " year\n",
      "2002    3397\n",
      "2003    3240\n",
      "2004    3521\n",
      "2005    3494\n",
      "2006    3471\n",
      "2007    3290\n",
      "2008    3094\n",
      "2009    3411\n",
      "2010    3467\n",
      "2011    3480\n",
      "2012    3542\n",
      "2013    3572\n",
      "2014    3474\n",
      "2015    3479\n",
      "2016    3402\n",
      "2017    3293\n",
      "2018    2958\n",
      "2019    1391\n",
      "Name: total, dtype: int64\n"
     ]
    }
   ],
   "source": [
    "dframe['total'] = 0\n",
    "df6=dframe.groupby('year')['total'].count()\n",
    "print(\"\",df6)\n",
    "dframe = dframe.drop(columns=\"total\")"
   ]
  },
  {
   "cell_type": "code",
   "execution_count": 130,
   "metadata": {},
   "outputs": [
    {
     "name": "stdout",
     "output_type": "stream",
     "text": [
      "            visits\n",
      "year              \n",
      "2002  11603.382079\n",
      "2003  11695.750442\n",
      "2004  13389.330411\n",
      "2005  13892.568979\n",
      "2006  15592.646141\n",
      "2007  15339.771490\n",
      "2008  14752.993692\n",
      "2009  14211.297986\n",
      "2010  14705.541338\n",
      "2011  15289.492905\n",
      "2012  15460.864247\n",
      "2013  16810.758222\n",
      "2014  17404.215650\n",
      "2015  18581.145357\n",
      "2016  19059.545898\n",
      "2017  19827.815821\n",
      "2018  19047.412861\n",
      "2019   9289.384232\n"
     ]
    }
   ],
   "source": [
    "temp3 = dframe[['year','visits']]\n",
    "aggr3 = temp3.groupby(['year']).agg(np.sum)\n",
    "print(aggr3)"
   ]
  },
  {
   "cell_type": "code",
   "execution_count": 131,
   "metadata": {},
   "outputs": [
    {
     "data": {
      "image/png": "[encoded data removed]",
      "text/plain": [
       "<Figure size 1080x288 with 1 Axes>"
      ]
     },
     "metadata": {
      "needs_background": "light"
     },
     "output_type": "display_data"
    }
   ],
   "source": [
    "aggr3.plot(kind='bar', figsize=(15,4))\n",
    "plt.xlabel('Years')\n",
    "plt.ylabel('Days')\n",
    "plt.show()"
   ]
  },
  {
   "cell_type": "markdown",
   "metadata": {},
   "source": [
    "#### Observation - Based on analysis,\n",
    "#### In the year 2017 maximum visitors visited London."
   ]
  },
  {
   "cell_type": "markdown",
   "metadata": {},
   "source": [
    "### Hypothesis 6\n",
    "\n",
    "##### In which year maximum visitors stayed in London?"
   ]
  },
  {
   "cell_type": "code",
   "execution_count": 134,
   "metadata": {},
   "outputs": [
    {
     "name": "stdout",
     "output_type": "stream",
     "text": [
      "             spend\n",
      "year              \n",
      "2002   5787.853522\n",
      "2003   5869.946135\n",
      "2004   6439.274949\n",
      "2005   6858.580913\n",
      "2006   7821.599766\n",
      "2007   8192.406637\n",
      "2008   8125.685818\n",
      "2009   8238.229751\n",
      "2010   8741.172303\n",
      "2011   9411.383696\n",
      "2012  10074.543381\n",
      "2013  11495.552884\n",
      "2014  11825.412580\n",
      "2015  11919.245403\n",
      "2016  11868.573935\n",
      "2017  13546.637408\n",
      "2018  12158.759089\n",
      "2019   5958.685036\n"
     ]
    }
   ],
   "source": [
    "temp4 = dframe[['year','spend']]\n",
    "aggr4 = temp4.groupby(['year']).agg(np.sum)\n",
    "print(aggr4)"
   ]
  },
  {
   "cell_type": "code",
   "execution_count": 135,
   "metadata": {},
   "outputs": [
    {
     "data": {
      "image/png": "[encoded data removed]",
      "text/plain": [
       "<Figure size 1080x288 with 1 Axes>"
      ]
     },
     "metadata": {
      "needs_background": "light"
     },
     "output_type": "display_data"
    }
   ],
   "source": [
    "aggr4.plot(kind='bar', figsize=(15,4))\n",
    "plt.xlabel('Years')\n",
    "plt.ylabel('Nights')\n",
    "plt.show()"
   ]
  },
  {
   "cell_type": "markdown",
   "metadata": {},
   "source": [
    "#### Observation - Based on the analysis,\n",
    "#### In the year 2017 maximum visitors stayed in London."
   ]
  },
  {
   "cell_type": "code",
   "execution_count": null,
   "metadata": {},
   "outputs": [],
   "source": []
  }
 ],
 "metadata": {
  "kernelspec": {
   "display_name": "Python 3",
   "language": "python",
   "name": "python3"
  },
  "language_info": {
   "codemirror_mode": {
    "name": "ipython",
    "version": 3
   },
   "file_extension": ".py",
   "mimetype": "text/x-python",
   "name": "python",
   "nbconvert_exporter": "python",
   "pygments_lexer": "ipython3",
   "version": "3.7.4"
  }
 },
 "nbformat": 4,
 "nbformat_minor": 2
}
