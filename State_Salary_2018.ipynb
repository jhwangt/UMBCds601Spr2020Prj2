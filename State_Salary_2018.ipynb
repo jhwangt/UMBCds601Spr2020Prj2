{
 "cells": [
  {
   "cell_type": "markdown",
   "metadata": {},
   "source": [
    "\n",
    "Data Location:  https://salaries.news.baltimoresun.com/ \n",
    "\n",
    "\n",
    "Descriptions:\n",
    "\n",
    "The data provides us with the salary of the employees of the State of Maryland for the year 2018. The data set was acquired from Baltimore Sun’s yearly publication of government employee salaries. The dataset contains 17 columns and 998,747 rows.The data is 45.7 megabytes. I used the following 6 columns to do my analysis: first name, last name, class code, organization, annual salary, and year-to-date earnings. \n"
   ]
  },
  {
   "cell_type": "markdown",
   "metadata": {},
   "source": [
    "\n",
    "#DATA ANALYSIS"
   ]
  },
  {
   "cell_type": "code",
   "execution_count": null,
   "metadata": {},
   "outputs": [],
   "source": [
    "import pandas\n",
    "import numpy as np \n",
    "pandas.__version__ #import libraries "
   ]
  },
  {
   "cell_type": "code",
   "execution_count": null,
   "metadata": {},
   "outputs": [],
   "source": [
    "state_df = pandas.read_csv('C:\\\\Users\\\\nasir\\\\Desktop\\\\Data 602\\\\cy2018-md.csv') #Load the csv file \n",
    "state_df.head()"
   ]
  },
  {
   "cell_type": "code",
   "execution_count": null,
   "metadata": {},
   "outputs": [],
   "source": [
    "state_df = state_df.drop([\n",
    "'middle_initial',\n",
    "'system',\n",
    "'agency',\n",
    "'subtitle',\n",
    "'class_code',\n",
    "'annual_salary',\n",
    "'pay_rate',\n",
    "'overtime_earnings',\n",
    "'other_earnings',\n",
    "'hire_date',\n",
    "'term_date'], axis='columns') #drop irrelevant columns"
   ]
  },
  {
   "cell_type": "code",
   "execution_count": 116,
   "metadata": {},
   "outputs": [
    {
     "data": {
      "text/html": [
       "<div>\n",
       "<style scoped>\n",
       "    .dataframe tbody tr th:only-of-type {\n",
       "        vertical-align: middle;\n",
       "    }\n",
       "\n",
       "    .dataframe tbody tr th {\n",
       "        vertical-align: top;\n",
       "    }\n",
       "\n",
       "    .dataframe thead th {\n",
       "        text-align: right;\n",
       "    }\n",
       "</style>\n",
       "<table border=\"1\" class=\"dataframe\">\n",
       "  <thead>\n",
       "    <tr style=\"text-align: right;\">\n",
       "      <th></th>\n",
       "      <th>first_name</th>\n",
       "      <th>last_name</th>\n",
       "      <th>class_code</th>\n",
       "      <th>organization</th>\n",
       "      <th>annual_salary</th>\n",
       "      <th>ytd_gross_earnings</th>\n",
       "    </tr>\n",
       "  </thead>\n",
       "  <tbody>\n",
       "    <tr>\n",
       "      <td>0</td>\n",
       "      <td>DANIEL</td>\n",
       "      <td>STAPLES</td>\n",
       "      <td>NaN</td>\n",
       "      <td>BALTO CITY COMMUNITY COLLEGE</td>\n",
       "      <td>34000.0</td>\n",
       "      <td>37000.0</td>\n",
       "    </tr>\n",
       "    <tr>\n",
       "      <td>1</td>\n",
       "      <td>RUBEENA</td>\n",
       "      <td>ISMAIL</td>\n",
       "      <td>NaN</td>\n",
       "      <td>BALTO CITY COMMUNITY COLLEGE</td>\n",
       "      <td>13000.0</td>\n",
       "      <td>13000.0</td>\n",
       "    </tr>\n",
       "    <tr>\n",
       "      <td>2</td>\n",
       "      <td>NICOLE</td>\n",
       "      <td>BECKETTS</td>\n",
       "      <td>NaN</td>\n",
       "      <td>BALTO CITY COMMUNITY COLLEGE</td>\n",
       "      <td>99000.0</td>\n",
       "      <td>99000.0</td>\n",
       "    </tr>\n",
       "    <tr>\n",
       "      <td>3</td>\n",
       "      <td>ELISABETH</td>\n",
       "      <td>MACKEY</td>\n",
       "      <td>NaN</td>\n",
       "      <td>BALTO CITY COMMUNITY COLLEGE</td>\n",
       "      <td>75000.0</td>\n",
       "      <td>76000.0</td>\n",
       "    </tr>\n",
       "    <tr>\n",
       "      <td>4</td>\n",
       "      <td>PAUL</td>\n",
       "      <td>SHIVELY</td>\n",
       "      <td>NaN</td>\n",
       "      <td>BALTO CITY COMMUNITY COLLEGE</td>\n",
       "      <td>10000.0</td>\n",
       "      <td>10000.0</td>\n",
       "    </tr>\n",
       "  </tbody>\n",
       "</table>\n",
       "</div>"
      ],
      "text/plain": [
       "  first_name last_name class_code                  organization  \\\n",
       "0     DANIEL   STAPLES        NaN  BALTO CITY COMMUNITY COLLEGE   \n",
       "1    RUBEENA    ISMAIL        NaN  BALTO CITY COMMUNITY COLLEGE   \n",
       "2     NICOLE  BECKETTS        NaN  BALTO CITY COMMUNITY COLLEGE   \n",
       "3  ELISABETH    MACKEY        NaN  BALTO CITY COMMUNITY COLLEGE   \n",
       "4       PAUL   SHIVELY        NaN  BALTO CITY COMMUNITY COLLEGE   \n",
       "\n",
       "   annual_salary  ytd_gross_earnings  \n",
       "0        34000.0             37000.0  \n",
       "1        13000.0             13000.0  \n",
       "2        99000.0             99000.0  \n",
       "3        75000.0             76000.0  \n",
       "4        10000.0             10000.0  "
      ]
     },
     "execution_count": 116,
     "metadata": {},
     "output_type": "execute_result"
    }
   ],
   "source": [
    "state_df.columns=[\n",
    "'first_name',\n",
    "'last_name',\n",
    "'class_code',\n",
    "'organization',\n",
    "'annual_salary',\n",
    "'ytd_gross_earnings'] #Create a dataframe with important columns\n",
    "state_df.head()"
   ]
  },
  {
   "cell_type": "code",
   "execution_count": 118,
   "metadata": {},
   "outputs": [
    {
     "data": {
      "text/plain": [
       "(998747, 6)"
      ]
     },
     "execution_count": 118,
     "metadata": {},
     "output_type": "execute_result"
    }
   ],
   "source": [
    "state_df.shape #rows and columns in the dataframe"
   ]
  },
  {
   "cell_type": "code",
   "execution_count": 119,
   "metadata": {},
   "outputs": [
    {
     "name": "stdout",
     "output_type": "stream",
     "text": [
      "<class 'pandas.core.frame.DataFrame'>\n",
      "RangeIndex: 998747 entries, 0 to 998746\n",
      "Data columns (total 6 columns):\n",
      "first_name            109075 non-null object\n",
      "last_name             109071 non-null object\n",
      "class_code            2777 non-null object\n",
      "organization          109102 non-null object\n",
      "annual_salary         109102 non-null float64\n",
      "ytd_gross_earnings    109102 non-null float64\n",
      "dtypes: float64(2), object(4)\n",
      "memory usage: 45.7+ MB\n"
     ]
    }
   ],
   "source": [
    "state_df.info() #data related information"
   ]
  },
  {
   "cell_type": "markdown",
   "metadata": {},
   "source": [
    "The datatypes of our features are objects(4) and float64(2). There are no missing values(non-null). There are 998747 entries just like we saw with the shape method. "
   ]
  },
  {
   "cell_type": "code",
   "execution_count": null,
   "metadata": {},
   "outputs": [],
   "source": [
    "state_df.describe() #Gives summary statistics of the numerical columns"
   ]
  },
  {
   "cell_type": "markdown",
   "metadata": {},
   "source": [
    "To see statistics on non-numerical features, I explicitly indicated data the type 'object' to see the description. "
   ]
  },
  {
   "cell_type": "code",
   "execution_count": null,
   "metadata": {},
   "outputs": [],
   "source": [
    "state_df.describe(include=['object'])"
   ]
  },
  {
   "cell_type": "markdown",
   "metadata": {},
   "source": [
    "For categorial features, we can use the value_counts methods to see the distributions of a column."
   ]
  },
  {
   "cell_type": "code",
   "execution_count": 122,
   "metadata": {},
   "outputs": [
    {
     "data": {
      "text/plain": [
       "UNIVERSITY OF MARYLAND            49641\n",
       "MARYLAND DEPARTMENT OF HEALTH      8406\n",
       "DEPARTMENT OF TRANSPORTATION       7900\n",
       "DEPT OF PUB SAFETY & COR SERVS     6457\n",
       "MD DEPT OF HUMAN SERVICES          5757\n",
       "                                  ...  \n",
       "DEPT OF ENVIRONMENT                  12\n",
       "GOVERNOR'S OFFICE FOR CHILDREN       10\n",
       "BOARD OF PUBLIC WORKS                 9\n",
       "MARYLAND TAX COURT                    8\n",
       "CANAL PLACE PRESERV & DEV AUTH        4\n",
       "Name: organization, Length: 74, dtype: int64"
      ]
     },
     "execution_count": 122,
     "metadata": {},
     "output_type": "execute_result"
    }
   ],
   "source": [
    "state_df['organization'].value_counts() #Different organizations within the state "
   ]
  },
  {
   "cell_type": "code",
   "execution_count": 123,
   "metadata": {},
   "outputs": [
    {
     "data": {
      "text/html": [
       "<div>\n",
       "<style scoped>\n",
       "    .dataframe tbody tr th:only-of-type {\n",
       "        vertical-align: middle;\n",
       "    }\n",
       "\n",
       "    .dataframe tbody tr th {\n",
       "        vertical-align: top;\n",
       "    }\n",
       "\n",
       "    .dataframe thead th {\n",
       "        text-align: right;\n",
       "    }\n",
       "</style>\n",
       "<table border=\"1\" class=\"dataframe\">\n",
       "  <thead>\n",
       "    <tr style=\"text-align: right;\">\n",
       "      <th></th>\n",
       "      <th>first_name</th>\n",
       "      <th>last_name</th>\n",
       "      <th>class_code</th>\n",
       "      <th>organization</th>\n",
       "      <th>annual_salary</th>\n",
       "      <th>ytd_gross_earnings</th>\n",
       "    </tr>\n",
       "  </thead>\n",
       "  <tbody>\n",
       "    <tr>\n",
       "      <td>75</td>\n",
       "      <td>MICHAEL</td>\n",
       "      <td>STEPHENS</td>\n",
       "      <td>JR</td>\n",
       "      <td>BALTO CITY COMMUNITY COLLEGE</td>\n",
       "      <td>74000.0</td>\n",
       "      <td>74000.0</td>\n",
       "    </tr>\n",
       "    <tr>\n",
       "      <td>76</td>\n",
       "      <td>NATHANIEL</td>\n",
       "      <td>LAWSON</td>\n",
       "      <td>JR</td>\n",
       "      <td>BALTO CITY COMMUNITY COLLEGE</td>\n",
       "      <td>39000.0</td>\n",
       "      <td>41000.0</td>\n",
       "    </tr>\n",
       "    <tr>\n",
       "      <td>106</td>\n",
       "      <td>RICHARD</td>\n",
       "      <td>GREEN</td>\n",
       "      <td>JR</td>\n",
       "      <td>BALTO CITY COMMUNITY COLLEGE</td>\n",
       "      <td>43000.0</td>\n",
       "      <td>43000.0</td>\n",
       "    </tr>\n",
       "    <tr>\n",
       "      <td>126</td>\n",
       "      <td>JAMES</td>\n",
       "      <td>DYETT</td>\n",
       "      <td>JR</td>\n",
       "      <td>BALTO CITY COMMUNITY COLLEGE</td>\n",
       "      <td>77000.0</td>\n",
       "      <td>77000.0</td>\n",
       "    </tr>\n",
       "    <tr>\n",
       "      <td>136</td>\n",
       "      <td>EARL</td>\n",
       "      <td>WATSON</td>\n",
       "      <td>JR</td>\n",
       "      <td>BALTO CITY COMMUNITY COLLEGE</td>\n",
       "      <td>47000.0</td>\n",
       "      <td>47000.0</td>\n",
       "    </tr>\n",
       "    <tr>\n",
       "      <td>278</td>\n",
       "      <td>CALVIN</td>\n",
       "      <td>HARRIS</td>\n",
       "      <td>JR</td>\n",
       "      <td>BALTO CITY COMMUNITY COLLEGE</td>\n",
       "      <td>154000.0</td>\n",
       "      <td>154000.0</td>\n",
       "    </tr>\n",
       "    <tr>\n",
       "      <td>302</td>\n",
       "      <td>JEFFREY</td>\n",
       "      <td>WHITE</td>\n",
       "      <td>JR</td>\n",
       "      <td>BALTO CITY COMMUNITY COLLEGE</td>\n",
       "      <td>67000.0</td>\n",
       "      <td>67000.0</td>\n",
       "    </tr>\n",
       "    <tr>\n",
       "      <td>0</td>\n",
       "      <td>DANIEL</td>\n",
       "      <td>STAPLES</td>\n",
       "      <td>NaN</td>\n",
       "      <td>BALTO CITY COMMUNITY COLLEGE</td>\n",
       "      <td>34000.0</td>\n",
       "      <td>37000.0</td>\n",
       "    </tr>\n",
       "    <tr>\n",
       "      <td>1</td>\n",
       "      <td>RUBEENA</td>\n",
       "      <td>ISMAIL</td>\n",
       "      <td>NaN</td>\n",
       "      <td>BALTO CITY COMMUNITY COLLEGE</td>\n",
       "      <td>13000.0</td>\n",
       "      <td>13000.0</td>\n",
       "    </tr>\n",
       "    <tr>\n",
       "      <td>2</td>\n",
       "      <td>NICOLE</td>\n",
       "      <td>BECKETTS</td>\n",
       "      <td>NaN</td>\n",
       "      <td>BALTO CITY COMMUNITY COLLEGE</td>\n",
       "      <td>99000.0</td>\n",
       "      <td>99000.0</td>\n",
       "    </tr>\n",
       "  </tbody>\n",
       "</table>\n",
       "</div>"
      ],
      "text/plain": [
       "    first_name last_name class_code                  organization  \\\n",
       "75     MICHAEL  STEPHENS         JR  BALTO CITY COMMUNITY COLLEGE   \n",
       "76   NATHANIEL    LAWSON         JR  BALTO CITY COMMUNITY COLLEGE   \n",
       "106    RICHARD     GREEN         JR  BALTO CITY COMMUNITY COLLEGE   \n",
       "126      JAMES     DYETT         JR  BALTO CITY COMMUNITY COLLEGE   \n",
       "136       EARL    WATSON         JR  BALTO CITY COMMUNITY COLLEGE   \n",
       "278     CALVIN    HARRIS         JR  BALTO CITY COMMUNITY COLLEGE   \n",
       "302    JEFFREY     WHITE         JR  BALTO CITY COMMUNITY COLLEGE   \n",
       "0       DANIEL   STAPLES        NaN  BALTO CITY COMMUNITY COLLEGE   \n",
       "1      RUBEENA    ISMAIL        NaN  BALTO CITY COMMUNITY COLLEGE   \n",
       "2       NICOLE  BECKETTS        NaN  BALTO CITY COMMUNITY COLLEGE   \n",
       "\n",
       "     annual_salary  ytd_gross_earnings  \n",
       "75         74000.0             74000.0  \n",
       "76         39000.0             41000.0  \n",
       "106        43000.0             43000.0  \n",
       "126        77000.0             77000.0  \n",
       "136        47000.0             47000.0  \n",
       "278       154000.0            154000.0  \n",
       "302        67000.0             67000.0  \n",
       "0          34000.0             37000.0  \n",
       "1          13000.0             13000.0  \n",
       "2          99000.0             99000.0  "
      ]
     },
     "execution_count": 123,
     "metadata": {},
     "output_type": "execute_result"
    }
   ],
   "source": [
    "state_df.sort_values(by=['organization','class_code'],\n",
    "                   ascending=[True, True]).head(10) #sorting by organization and class code "
   ]
  },
  {
   "cell_type": "code",
   "execution_count": 124,
   "metadata": {},
   "outputs": [
    {
     "data": {
      "text/html": [
       "<div>\n",
       "<style scoped>\n",
       "    .dataframe tbody tr th:only-of-type {\n",
       "        vertical-align: middle;\n",
       "    }\n",
       "\n",
       "    .dataframe tbody tr th {\n",
       "        vertical-align: top;\n",
       "    }\n",
       "\n",
       "    .dataframe thead th {\n",
       "        text-align: right;\n",
       "    }\n",
       "</style>\n",
       "<table border=\"1\" class=\"dataframe\">\n",
       "  <thead>\n",
       "    <tr style=\"text-align: right;\">\n",
       "      <th></th>\n",
       "      <th>first_name</th>\n",
       "      <th>last_name</th>\n",
       "      <th>class_code</th>\n",
       "      <th>organization</th>\n",
       "      <th>annual_salary</th>\n",
       "      <th>ytd_gross_earnings</th>\n",
       "    </tr>\n",
       "  </thead>\n",
       "  <tbody>\n",
       "    <tr>\n",
       "      <td>109101</td>\n",
       "      <td>FRANCIS</td>\n",
       "      <td>MORGAN</td>\n",
       "      <td>NaN</td>\n",
       "      <td>WORKERS' COMPENSATION COM</td>\n",
       "      <td>40000.0</td>\n",
       "      <td>40000.0</td>\n",
       "    </tr>\n",
       "    <tr>\n",
       "      <td>109102</td>\n",
       "      <td>NaN</td>\n",
       "      <td>NaN</td>\n",
       "      <td>NaN</td>\n",
       "      <td>NaN</td>\n",
       "      <td>NaN</td>\n",
       "      <td>NaN</td>\n",
       "    </tr>\n",
       "    <tr>\n",
       "      <td>109103</td>\n",
       "      <td>NaN</td>\n",
       "      <td>NaN</td>\n",
       "      <td>NaN</td>\n",
       "      <td>NaN</td>\n",
       "      <td>NaN</td>\n",
       "      <td>NaN</td>\n",
       "    </tr>\n",
       "    <tr>\n",
       "      <td>109104</td>\n",
       "      <td>NaN</td>\n",
       "      <td>NaN</td>\n",
       "      <td>NaN</td>\n",
       "      <td>NaN</td>\n",
       "      <td>NaN</td>\n",
       "      <td>NaN</td>\n",
       "    </tr>\n",
       "    <tr>\n",
       "      <td>109105</td>\n",
       "      <td>NaN</td>\n",
       "      <td>NaN</td>\n",
       "      <td>NaN</td>\n",
       "      <td>NaN</td>\n",
       "      <td>NaN</td>\n",
       "      <td>NaN</td>\n",
       "    </tr>\n",
       "    <tr>\n",
       "      <td>...</td>\n",
       "      <td>...</td>\n",
       "      <td>...</td>\n",
       "      <td>...</td>\n",
       "      <td>...</td>\n",
       "      <td>...</td>\n",
       "      <td>...</td>\n",
       "    </tr>\n",
       "    <tr>\n",
       "      <td>998742</td>\n",
       "      <td>NaN</td>\n",
       "      <td>NaN</td>\n",
       "      <td>NaN</td>\n",
       "      <td>NaN</td>\n",
       "      <td>NaN</td>\n",
       "      <td>NaN</td>\n",
       "    </tr>\n",
       "    <tr>\n",
       "      <td>998743</td>\n",
       "      <td>NaN</td>\n",
       "      <td>NaN</td>\n",
       "      <td>NaN</td>\n",
       "      <td>NaN</td>\n",
       "      <td>NaN</td>\n",
       "      <td>NaN</td>\n",
       "    </tr>\n",
       "    <tr>\n",
       "      <td>998744</td>\n",
       "      <td>NaN</td>\n",
       "      <td>NaN</td>\n",
       "      <td>NaN</td>\n",
       "      <td>NaN</td>\n",
       "      <td>NaN</td>\n",
       "      <td>NaN</td>\n",
       "    </tr>\n",
       "    <tr>\n",
       "      <td>998745</td>\n",
       "      <td>NaN</td>\n",
       "      <td>NaN</td>\n",
       "      <td>NaN</td>\n",
       "      <td>NaN</td>\n",
       "      <td>NaN</td>\n",
       "      <td>NaN</td>\n",
       "    </tr>\n",
       "    <tr>\n",
       "      <td>998746</td>\n",
       "      <td>NaN</td>\n",
       "      <td>NaN</td>\n",
       "      <td>NaN</td>\n",
       "      <td>NaN</td>\n",
       "      <td>NaN</td>\n",
       "      <td>NaN</td>\n",
       "    </tr>\n",
       "  </tbody>\n",
       "</table>\n",
       "<p>889646 rows × 6 columns</p>\n",
       "</div>"
      ],
      "text/plain": [
       "       first_name last_name class_code               organization  \\\n",
       "109101    FRANCIS    MORGAN        NaN  WORKERS' COMPENSATION COM   \n",
       "109102        NaN       NaN        NaN                        NaN   \n",
       "109103        NaN       NaN        NaN                        NaN   \n",
       "109104        NaN       NaN        NaN                        NaN   \n",
       "109105        NaN       NaN        NaN                        NaN   \n",
       "...           ...       ...        ...                        ...   \n",
       "998742        NaN       NaN        NaN                        NaN   \n",
       "998743        NaN       NaN        NaN                        NaN   \n",
       "998744        NaN       NaN        NaN                        NaN   \n",
       "998745        NaN       NaN        NaN                        NaN   \n",
       "998746        NaN       NaN        NaN                        NaN   \n",
       "\n",
       "        annual_salary  ytd_gross_earnings  \n",
       "109101        40000.0             40000.0  \n",
       "109102            NaN                 NaN  \n",
       "109103            NaN                 NaN  \n",
       "109104            NaN                 NaN  \n",
       "109105            NaN                 NaN  \n",
       "...               ...                 ...  \n",
       "998742            NaN                 NaN  \n",
       "998743            NaN                 NaN  \n",
       "998744            NaN                 NaN  \n",
       "998745            NaN                 NaN  \n",
       "998746            NaN                 NaN  \n",
       "\n",
       "[889646 rows x 6 columns]"
      ]
     },
     "execution_count": 124,
     "metadata": {},
     "output_type": "execute_result"
    }
   ],
   "source": [
    "state_df.iloc[109101:] #Looking at the data manually "
   ]
  },
  {
   "cell_type": "code",
   "execution_count": 125,
   "metadata": {},
   "outputs": [
    {
     "data": {
      "text/html": [
       "<div>\n",
       "<style scoped>\n",
       "    .dataframe tbody tr th:only-of-type {\n",
       "        vertical-align: middle;\n",
       "    }\n",
       "\n",
       "    .dataframe tbody tr th {\n",
       "        vertical-align: top;\n",
       "    }\n",
       "\n",
       "    .dataframe thead th {\n",
       "        text-align: right;\n",
       "    }\n",
       "</style>\n",
       "<table border=\"1\" class=\"dataframe\">\n",
       "  <thead>\n",
       "    <tr style=\"text-align: right;\">\n",
       "      <th></th>\n",
       "      <th>first_name</th>\n",
       "      <th>last_name</th>\n",
       "      <th>class_code</th>\n",
       "      <th>organization</th>\n",
       "      <th>annual_salary</th>\n",
       "      <th>ytd_gross_earnings</th>\n",
       "    </tr>\n",
       "  </thead>\n",
       "  <tbody>\n",
       "    <tr>\n",
       "      <td>431</td>\n",
       "      <td>PETER</td>\n",
       "      <td>FRANCHOT</td>\n",
       "      <td>NaN</td>\n",
       "      <td>COMPTROLLER OF MARYLAND</td>\n",
       "      <td>149000.0</td>\n",
       "      <td>149000.0</td>\n",
       "    </tr>\n",
       "    <tr>\n",
       "      <td>432</td>\n",
       "      <td>JUSTIN</td>\n",
       "      <td>HAYES</td>\n",
       "      <td>NaN</td>\n",
       "      <td>COMPTROLLER OF MARYLAND</td>\n",
       "      <td>79000.0</td>\n",
       "      <td>79000.0</td>\n",
       "    </tr>\n",
       "    <tr>\n",
       "      <td>433</td>\n",
       "      <td>OLIVIA</td>\n",
       "      <td>HENDERSON</td>\n",
       "      <td>NaN</td>\n",
       "      <td>COMPTROLLER OF MARYLAND</td>\n",
       "      <td>44000.0</td>\n",
       "      <td>44000.0</td>\n",
       "    </tr>\n",
       "    <tr>\n",
       "      <td>434</td>\n",
       "      <td>LESLEY</td>\n",
       "      <td>HUNTER</td>\n",
       "      <td>NaN</td>\n",
       "      <td>COMPTROLLER OF MARYLAND</td>\n",
       "      <td>85000.0</td>\n",
       "      <td>85000.0</td>\n",
       "    </tr>\n",
       "    <tr>\n",
       "      <td>435</td>\n",
       "      <td>MICHAEL</td>\n",
       "      <td>SALEM</td>\n",
       "      <td>NaN</td>\n",
       "      <td>COMPTROLLER OF MARYLAND</td>\n",
       "      <td>106000.0</td>\n",
       "      <td>106000.0</td>\n",
       "    </tr>\n",
       "    <tr>\n",
       "      <td>...</td>\n",
       "      <td>...</td>\n",
       "      <td>...</td>\n",
       "      <td>...</td>\n",
       "      <td>...</td>\n",
       "      <td>...</td>\n",
       "      <td>...</td>\n",
       "    </tr>\n",
       "    <tr>\n",
       "      <td>1565</td>\n",
       "      <td>ASSAM</td>\n",
       "      <td>ALI</td>\n",
       "      <td>NaN</td>\n",
       "      <td>COMPTROLLER OF MARYLAND</td>\n",
       "      <td>14000.0</td>\n",
       "      <td>14000.0</td>\n",
       "    </tr>\n",
       "    <tr>\n",
       "      <td>1566</td>\n",
       "      <td>MONICA</td>\n",
       "      <td>MARSHALL</td>\n",
       "      <td>NaN</td>\n",
       "      <td>COMPTROLLER OF MARYLAND</td>\n",
       "      <td>41000.0</td>\n",
       "      <td>41000.0</td>\n",
       "    </tr>\n",
       "    <tr>\n",
       "      <td>1567</td>\n",
       "      <td>JERILYN</td>\n",
       "      <td>REILAND</td>\n",
       "      <td>NaN</td>\n",
       "      <td>COMPTROLLER OF MARYLAND</td>\n",
       "      <td>54000.0</td>\n",
       "      <td>58000.0</td>\n",
       "    </tr>\n",
       "    <tr>\n",
       "      <td>1568</td>\n",
       "      <td>SECELY</td>\n",
       "      <td>SMITH</td>\n",
       "      <td>NaN</td>\n",
       "      <td>COMPTROLLER OF MARYLAND</td>\n",
       "      <td>65000.0</td>\n",
       "      <td>65000.0</td>\n",
       "    </tr>\n",
       "    <tr>\n",
       "      <td>1569</td>\n",
       "      <td>ANA</td>\n",
       "      <td>REFUGIA</td>\n",
       "      <td>NaN</td>\n",
       "      <td>COMPTROLLER OF MARYLAND</td>\n",
       "      <td>73000.0</td>\n",
       "      <td>73000.0</td>\n",
       "    </tr>\n",
       "  </tbody>\n",
       "</table>\n",
       "<p>1139 rows × 6 columns</p>\n",
       "</div>"
      ],
      "text/plain": [
       "     first_name  last_name class_code             organization  annual_salary  \\\n",
       "431       PETER   FRANCHOT        NaN  COMPTROLLER OF MARYLAND       149000.0   \n",
       "432      JUSTIN      HAYES        NaN  COMPTROLLER OF MARYLAND        79000.0   \n",
       "433      OLIVIA  HENDERSON        NaN  COMPTROLLER OF MARYLAND        44000.0   \n",
       "434      LESLEY     HUNTER        NaN  COMPTROLLER OF MARYLAND        85000.0   \n",
       "435     MICHAEL      SALEM        NaN  COMPTROLLER OF MARYLAND       106000.0   \n",
       "...         ...        ...        ...                      ...            ...   \n",
       "1565      ASSAM        ALI        NaN  COMPTROLLER OF MARYLAND        14000.0   \n",
       "1566     MONICA   MARSHALL        NaN  COMPTROLLER OF MARYLAND        41000.0   \n",
       "1567    JERILYN    REILAND        NaN  COMPTROLLER OF MARYLAND        54000.0   \n",
       "1568     SECELY      SMITH        NaN  COMPTROLLER OF MARYLAND        65000.0   \n",
       "1569        ANA    REFUGIA        NaN  COMPTROLLER OF MARYLAND        73000.0   \n",
       "\n",
       "      ytd_gross_earnings  \n",
       "431             149000.0  \n",
       "432              79000.0  \n",
       "433              44000.0  \n",
       "434              85000.0  \n",
       "435             106000.0  \n",
       "...                  ...  \n",
       "1565             14000.0  \n",
       "1566             41000.0  \n",
       "1567             58000.0  \n",
       "1568             65000.0  \n",
       "1569             73000.0  \n",
       "\n",
       "[1139 rows x 6 columns]"
      ]
     },
     "execution_count": 125,
     "metadata": {},
     "output_type": "execute_result"
    }
   ],
   "source": [
    "state_df.loc[state_df['organization']=='COMPTROLLER OF MARYLAND'] #Just seeing one specific organization "
   ]
  },
  {
   "cell_type": "code",
   "execution_count": 126,
   "metadata": {},
   "outputs": [
    {
     "data": {
      "text/html": [
       "<div>\n",
       "<style scoped>\n",
       "    .dataframe tbody tr th:only-of-type {\n",
       "        vertical-align: middle;\n",
       "    }\n",
       "\n",
       "    .dataframe tbody tr th {\n",
       "        vertical-align: top;\n",
       "    }\n",
       "\n",
       "    .dataframe thead th {\n",
       "        text-align: right;\n",
       "    }\n",
       "</style>\n",
       "<table border=\"1\" class=\"dataframe\">\n",
       "  <thead>\n",
       "    <tr style=\"text-align: right;\">\n",
       "      <th></th>\n",
       "      <th>last_name</th>\n",
       "      <th>class_code</th>\n",
       "      <th>organization</th>\n",
       "      <th>annual_salary</th>\n",
       "      <th>ytd_gross_earnings</th>\n",
       "    </tr>\n",
       "  </thead>\n",
       "  <tbody>\n",
       "    <tr>\n",
       "      <td>0</td>\n",
       "      <td>STAPLES</td>\n",
       "      <td>NaN</td>\n",
       "      <td>BALTO CITY COMMUNITY COLLEGE</td>\n",
       "      <td>34000.0</td>\n",
       "      <td>37000.0</td>\n",
       "    </tr>\n",
       "    <tr>\n",
       "      <td>1</td>\n",
       "      <td>ISMAIL</td>\n",
       "      <td>NaN</td>\n",
       "      <td>BALTO CITY COMMUNITY COLLEGE</td>\n",
       "      <td>13000.0</td>\n",
       "      <td>13000.0</td>\n",
       "    </tr>\n",
       "    <tr>\n",
       "      <td>2</td>\n",
       "      <td>BECKETTS</td>\n",
       "      <td>NaN</td>\n",
       "      <td>BALTO CITY COMMUNITY COLLEGE</td>\n",
       "      <td>99000.0</td>\n",
       "      <td>99000.0</td>\n",
       "    </tr>\n",
       "    <tr>\n",
       "      <td>3</td>\n",
       "      <td>MACKEY</td>\n",
       "      <td>NaN</td>\n",
       "      <td>BALTO CITY COMMUNITY COLLEGE</td>\n",
       "      <td>75000.0</td>\n",
       "      <td>76000.0</td>\n",
       "    </tr>\n",
       "    <tr>\n",
       "      <td>4</td>\n",
       "      <td>SHIVELY</td>\n",
       "      <td>NaN</td>\n",
       "      <td>BALTO CITY COMMUNITY COLLEGE</td>\n",
       "      <td>10000.0</td>\n",
       "      <td>10000.0</td>\n",
       "    </tr>\n",
       "    <tr>\n",
       "      <td>5</td>\n",
       "      <td>BERROCAL</td>\n",
       "      <td>NaN</td>\n",
       "      <td>BALTO CITY COMMUNITY COLLEGE</td>\n",
       "      <td>51000.0</td>\n",
       "      <td>55000.0</td>\n",
       "    </tr>\n",
       "    <tr>\n",
       "      <td>6</td>\n",
       "      <td>GYESIE</td>\n",
       "      <td>NaN</td>\n",
       "      <td>BALTO CITY COMMUNITY COLLEGE</td>\n",
       "      <td>77000.0</td>\n",
       "      <td>77000.0</td>\n",
       "    </tr>\n",
       "    <tr>\n",
       "      <td>7</td>\n",
       "      <td>FOSTER</td>\n",
       "      <td>NaN</td>\n",
       "      <td>BALTO CITY COMMUNITY COLLEGE</td>\n",
       "      <td>44000.0</td>\n",
       "      <td>44000.0</td>\n",
       "    </tr>\n",
       "    <tr>\n",
       "      <td>8</td>\n",
       "      <td>RAO</td>\n",
       "      <td>NaN</td>\n",
       "      <td>BALTO CITY COMMUNITY COLLEGE</td>\n",
       "      <td>53000.0</td>\n",
       "      <td>53000.0</td>\n",
       "    </tr>\n",
       "    <tr>\n",
       "      <td>9</td>\n",
       "      <td>OLIVERMOORE</td>\n",
       "      <td>NaN</td>\n",
       "      <td>BALTO CITY COMMUNITY COLLEGE</td>\n",
       "      <td>11000.0</td>\n",
       "      <td>11000.0</td>\n",
       "    </tr>\n",
       "  </tbody>\n",
       "</table>\n",
       "</div>"
      ],
      "text/plain": [
       "     last_name class_code                  organization  annual_salary  \\\n",
       "0      STAPLES        NaN  BALTO CITY COMMUNITY COLLEGE        34000.0   \n",
       "1       ISMAIL        NaN  BALTO CITY COMMUNITY COLLEGE        13000.0   \n",
       "2     BECKETTS        NaN  BALTO CITY COMMUNITY COLLEGE        99000.0   \n",
       "3       MACKEY        NaN  BALTO CITY COMMUNITY COLLEGE        75000.0   \n",
       "4      SHIVELY        NaN  BALTO CITY COMMUNITY COLLEGE        10000.0   \n",
       "5     BERROCAL        NaN  BALTO CITY COMMUNITY COLLEGE        51000.0   \n",
       "6       GYESIE        NaN  BALTO CITY COMMUNITY COLLEGE        77000.0   \n",
       "7       FOSTER        NaN  BALTO CITY COMMUNITY COLLEGE        44000.0   \n",
       "8          RAO        NaN  BALTO CITY COMMUNITY COLLEGE        53000.0   \n",
       "9  OLIVERMOORE        NaN  BALTO CITY COMMUNITY COLLEGE        11000.0   \n",
       "\n",
       "   ytd_gross_earnings  \n",
       "0             37000.0  \n",
       "1             13000.0  \n",
       "2             99000.0  \n",
       "3             76000.0  \n",
       "4             10000.0  \n",
       "5             55000.0  \n",
       "6             77000.0  \n",
       "7             44000.0  \n",
       "8             53000.0  \n",
       "9             11000.0  "
      ]
     },
     "execution_count": 126,
     "metadata": {},
     "output_type": "execute_result"
    }
   ],
   "source": [
    "state_df.loc[0:9,'last_name' : 'ytd_gross_earnings'] #Let's see the all columns from last name to ytd gross earnings "
   ]
  },
  {
   "cell_type": "code",
   "execution_count": 127,
   "metadata": {},
   "outputs": [
    {
     "data": {
      "text/html": [
       "<div>\n",
       "<style scoped>\n",
       "    .dataframe tbody tr th:only-of-type {\n",
       "        vertical-align: middle;\n",
       "    }\n",
       "\n",
       "    .dataframe tbody tr th {\n",
       "        vertical-align: top;\n",
       "    }\n",
       "\n",
       "    .dataframe thead th {\n",
       "        text-align: right;\n",
       "    }\n",
       "</style>\n",
       "<table border=\"1\" class=\"dataframe\">\n",
       "  <thead>\n",
       "    <tr style=\"text-align: right;\">\n",
       "      <th></th>\n",
       "      <th>first_name</th>\n",
       "      <th>last_name</th>\n",
       "      <th>class_code</th>\n",
       "      <th>organization</th>\n",
       "      <th>annual_salary</th>\n",
       "      <th>ytd_gross_earnings</th>\n",
       "    </tr>\n",
       "  </thead>\n",
       "  <tbody>\n",
       "    <tr>\n",
       "      <td>60918</td>\n",
       "      <td>BARTLEY</td>\n",
       "      <td>GRIFFITH</td>\n",
       "      <td>NaN</td>\n",
       "      <td>UNIVERSITY OF MARYLAND</td>\n",
       "      <td>967000.0</td>\n",
       "      <td>967000.0</td>\n",
       "    </tr>\n",
       "  </tbody>\n",
       "</table>\n",
       "</div>"
      ],
      "text/plain": [
       "      first_name last_name class_code            organization  annual_salary  \\\n",
       "60918    BARTLEY  GRIFFITH        NaN  UNIVERSITY OF MARYLAND       967000.0   \n",
       "\n",
       "       ytd_gross_earnings  \n",
       "60918            967000.0  "
      ]
     },
     "execution_count": 127,
     "metadata": {},
     "output_type": "execute_result"
    }
   ],
   "source": [
    "state_df[state_df['annual_salary']==state_df['annual_salary'].max()] #Figure out the maximum salary "
   ]
  },
  {
   "cell_type": "markdown",
   "metadata": {},
   "source": [
    "##DATA VISUALIZATIONS##"
   ]
  },
  {
   "cell_type": "code",
   "execution_count": null,
   "metadata": {},
   "outputs": [],
   "source": [
    "#import the relevant libraries \n",
    "import pandas as pd\n",
    "import seaborn as sns\n",
    "import matplotlib.pyplot as plt\n",
    "\n",
    "\n",
    "\n",
    "%matplotlib inline\n",
    "\n",
    "plt.style.use('bmh')"
   ]
  },
  {
   "cell_type": "code",
   "execution_count": 142,
   "metadata": {},
   "outputs": [
    {
     "name": "stdout",
     "output_type": "stream",
     "text": [
      "count    109102.000000\n",
      "mean      44691.096405\n",
      "std       44122.397519\n",
      "min           0.000000\n",
      "25%        5000.000000\n",
      "50%       43000.000000\n",
      "75%       63000.000000\n",
      "max      967000.000000\n",
      "Name: annual_salary, dtype: float64\n"
     ]
    },
    {
     "name": "stderr",
     "output_type": "stream",
     "text": [
      "C:\\Users\\nasir\\Anaconda3\\lib\\site-packages\\numpy\\lib\\histograms.py:824: RuntimeWarning: invalid value encountered in greater_equal\n",
      "  keep = (tmp_a >= first_edge)\n",
      "C:\\Users\\nasir\\Anaconda3\\lib\\site-packages\\numpy\\lib\\histograms.py:825: RuntimeWarning: invalid value encountered in less_equal\n",
      "  keep &= (tmp_a <= last_edge)\n",
      "C:\\Users\\nasir\\Anaconda3\\lib\\site-packages\\statsmodels\\nonparametric\\kde.py:447: RuntimeWarning: invalid value encountered in greater\n",
      "  X = X[np.logical_and(X > clip[0], X < clip[1])] # won't work for two columns.\n",
      "C:\\Users\\nasir\\Anaconda3\\lib\\site-packages\\statsmodels\\nonparametric\\kde.py:447: RuntimeWarning: invalid value encountered in less\n",
      "  X = X[np.logical_and(X > clip[0], X < clip[1])] # won't work for two columns.\n"
     ]
    },
    {
     "data": {
      "image/png": "[encoded data removed]",
      "text/plain": [
       "<Figure size 648x576 with 1 Axes>"
      ]
     },
     "metadata": {
      "needs_background": "light"
     },
     "output_type": "display_data"
    }
   ],
   "source": [
    "print(state_df['annual_salary'].describe()) #See the statistics\n",
    "plt.figure(figsize=(9, 8))\n",
    "plt.xlim(0,500000)\n",
    "sns.distplot(state_df['annual_salary'], color='b', bins=100, hist_kws={'alpha': 0.4});#Plot annual salary distribution "
   ]
  },
  {
   "cell_type": "code",
   "execution_count": 130,
   "metadata": {},
   "outputs": [
    {
     "name": "stdout",
     "output_type": "stream",
     "text": [
      "count    1.091020e+05\n",
      "mean     4.979769e+04\n",
      "std      4.814420e+04\n",
      "min      0.000000e+00\n",
      "25%      1.500000e+04\n",
      "50%      4.600000e+04\n",
      "75%      6.900000e+04\n",
      "max      4.793000e+06\n",
      "Name: ytd_gross_earnings, dtype: float64\n"
     ]
    },
    {
     "data": {
      "image/png": "[encoded data removed]",
      "text/plain": [
       "<Figure size 648x576 with 1 Axes>"
      ]
     },
     "metadata": {
      "needs_background": "light"
     },
     "output_type": "display_data"
    }
   ],
   "source": [
    "print(state_df['ytd_gross_earnings'].describe()) #Gross salary is slightly less than annual salary  \n",
    "plt.figure(figsize=(9, 8))\n",
    "plt.xlim(0,600000)\n",
    "sns.distplot(state_df['ytd_gross_earnings'], color='b', bins=100, hist_kws={'alpha': .3}); #plot ytd grosss salary "
   ]
  },
  {
   "cell_type": "code",
   "execution_count": 139,
   "metadata": {},
   "outputs": [
    {
     "data": {
      "image/png": "[encoded data removed]",
      "text/plain": [
       "<Figure size 432x288 with 1 Axes>"
      ]
     },
     "metadata": {
      "needs_background": "light"
     },
     "output_type": "display_data"
    }
   ],
   "source": [
    "boxplot = state_df.boxplot(column=[\"annual_salary\"]) #boxplot of annual_salary \n"
   ]
  },
  {
   "cell_type": "code",
   "execution_count": 134,
   "metadata": {},
   "outputs": [
    {
     "data": {
      "image/png": "[encoded data removed]",
      "text/plain": [
       "<Figure size 432x288 with 1 Axes>"
      ]
     },
     "metadata": {
      "needs_background": "light"
     },
     "output_type": "display_data"
    }
   ],
   "source": [
    "boxplot = state_df.boxplot(column=[\"ytd_gross_earnings\"]) #box plot of gross salary \n"
   ]
  },
  {
   "cell_type": "code",
   "execution_count": 34,
   "metadata": {},
   "outputs": [
    {
     "data": {
      "text/plain": [
       "<matplotlib.axes._subplots.AxesSubplot at 0x24e18dd3848>"
      ]
     },
     "execution_count": 34,
     "metadata": {},
     "output_type": "execute_result"
    },
    {
     "data": {
      "image/png": "[encoded data removed]",
      "text/plain": [
       "<Figure size 432x288 with 2 Axes>"
      ]
     },
     "metadata": {
      "needs_background": "light"
     },
     "output_type": "display_data"
    }
   ],
   "source": [
    "sns.heatmap(state_df.corr(),fmt = \".5f\")"
   ]
  }
 ],
 "metadata": {
  "kernelspec": {
   "display_name": "Python 3",
   "language": "python",
   "name": "python3"
  }
 },
 "nbformat": 4,
 "nbformat_minor": 2
}
