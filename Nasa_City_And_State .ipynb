{
 "cells": [
  {
   "cell_type": "markdown",
   "metadata": {},
   "source": [
    "I will be using the same dataset for the second project as I did for the first project. In addition, I will use one more dataset to verify my hypothesis. In the first part of the project, I did exploratory data analysis without having any assumptions or questions in mind. In this part of the project, I will propose two hypothesis and use the data to either accept or reject those hypotheses. \n",
    "The first dataset was collected from : https://data.baltimorecity.gov/City-Government/Baltimore-City-Employee-Salaries-FY2018/biyh-j8tc. \n",
    "The data provides us with the salary of the employees of the City of Baltimore for the year 2018. I also work for the City of Baltimore. So, I’m familiar with content of the dataset. The data was discovered from the sources the professor had provided. The data consists of the following information: Name, Job title, Department ID, Description, Hire Date, Annual Income, and Gross Salary. The dataset has 13682 rows and 7 columns. The data is 5.3 megabytes.\n",
    "\n",
    "The second the dataset was collected from: https://salaries.news.baltimoresun.com/\n",
    "The data provides us with the salary of the employees of the State of Maryland for the year 2018. The data set was acquired from Baltimore Sun’s yearly publication of government employee salaries. The dataset contains 17 columns and 998,747 rows. I used the following 6 columns to do my analysis: first name, last name, class code, organization, annual salary, and year-to-date earnings. \n",
    "\n",
    "Hypothesis 1: On average, state employees earn a bigger salary than city employees. \n",
    "Hypothesis 2: The range of salary of city and state employees are about the same. \n"
   ]
  },
  {
   "cell_type": "code",
   "execution_count": 1,
   "metadata": {},
   "outputs": [
    {
     "data": {
      "text/plain": [
       "'0.25.1'"
      ]
     },
     "execution_count": 1,
     "metadata": {},
     "output_type": "execute_result"
    }
   ],
   "source": [
    "import pandas\n",
    "import numpy as np \n",
    "pandas.__version__ #import libraries "
   ]
  },
  {
   "cell_type": "code",
   "execution_count": 2,
   "metadata": {},
   "outputs": [
    {
     "name": "stderr",
     "output_type": "stream",
     "text": [
      "C:\\Users\\nasir\\Anaconda3\\lib\\site-packages\\IPython\\core\\interactiveshell.py:3058: DtypeWarning: Columns (0,1,2,3,4,6,7,10,15,16) have mixed types. Specify dtype option on import or set low_memory=False.\n",
      "  interactivity=interactivity, compiler=compiler, result=result)\n"
     ]
    },
    {
     "data": {
      "text/html": [
       "<div>\n",
       "<style scoped>\n",
       "    .dataframe tbody tr th:only-of-type {\n",
       "        vertical-align: middle;\n",
       "    }\n",
       "\n",
       "    .dataframe tbody tr th {\n",
       "        vertical-align: top;\n",
       "    }\n",
       "\n",
       "    .dataframe thead th {\n",
       "        text-align: right;\n",
       "    }\n",
       "</style>\n",
       "<table border=\"1\" class=\"dataframe\">\n",
       "  <thead>\n",
       "    <tr style=\"text-align: right;\">\n",
       "      <th></th>\n",
       "      <th>first_name</th>\n",
       "      <th>middle_initial</th>\n",
       "      <th>last_name</th>\n",
       "      <th>suffix</th>\n",
       "      <th>system</th>\n",
       "      <th>agency</th>\n",
       "      <th>organization</th>\n",
       "      <th>subtitle</th>\n",
       "      <th>class_code</th>\n",
       "      <th>annual_salary</th>\n",
       "      <th>pay_rate</th>\n",
       "      <th>regular_earnings</th>\n",
       "      <th>overtime_earnings</th>\n",
       "      <th>other_earnings</th>\n",
       "      <th>ytd_gross_earnings</th>\n",
       "      <th>hire_date</th>\n",
       "      <th>term_date</th>\n",
       "    </tr>\n",
       "  </thead>\n",
       "  <tbody>\n",
       "    <tr>\n",
       "      <td>0</td>\n",
       "      <td>DANIEL</td>\n",
       "      <td>NaN</td>\n",
       "      <td>STAPLES</td>\n",
       "      <td>NaN</td>\n",
       "      <td>RG</td>\n",
       "      <td>360300.0</td>\n",
       "      <td>BALTO CITY COMMUNITY COLLEGE</td>\n",
       "      <td>360300</td>\n",
       "      <td>9004.0</td>\n",
       "      <td>79000.0</td>\n",
       "      <td>A</td>\n",
       "      <td>34000.0</td>\n",
       "      <td>0.0</td>\n",
       "      <td>4000.0</td>\n",
       "      <td>37000.0</td>\n",
       "      <td>5/23/18</td>\n",
       "      <td>0</td>\n",
       "    </tr>\n",
       "    <tr>\n",
       "      <td>1</td>\n",
       "      <td>RUBEENA</td>\n",
       "      <td>NaN</td>\n",
       "      <td>ISMAIL</td>\n",
       "      <td>NaN</td>\n",
       "      <td>RG</td>\n",
       "      <td>360300.0</td>\n",
       "      <td>BALTO CITY COMMUNITY COLLEGE</td>\n",
       "      <td>360300</td>\n",
       "      <td>9004.0</td>\n",
       "      <td>58000.0</td>\n",
       "      <td>A</td>\n",
       "      <td>13000.0</td>\n",
       "      <td>0.0</td>\n",
       "      <td>0.0</td>\n",
       "      <td>13000.0</td>\n",
       "      <td>9/12/18</td>\n",
       "      <td>0</td>\n",
       "    </tr>\n",
       "    <tr>\n",
       "      <td>2</td>\n",
       "      <td>NICOLE</td>\n",
       "      <td>U</td>\n",
       "      <td>BECKETTS</td>\n",
       "      <td>NaN</td>\n",
       "      <td>RG</td>\n",
       "      <td>360300.0</td>\n",
       "      <td>BALTO CITY COMMUNITY COLLEGE</td>\n",
       "      <td>360300</td>\n",
       "      <td>9004.0</td>\n",
       "      <td>99000.0</td>\n",
       "      <td>A</td>\n",
       "      <td>99000.0</td>\n",
       "      <td>0.0</td>\n",
       "      <td>0.0</td>\n",
       "      <td>99000.0</td>\n",
       "      <td>12/10/98</td>\n",
       "      <td>0</td>\n",
       "    </tr>\n",
       "    <tr>\n",
       "      <td>3</td>\n",
       "      <td>ELISABETH</td>\n",
       "      <td>C</td>\n",
       "      <td>MACKEY</td>\n",
       "      <td>NaN</td>\n",
       "      <td>RG</td>\n",
       "      <td>360300.0</td>\n",
       "      <td>BALTO CITY COMMUNITY COLLEGE</td>\n",
       "      <td>360300</td>\n",
       "      <td>9004.0</td>\n",
       "      <td>75000.0</td>\n",
       "      <td>A</td>\n",
       "      <td>75000.0</td>\n",
       "      <td>0.0</td>\n",
       "      <td>2000.0</td>\n",
       "      <td>76000.0</td>\n",
       "      <td>10/18/95</td>\n",
       "      <td>0</td>\n",
       "    </tr>\n",
       "    <tr>\n",
       "      <td>4</td>\n",
       "      <td>PAUL</td>\n",
       "      <td>E</td>\n",
       "      <td>SHIVELY</td>\n",
       "      <td>NaN</td>\n",
       "      <td>RG</td>\n",
       "      <td>360300.0</td>\n",
       "      <td>BALTO CITY COMMUNITY COLLEGE</td>\n",
       "      <td>360300</td>\n",
       "      <td>9004.0</td>\n",
       "      <td>90000.0</td>\n",
       "      <td>A</td>\n",
       "      <td>10000.0</td>\n",
       "      <td>0.0</td>\n",
       "      <td>0.0</td>\n",
       "      <td>10000.0</td>\n",
       "      <td>11/7/18</td>\n",
       "      <td>0</td>\n",
       "    </tr>\n",
       "  </tbody>\n",
       "</table>\n",
       "</div>"
      ],
      "text/plain": [
       "  first_name middle_initial last_name suffix  system    agency  \\\n",
       "0     DANIEL            NaN   STAPLES     NaN     RG  360300.0   \n",
       "1    RUBEENA            NaN    ISMAIL     NaN     RG  360300.0   \n",
       "2     NICOLE              U  BECKETTS     NaN     RG  360300.0   \n",
       "3  ELISABETH              C    MACKEY     NaN     RG  360300.0   \n",
       "4       PAUL              E   SHIVELY     NaN     RG  360300.0   \n",
       "\n",
       "                   organization subtitle  class_code  annual_salary pay_rate  \\\n",
       "0  BALTO CITY COMMUNITY COLLEGE   360300      9004.0        79000.0        A   \n",
       "1  BALTO CITY COMMUNITY COLLEGE   360300      9004.0        58000.0        A   \n",
       "2  BALTO CITY COMMUNITY COLLEGE   360300      9004.0        99000.0        A   \n",
       "3  BALTO CITY COMMUNITY COLLEGE   360300      9004.0        75000.0        A   \n",
       "4  BALTO CITY COMMUNITY COLLEGE   360300      9004.0        90000.0        A   \n",
       "\n",
       "   regular_earnings  overtime_earnings  other_earnings  ytd_gross_earnings  \\\n",
       "0           34000.0                0.0          4000.0             37000.0   \n",
       "1           13000.0                0.0             0.0             13000.0   \n",
       "2           99000.0                0.0             0.0             99000.0   \n",
       "3           75000.0                0.0          2000.0             76000.0   \n",
       "4           10000.0                0.0             0.0             10000.0   \n",
       "\n",
       "  hire_date term_date  \n",
       "0   5/23/18         0  \n",
       "1   9/12/18         0  \n",
       "2  12/10/98         0  \n",
       "3  10/18/95         0  \n",
       "4   11/7/18         0  "
      ]
     },
     "execution_count": 2,
     "metadata": {},
     "output_type": "execute_result"
    }
   ],
   "source": [
    "state_df = pandas.read_csv('C:\\\\Users\\\\nasir\\\\Desktop\\\\Data 602\\\\cy2018-md.csv') #Load the csv file \n",
    "state_df.head()"
   ]
  },
  {
   "cell_type": "code",
   "execution_count": 3,
   "metadata": {},
   "outputs": [
    {
     "data": {
      "text/html": [
       "<div>\n",
       "<style scoped>\n",
       "    .dataframe tbody tr th:only-of-type {\n",
       "        vertical-align: middle;\n",
       "    }\n",
       "\n",
       "    .dataframe tbody tr th {\n",
       "        vertical-align: top;\n",
       "    }\n",
       "\n",
       "    .dataframe thead th {\n",
       "        text-align: right;\n",
       "    }\n",
       "</style>\n",
       "<table border=\"1\" class=\"dataframe\">\n",
       "  <thead>\n",
       "    <tr style=\"text-align: right;\">\n",
       "      <th></th>\n",
       "      <th>NAME</th>\n",
       "      <th>JOBTITLE</th>\n",
       "      <th>DEPTID</th>\n",
       "      <th>DESCR</th>\n",
       "      <th>HIRE_DT</th>\n",
       "      <th>ANNUAL_RT</th>\n",
       "      <th>GROSS</th>\n",
       "    </tr>\n",
       "  </thead>\n",
       "  <tbody>\n",
       "    <tr>\n",
       "      <td>0</td>\n",
       "      <td>Aaron,Patricia G</td>\n",
       "      <td>Facilities/Office Services II</td>\n",
       "      <td>A03031</td>\n",
       "      <td>OED-Employment Dev (031)</td>\n",
       "      <td>10/24/1979 12:00:00 AM</td>\n",
       "      <td>60200.0</td>\n",
       "      <td>58480.46</td>\n",
       "    </tr>\n",
       "    <tr>\n",
       "      <td>1</td>\n",
       "      <td>Aaron,Petra L</td>\n",
       "      <td>Assistant State's Attorney</td>\n",
       "      <td>A29045</td>\n",
       "      <td>States Attorneys Office (045)</td>\n",
       "      <td>09/25/2006 12:00:00 AM</td>\n",
       "      <td>81200.0</td>\n",
       "      <td>79220.72</td>\n",
       "    </tr>\n",
       "    <tr>\n",
       "      <td>2</td>\n",
       "      <td>Abadir,Adam O</td>\n",
       "      <td>Council Technician</td>\n",
       "      <td>A02002</td>\n",
       "      <td>City Council (002)</td>\n",
       "      <td>12/12/2016 12:00:00 AM</td>\n",
       "      <td>64823.0</td>\n",
       "      <td>57375.31</td>\n",
       "    </tr>\n",
       "    <tr>\n",
       "      <td>3</td>\n",
       "      <td>Abaku,Aigbolosimuan O</td>\n",
       "      <td>Police Officer Trainee</td>\n",
       "      <td>A99416</td>\n",
       "      <td>Police Department (416)</td>\n",
       "      <td>04/17/2018 12:00:00 AM</td>\n",
       "      <td>50440.0</td>\n",
       "      <td>11881.34</td>\n",
       "    </tr>\n",
       "    <tr>\n",
       "      <td>4</td>\n",
       "      <td>Abbeduto,Mack</td>\n",
       "      <td>Law Clerk SAO</td>\n",
       "      <td>A29017</td>\n",
       "      <td>States Attorneys Office (017)</td>\n",
       "      <td>05/22/2017 12:00:00 AM</td>\n",
       "      <td>38926.0</td>\n",
       "      <td>35138.40</td>\n",
       "    </tr>\n",
       "  </tbody>\n",
       "</table>\n",
       "</div>"
      ],
      "text/plain": [
       "                    NAME                       JOBTITLE  DEPTID  \\\n",
       "0       Aaron,Patricia G  Facilities/Office Services II  A03031   \n",
       "1          Aaron,Petra L     Assistant State's Attorney  A29045   \n",
       "2          Abadir,Adam O             Council Technician  A02002   \n",
       "3  Abaku,Aigbolosimuan O         Police Officer Trainee  A99416   \n",
       "4          Abbeduto,Mack                  Law Clerk SAO  A29017   \n",
       "\n",
       "                           DESCR                 HIRE_DT  ANNUAL_RT     GROSS  \n",
       "0       OED-Employment Dev (031)  10/24/1979 12:00:00 AM    60200.0  58480.46  \n",
       "1  States Attorneys Office (045)  09/25/2006 12:00:00 AM    81200.0  79220.72  \n",
       "2             City Council (002)  12/12/2016 12:00:00 AM    64823.0  57375.31  \n",
       "3        Police Department (416)  04/17/2018 12:00:00 AM    50440.0  11881.34  \n",
       "4  States Attorneys Office (017)  05/22/2017 12:00:00 AM    38926.0  35138.40  "
      ]
     },
     "execution_count": 3,
     "metadata": {},
     "output_type": "execute_result"
    }
   ],
   "source": [
    "city_df = pandas.read_csv('C:\\\\Users\\\\nasir\\\\Desktop\\\\Data 601\\\\Week 4\\\\Baltimore_City_Employee_Salaries_FY2018.csv')\n",
    "city_df.head() #load the data "
   ]
  },
  {
   "cell_type": "code",
   "execution_count": 4,
   "metadata": {},
   "outputs": [],
   "source": [
    "state_df = state_df.drop([\n",
    "'middle_initial',\n",
    "'system',\n",
    "'agency',\n",
    "'subtitle',\n",
    "'class_code',\n",
    "'annual_salary',\n",
    "'pay_rate',\n",
    "'overtime_earnings',\n",
    "'other_earnings',\n",
    "'hire_date',\n",
    "'term_date'], axis='columns') #drop irrelevant columns"
   ]
  },
  {
   "cell_type": "code",
   "execution_count": 5,
   "metadata": {},
   "outputs": [
    {
     "data": {
      "text/html": [
       "<div>\n",
       "<style scoped>\n",
       "    .dataframe tbody tr th:only-of-type {\n",
       "        vertical-align: middle;\n",
       "    }\n",
       "\n",
       "    .dataframe tbody tr th {\n",
       "        vertical-align: top;\n",
       "    }\n",
       "\n",
       "    .dataframe thead th {\n",
       "        text-align: right;\n",
       "    }\n",
       "</style>\n",
       "<table border=\"1\" class=\"dataframe\">\n",
       "  <thead>\n",
       "    <tr style=\"text-align: right;\">\n",
       "      <th></th>\n",
       "      <th>first_name</th>\n",
       "      <th>last_name</th>\n",
       "      <th>class_code</th>\n",
       "      <th>organization</th>\n",
       "      <th>annual_salary</th>\n",
       "      <th>ytd_gross_earnings</th>\n",
       "    </tr>\n",
       "  </thead>\n",
       "  <tbody>\n",
       "    <tr>\n",
       "      <td>0</td>\n",
       "      <td>DANIEL</td>\n",
       "      <td>STAPLES</td>\n",
       "      <td>NaN</td>\n",
       "      <td>BALTO CITY COMMUNITY COLLEGE</td>\n",
       "      <td>34000.0</td>\n",
       "      <td>37000.0</td>\n",
       "    </tr>\n",
       "    <tr>\n",
       "      <td>1</td>\n",
       "      <td>RUBEENA</td>\n",
       "      <td>ISMAIL</td>\n",
       "      <td>NaN</td>\n",
       "      <td>BALTO CITY COMMUNITY COLLEGE</td>\n",
       "      <td>13000.0</td>\n",
       "      <td>13000.0</td>\n",
       "    </tr>\n",
       "    <tr>\n",
       "      <td>2</td>\n",
       "      <td>NICOLE</td>\n",
       "      <td>BECKETTS</td>\n",
       "      <td>NaN</td>\n",
       "      <td>BALTO CITY COMMUNITY COLLEGE</td>\n",
       "      <td>99000.0</td>\n",
       "      <td>99000.0</td>\n",
       "    </tr>\n",
       "    <tr>\n",
       "      <td>3</td>\n",
       "      <td>ELISABETH</td>\n",
       "      <td>MACKEY</td>\n",
       "      <td>NaN</td>\n",
       "      <td>BALTO CITY COMMUNITY COLLEGE</td>\n",
       "      <td>75000.0</td>\n",
       "      <td>76000.0</td>\n",
       "    </tr>\n",
       "    <tr>\n",
       "      <td>4</td>\n",
       "      <td>PAUL</td>\n",
       "      <td>SHIVELY</td>\n",
       "      <td>NaN</td>\n",
       "      <td>BALTO CITY COMMUNITY COLLEGE</td>\n",
       "      <td>10000.0</td>\n",
       "      <td>10000.0</td>\n",
       "    </tr>\n",
       "  </tbody>\n",
       "</table>\n",
       "</div>"
      ],
      "text/plain": [
       "  first_name last_name class_code                  organization  \\\n",
       "0     DANIEL   STAPLES        NaN  BALTO CITY COMMUNITY COLLEGE   \n",
       "1    RUBEENA    ISMAIL        NaN  BALTO CITY COMMUNITY COLLEGE   \n",
       "2     NICOLE  BECKETTS        NaN  BALTO CITY COMMUNITY COLLEGE   \n",
       "3  ELISABETH    MACKEY        NaN  BALTO CITY COMMUNITY COLLEGE   \n",
       "4       PAUL   SHIVELY        NaN  BALTO CITY COMMUNITY COLLEGE   \n",
       "\n",
       "   annual_salary  ytd_gross_earnings  \n",
       "0        34000.0             37000.0  \n",
       "1        13000.0             13000.0  \n",
       "2        99000.0             99000.0  \n",
       "3        75000.0             76000.0  \n",
       "4        10000.0             10000.0  "
      ]
     },
     "execution_count": 5,
     "metadata": {},
     "output_type": "execute_result"
    }
   ],
   "source": [
    "state_df.columns=[\n",
    "'first_name',\n",
    "'last_name',\n",
    "'class_code',\n",
    "'organization',\n",
    "'annual_salary',\n",
    "'ytd_gross_earnings'] #Create a dataframe with important columns\n",
    "state_df.head()"
   ]
  },
  {
   "cell_type": "code",
   "execution_count": 6,
   "metadata": {},
   "outputs": [
    {
     "data": {
      "text/html": [
       "<div>\n",
       "<style scoped>\n",
       "    .dataframe tbody tr th:only-of-type {\n",
       "        vertical-align: middle;\n",
       "    }\n",
       "\n",
       "    .dataframe tbody tr th {\n",
       "        vertical-align: top;\n",
       "    }\n",
       "\n",
       "    .dataframe thead th {\n",
       "        text-align: right;\n",
       "    }\n",
       "</style>\n",
       "<table border=\"1\" class=\"dataframe\">\n",
       "  <thead>\n",
       "    <tr style=\"text-align: right;\">\n",
       "      <th></th>\n",
       "      <th>NAME</th>\n",
       "      <th>JOBTITLE</th>\n",
       "      <th>DEPTID</th>\n",
       "      <th>DESCR</th>\n",
       "      <th>HIRE_DT</th>\n",
       "      <th>BASE_PAY</th>\n",
       "      <th>GROSS_EARNING</th>\n",
       "    </tr>\n",
       "  </thead>\n",
       "  <tbody>\n",
       "    <tr>\n",
       "      <td>0</td>\n",
       "      <td>Aaron,Patricia G</td>\n",
       "      <td>Facilities/Office Services II</td>\n",
       "      <td>A03031</td>\n",
       "      <td>OED-Employment Dev (031)</td>\n",
       "      <td>10/24/1979 12:00:00 AM</td>\n",
       "      <td>60200.0</td>\n",
       "      <td>58480.46</td>\n",
       "    </tr>\n",
       "    <tr>\n",
       "      <td>1</td>\n",
       "      <td>Aaron,Petra L</td>\n",
       "      <td>Assistant State's Attorney</td>\n",
       "      <td>A29045</td>\n",
       "      <td>States Attorneys Office (045)</td>\n",
       "      <td>09/25/2006 12:00:00 AM</td>\n",
       "      <td>81200.0</td>\n",
       "      <td>79220.72</td>\n",
       "    </tr>\n",
       "    <tr>\n",
       "      <td>2</td>\n",
       "      <td>Abadir,Adam O</td>\n",
       "      <td>Council Technician</td>\n",
       "      <td>A02002</td>\n",
       "      <td>City Council (002)</td>\n",
       "      <td>12/12/2016 12:00:00 AM</td>\n",
       "      <td>64823.0</td>\n",
       "      <td>57375.31</td>\n",
       "    </tr>\n",
       "    <tr>\n",
       "      <td>3</td>\n",
       "      <td>Abaku,Aigbolosimuan O</td>\n",
       "      <td>Police Officer Trainee</td>\n",
       "      <td>A99416</td>\n",
       "      <td>Police Department (416)</td>\n",
       "      <td>04/17/2018 12:00:00 AM</td>\n",
       "      <td>50440.0</td>\n",
       "      <td>11881.34</td>\n",
       "    </tr>\n",
       "    <tr>\n",
       "      <td>4</td>\n",
       "      <td>Abbeduto,Mack</td>\n",
       "      <td>Law Clerk SAO</td>\n",
       "      <td>A29017</td>\n",
       "      <td>States Attorneys Office (017)</td>\n",
       "      <td>05/22/2017 12:00:00 AM</td>\n",
       "      <td>38926.0</td>\n",
       "      <td>35138.40</td>\n",
       "    </tr>\n",
       "  </tbody>\n",
       "</table>\n",
       "</div>"
      ],
      "text/plain": [
       "                    NAME                       JOBTITLE  DEPTID  \\\n",
       "0       Aaron,Patricia G  Facilities/Office Services II  A03031   \n",
       "1          Aaron,Petra L     Assistant State's Attorney  A29045   \n",
       "2          Abadir,Adam O             Council Technician  A02002   \n",
       "3  Abaku,Aigbolosimuan O         Police Officer Trainee  A99416   \n",
       "4          Abbeduto,Mack                  Law Clerk SAO  A29017   \n",
       "\n",
       "                           DESCR                 HIRE_DT  BASE_PAY  \\\n",
       "0       OED-Employment Dev (031)  10/24/1979 12:00:00 AM   60200.0   \n",
       "1  States Attorneys Office (045)  09/25/2006 12:00:00 AM   81200.0   \n",
       "2             City Council (002)  12/12/2016 12:00:00 AM   64823.0   \n",
       "3        Police Department (416)  04/17/2018 12:00:00 AM   50440.0   \n",
       "4  States Attorneys Office (017)  05/22/2017 12:00:00 AM   38926.0   \n",
       "\n",
       "   GROSS_EARNING  \n",
       "0       58480.46  \n",
       "1       79220.72  \n",
       "2       57375.31  \n",
       "3       11881.34  \n",
       "4       35138.40  "
      ]
     },
     "execution_count": 6,
     "metadata": {},
     "output_type": "execute_result"
    }
   ],
   "source": [
    "city_df.columns=['NAME','JOBTITLE','DEPTID','DESCR','HIRE_DT','BASE_PAY','GROSS_EARNING']\n",
    "city_df.head() #rename columns"
   ]
  },
  {
   "cell_type": "code",
   "execution_count": 8,
   "metadata": {},
   "outputs": [],
   "source": [
    "#import the relevant libraries \n",
    "import pandas as pd\n",
    "import seaborn as sns\n",
    "import matplotlib.pyplot as plt\n",
    "\n",
    "\n",
    "\n",
    "%matplotlib inline\n",
    "\n",
    "plt.style.use('bmh')"
   ]
  },
  {
   "cell_type": "code",
   "execution_count": 14,
   "metadata": {},
   "outputs": [
    {
     "name": "stdout",
     "output_type": "stream",
     "text": [
      "State Employee Salary Statistics:\n",
      "count    109102.000000\n",
      "mean      44691.096405\n",
      "std       44122.397519\n",
      "min           0.000000\n",
      "25%        5000.000000\n",
      "50%       43000.000000\n",
      "75%       63000.000000\n",
      "max      967000.000000\n",
      "Name: annual_salary, dtype: float64\n",
      "\u000b",
      "\n",
      "City Employee Salary Statistics:\n",
      "count     13522.000000\n",
      "mean      60729.312142\n",
      "std       36197.335957\n",
      "min           0.000000\n",
      "25%       37509.352500\n",
      "50%       57060.665000\n",
      "75%       81730.975000\n",
      "max      250197.500000\n",
      "Name: GROSS_EARNING, dtype: float64\n"
     ]
    }
   ],
   "source": [
    "print(\"State Employee Salary Statistics:\")\n",
    "print(state_df['annual_salary'].describe()) #View the summary statistics for State Salary \n",
    "print('\\v')\n",
    "print(\"City Employee Salary Statistics:\")\n",
    "print(city_df['GROSS_EARNING'].describe()) #View the summary statistics for City Salary "
   ]
  },
  {
   "cell_type": "code",
   "execution_count": 27,
   "metadata": {},
   "outputs": [
    {
     "data": {
      "text/plain": [
       "Text(0.5, 0, 'Yearly Salary')"
      ]
     },
     "execution_count": 27,
     "metadata": {},
     "output_type": "execute_result"
    },
    {
     "data": {
      "image/png": "[encoded data removed]",
      "text/plain": [
       "<Figure size 432x288 with 1 Axes>"
      ]
     },
     "metadata": {
      "needs_background": "light"
     },
     "output_type": "display_data"
    }
   ],
   "source": [
    "ax1 = sns.distplot(state_df['annual_salary'], color='b', bins=100, hist_kws={'alpha': 0.4});#Plot State Salary distribution\n",
    "ax1.set_title('State Employee Salary')\n",
    "ax1.set_ylabel('Increase')\n",
    "ax1.set_xlabel('Yearly Salary')"
   ]
  },
  {
   "cell_type": "code",
   "execution_count": 25,
   "metadata": {},
   "outputs": [
    {
     "data": {
      "text/plain": [
       "Text(0.5, 0, 'Yearly Salary')"
      ]
     },
     "execution_count": 25,
     "metadata": {},
     "output_type": "execute_result"
    },
    {
     "data": {
      "image/png": "[encoded data removed]",
      "text/plain": [
       "<Figure size 432x288 with 1 Axes>"
      ]
     },
     "metadata": {
      "needs_background": "light"
     },
     "output_type": "display_data"
    }
   ],
   "source": [
    "ax = sns.distplot(city_df['GROSS_EARNING'], color='b', bins=100, hist_kws={'alpha': 0.4}); #make a distplot \n",
    "ax.set_title('City Employee Salary')\n",
    "ax.set_ylabel('Increase')\n",
    "ax.set_xlabel('Yearly Salary')\n"
   ]
  },
  {
   "cell_type": "code",
   "execution_count": 28,
   "metadata": {},
   "outputs": [
    {
     "data": {
      "image/png": "[encoded data removed]",
      "text/plain": [
       "<Figure size 432x288 with 1 Axes>"
      ]
     },
     "metadata": {
      "needs_background": "light"
     },
     "output_type": "display_data"
    }
   ],
   "source": [
    "boxplot = state_df.boxplot(column=[\"annual_salary\"]) #boxplot of State Employee Salary "
   ]
  },
  {
   "cell_type": "code",
   "execution_count": 29,
   "metadata": {},
   "outputs": [
    {
     "data": {
      "image/png": "[encoded data removed]",
      "text/plain": [
       "<Figure size 432x288 with 1 Axes>"
      ]
     },
     "metadata": {
      "needs_background": "light"
     },
     "output_type": "display_data"
    }
   ],
   "source": [
    "boxplot1 = city_df.boxplot(column=['GROSS_EARNING']) #boxplot of City Employee Salary "
   ]
  },
  {
   "cell_type": "markdown",
   "metadata": {},
   "source": [
    "Hypothesis Analysis:\n",
    "    Hypothesis 1: On average, state employees earn a bigger salary than city employees. \n",
    "    Hypothesis 2: The range of salary of city and state employees are about the same. \n",
    "After analyzing and visualizing both of the datasets, I have come to the conclusion that my hypothesis were not valid. For \n",
    "Hypotheis 1, as you can see from the summary statistics and graphical depictions, the average City employee salary is $60,729 \n",
    "where as the average State Employee Salary is $44,691. There are couple of explanations for these results. It could be \n",
    "that I haven't separated the part time workers from the full-time ones. Also I have not sorted out the different organizations\n",
    "that the employees work for.(Doing these analysis would be beyond the scope of this project) \n",
    "As for Hypothesis 2,actually, the range of state employees is a lot bigger than the city employee one. The city employee\n",
    "salary ranges from $0 to $250,198 whereas the state employee salary ranges from $0 to $967,000. The explanation for these\n",
    "results could be that higher level of employees that work for the state than the city. They job is more complex and\n",
    "requires more expertise, therefore, they get much higher pay. (I could split the executives from the non-excutive employees\n",
    "which again is beyond the scope of this project)\n",
    "\n",
    "\n",
    "\n",
    "\n",
    "\n",
    "\n",
    "\n"
   ]
  }
 ],
 "metadata": {
  "kernelspec": {
   "display_name": "Python 3",
   "language": "python",
   "name": "python3"
  },
  "language_info": {
   "codemirror_mode": {
    "name": "ipython",
    "version": 3
   },
   "file_extension": ".py",
   "mimetype": "text/x-python",
   "name": "python",
   "nbconvert_exporter": "python",
   "pygments_lexer": "ipython3",
   "version": "3.7.4"
  }
 },
 "nbformat": 4,
 "nbformat_minor": 2
}
